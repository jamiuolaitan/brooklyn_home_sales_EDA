{
 "cells": [
  {
   "cell_type": "markdown",
   "metadata": {},
   "source": [
    "## DATA CLEANING AND MANIPULATION"
   ]
  },
  {
   "cell_type": "code",
   "execution_count": 1,
   "metadata": {},
   "outputs": [],
   "source": [
    "# Importing required libraries\n",
    "import pandas as pd\n",
    "pd.set_option('display.max_columns', None)\n",
    "import warnings\n",
    "warnings.filterwarnings(\"ignore\")\n",
    "from matplotlib import pyplot as plt"
   ]
  },
  {
   "cell_type": "code",
   "execution_count": 2,
   "metadata": {},
   "outputs": [],
   "source": [
    "df = pd.read_csv(\"brooklyn_sales_map.csv\", low_memory=False)"
   ]
  },
  {
   "cell_type": "code",
   "execution_count": 3,
   "metadata": {},
   "outputs": [
    {
     "data": {
      "text/plain": [
       "(390883, 111)"
      ]
     },
     "execution_count": 3,
     "metadata": {},
     "output_type": "execute_result"
    }
   ],
   "source": [
    "#checking the total rows and columns\n",
    "df.shape"
   ]
  },
  {
   "cell_type": "code",
   "execution_count": 4,
   "metadata": {},
   "outputs": [
    {
     "data": {
      "text/html": [
       "<div>\n",
       "<style scoped>\n",
       "    .dataframe tbody tr th:only-of-type {\n",
       "        vertical-align: middle;\n",
       "    }\n",
       "\n",
       "    .dataframe tbody tr th {\n",
       "        vertical-align: top;\n",
       "    }\n",
       "\n",
       "    .dataframe thead th {\n",
       "        text-align: right;\n",
       "    }\n",
       "</style>\n",
       "<table border=\"1\" class=\"dataframe\">\n",
       "  <thead>\n",
       "    <tr style=\"text-align: right;\">\n",
       "      <th></th>\n",
       "      <th>Unnamed: 0</th>\n",
       "      <th>borough</th>\n",
       "      <th>neighborhood</th>\n",
       "      <th>building_class_category</th>\n",
       "      <th>tax_class</th>\n",
       "      <th>block</th>\n",
       "      <th>lot</th>\n",
       "      <th>easement</th>\n",
       "      <th>building_class</th>\n",
       "      <th>address</th>\n",
       "      <th>apartment_number</th>\n",
       "      <th>zip_code</th>\n",
       "      <th>residential_units</th>\n",
       "      <th>commercial_units</th>\n",
       "      <th>total_units</th>\n",
       "      <th>land_sqft</th>\n",
       "      <th>gross_sqft</th>\n",
       "      <th>year_built</th>\n",
       "      <th>tax_class_at_sale</th>\n",
       "      <th>building_class_at_sale</th>\n",
       "      <th>sale_price</th>\n",
       "      <th>sale_date</th>\n",
       "      <th>year_of_sale</th>\n",
       "      <th>Borough</th>\n",
       "      <th>CD</th>\n",
       "      <th>CT2010</th>\n",
       "      <th>CB2010</th>\n",
       "      <th>SchoolDist</th>\n",
       "      <th>Council</th>\n",
       "      <th>ZipCode</th>\n",
       "      <th>FireComp</th>\n",
       "      <th>PolicePrct</th>\n",
       "      <th>HealthCent</th>\n",
       "      <th>HealthArea</th>\n",
       "      <th>SanitBoro</th>\n",
       "      <th>SanitDistr</th>\n",
       "      <th>SanitSub</th>\n",
       "      <th>Address</th>\n",
       "      <th>ZoneDist1</th>\n",
       "      <th>ZoneDist2</th>\n",
       "      <th>ZoneDist3</th>\n",
       "      <th>ZoneDist4</th>\n",
       "      <th>Overlay1</th>\n",
       "      <th>Overlay2</th>\n",
       "      <th>SPDist1</th>\n",
       "      <th>SPDist2</th>\n",
       "      <th>SPDist3</th>\n",
       "      <th>LtdHeight</th>\n",
       "      <th>SplitZone</th>\n",
       "      <th>BldgClass</th>\n",
       "      <th>LandUse</th>\n",
       "      <th>Easements</th>\n",
       "      <th>OwnerType</th>\n",
       "      <th>OwnerName</th>\n",
       "      <th>LotArea</th>\n",
       "      <th>BldgArea</th>\n",
       "      <th>ComArea</th>\n",
       "      <th>ResArea</th>\n",
       "      <th>OfficeArea</th>\n",
       "      <th>RetailArea</th>\n",
       "      <th>GarageArea</th>\n",
       "      <th>StrgeArea</th>\n",
       "      <th>FactryArea</th>\n",
       "      <th>OtherArea</th>\n",
       "      <th>AreaSource</th>\n",
       "      <th>NumBldgs</th>\n",
       "      <th>NumFloors</th>\n",
       "      <th>UnitsRes</th>\n",
       "      <th>UnitsTotal</th>\n",
       "      <th>LotFront</th>\n",
       "      <th>LotDepth</th>\n",
       "      <th>BldgFront</th>\n",
       "      <th>BldgDepth</th>\n",
       "      <th>Ext</th>\n",
       "      <th>ProxCode</th>\n",
       "      <th>IrrLotCode</th>\n",
       "      <th>LotType</th>\n",
       "      <th>BsmtCode</th>\n",
       "      <th>AssessLand</th>\n",
       "      <th>AssessTot</th>\n",
       "      <th>ExemptLand</th>\n",
       "      <th>ExemptTot</th>\n",
       "      <th>YearBuilt</th>\n",
       "      <th>YearAlter1</th>\n",
       "      <th>YearAlter2</th>\n",
       "      <th>HistDist</th>\n",
       "      <th>Landmark</th>\n",
       "      <th>BuiltFAR</th>\n",
       "      <th>ResidFAR</th>\n",
       "      <th>CommFAR</th>\n",
       "      <th>FacilFAR</th>\n",
       "      <th>BoroCode</th>\n",
       "      <th>BBL</th>\n",
       "      <th>CondoNo</th>\n",
       "      <th>Tract2010</th>\n",
       "      <th>XCoord</th>\n",
       "      <th>YCoord</th>\n",
       "      <th>ZoneMap</th>\n",
       "      <th>ZMCode</th>\n",
       "      <th>Sanborn</th>\n",
       "      <th>TaxMap</th>\n",
       "      <th>EDesigNum</th>\n",
       "      <th>APPBBL</th>\n",
       "      <th>APPDate</th>\n",
       "      <th>PLUTOMapID</th>\n",
       "      <th>FIRM07_FLA</th>\n",
       "      <th>PFIRM15_FL</th>\n",
       "      <th>Version</th>\n",
       "      <th>MAPPLUTO_F</th>\n",
       "      <th>SHAPE_Leng</th>\n",
       "      <th>SHAPE_Area</th>\n",
       "    </tr>\n",
       "  </thead>\n",
       "  <tbody>\n",
       "    <tr>\n",
       "      <th>0</th>\n",
       "      <td>1</td>\n",
       "      <td>3</td>\n",
       "      <td>DOWNTOWN-METROTECH</td>\n",
       "      <td>28  COMMERCIAL CONDOS</td>\n",
       "      <td>4</td>\n",
       "      <td>140</td>\n",
       "      <td>1001</td>\n",
       "      <td>NaN</td>\n",
       "      <td>R5</td>\n",
       "      <td>330 JAY STREET</td>\n",
       "      <td>COURT</td>\n",
       "      <td>11201</td>\n",
       "      <td>0</td>\n",
       "      <td>1</td>\n",
       "      <td>1</td>\n",
       "      <td>0.0</td>\n",
       "      <td>0.0</td>\n",
       "      <td>2002</td>\n",
       "      <td>4</td>\n",
       "      <td>R5</td>\n",
       "      <td>499401179.0</td>\n",
       "      <td>2008-04-23</td>\n",
       "      <td>2008</td>\n",
       "      <td>NaN</td>\n",
       "      <td>NaN</td>\n",
       "      <td>NaN</td>\n",
       "      <td>NaN</td>\n",
       "      <td>NaN</td>\n",
       "      <td>NaN</td>\n",
       "      <td>NaN</td>\n",
       "      <td>NaN</td>\n",
       "      <td>NaN</td>\n",
       "      <td>NaN</td>\n",
       "      <td>NaN</td>\n",
       "      <td>NaN</td>\n",
       "      <td>NaN</td>\n",
       "      <td>NaN</td>\n",
       "      <td>NaN</td>\n",
       "      <td>NaN</td>\n",
       "      <td>NaN</td>\n",
       "      <td>NaN</td>\n",
       "      <td>NaN</td>\n",
       "      <td>NaN</td>\n",
       "      <td>NaN</td>\n",
       "      <td>NaN</td>\n",
       "      <td>NaN</td>\n",
       "      <td>NaN</td>\n",
       "      <td>NaN</td>\n",
       "      <td>NaN</td>\n",
       "      <td>NaN</td>\n",
       "      <td>NaN</td>\n",
       "      <td>NaN</td>\n",
       "      <td>NaN</td>\n",
       "      <td>NaN</td>\n",
       "      <td>NaN</td>\n",
       "      <td>NaN</td>\n",
       "      <td>NaN</td>\n",
       "      <td>NaN</td>\n",
       "      <td>NaN</td>\n",
       "      <td>NaN</td>\n",
       "      <td>NaN</td>\n",
       "      <td>NaN</td>\n",
       "      <td>NaN</td>\n",
       "      <td>NaN</td>\n",
       "      <td>NaN</td>\n",
       "      <td>NaN</td>\n",
       "      <td>NaN</td>\n",
       "      <td>NaN</td>\n",
       "      <td>NaN</td>\n",
       "      <td>NaN</td>\n",
       "      <td>NaN</td>\n",
       "      <td>NaN</td>\n",
       "      <td>NaN</td>\n",
       "      <td>NaN</td>\n",
       "      <td>NaN</td>\n",
       "      <td>NaN</td>\n",
       "      <td>NaN</td>\n",
       "      <td>NaN</td>\n",
       "      <td>NaN</td>\n",
       "      <td>NaN</td>\n",
       "      <td>NaN</td>\n",
       "      <td>NaN</td>\n",
       "      <td>NaN</td>\n",
       "      <td>NaN</td>\n",
       "      <td>NaN</td>\n",
       "      <td>NaN</td>\n",
       "      <td>NaN</td>\n",
       "      <td>NaN</td>\n",
       "      <td>NaN</td>\n",
       "      <td>NaN</td>\n",
       "      <td>NaN</td>\n",
       "      <td>NaN</td>\n",
       "      <td>NaN</td>\n",
       "      <td>NaN</td>\n",
       "      <td>NaN</td>\n",
       "      <td>NaN</td>\n",
       "      <td>NaN</td>\n",
       "      <td>NaN</td>\n",
       "      <td>NaN</td>\n",
       "      <td>NaN</td>\n",
       "      <td>NaN</td>\n",
       "      <td>NaN</td>\n",
       "      <td>NaN</td>\n",
       "      <td>NaN</td>\n",
       "      <td>NaN</td>\n",
       "      <td>NaN</td>\n",
       "      <td>NaN</td>\n",
       "      <td>NaN</td>\n",
       "      <td>NaN</td>\n",
       "      <td>NaN</td>\n",
       "      <td>NaN</td>\n",
       "    </tr>\n",
       "    <tr>\n",
       "      <th>1</th>\n",
       "      <td>2</td>\n",
       "      <td>3</td>\n",
       "      <td>DOWNTOWN-FULTON FERRY</td>\n",
       "      <td>29  COMMERCIAL GARAGES</td>\n",
       "      <td>4</td>\n",
       "      <td>54</td>\n",
       "      <td>1</td>\n",
       "      <td>NaN</td>\n",
       "      <td>G7</td>\n",
       "      <td>85 JAY STREET</td>\n",
       "      <td>NaN</td>\n",
       "      <td>11201</td>\n",
       "      <td>0</td>\n",
       "      <td>0</td>\n",
       "      <td>0</td>\n",
       "      <td>134988.0</td>\n",
       "      <td>0.0</td>\n",
       "      <td>0</td>\n",
       "      <td>4</td>\n",
       "      <td>G7</td>\n",
       "      <td>345000000.0</td>\n",
       "      <td>2016-12-20</td>\n",
       "      <td>2016</td>\n",
       "      <td>BK</td>\n",
       "      <td>302.0</td>\n",
       "      <td>21.00</td>\n",
       "      <td>3017.0</td>\n",
       "      <td>13.0</td>\n",
       "      <td>33.0</td>\n",
       "      <td>11201.0</td>\n",
       "      <td>L118</td>\n",
       "      <td>84.0</td>\n",
       "      <td>36.0</td>\n",
       "      <td>1000.0</td>\n",
       "      <td>3.0</td>\n",
       "      <td>2.0</td>\n",
       "      <td>1B</td>\n",
       "      <td>87 JAY STREET</td>\n",
       "      <td>M1-2/R8</td>\n",
       "      <td>NaN</td>\n",
       "      <td>NaN</td>\n",
       "      <td>NaN</td>\n",
       "      <td>NaN</td>\n",
       "      <td>NaN</td>\n",
       "      <td>MX-2</td>\n",
       "      <td>NaN</td>\n",
       "      <td>NaN</td>\n",
       "      <td>NaN</td>\n",
       "      <td>N</td>\n",
       "      <td>G7</td>\n",
       "      <td>10.0</td>\n",
       "      <td>0.0</td>\n",
       "      <td>P</td>\n",
       "      <td>85 JAY STREET BROOKLY</td>\n",
       "      <td>134988.0</td>\n",
       "      <td>0.0</td>\n",
       "      <td>0.0</td>\n",
       "      <td>0.0</td>\n",
       "      <td>0.0</td>\n",
       "      <td>0.0</td>\n",
       "      <td>0.0</td>\n",
       "      <td>0.0</td>\n",
       "      <td>0.0</td>\n",
       "      <td>0.0</td>\n",
       "      <td>7.0</td>\n",
       "      <td>0.0</td>\n",
       "      <td>0.0</td>\n",
       "      <td>0.0</td>\n",
       "      <td>0.0</td>\n",
       "      <td>490.50</td>\n",
       "      <td>275.33</td>\n",
       "      <td>0.0</td>\n",
       "      <td>0.00</td>\n",
       "      <td>NaN</td>\n",
       "      <td>0.0</td>\n",
       "      <td>N</td>\n",
       "      <td>5.0</td>\n",
       "      <td>5.0</td>\n",
       "      <td>1571850.0</td>\n",
       "      <td>1571850.0</td>\n",
       "      <td>1571850.0</td>\n",
       "      <td>1571850.0</td>\n",
       "      <td>0.0</td>\n",
       "      <td>0.0</td>\n",
       "      <td>0.0</td>\n",
       "      <td>NaN</td>\n",
       "      <td>NaN</td>\n",
       "      <td>0.00</td>\n",
       "      <td>7.20</td>\n",
       "      <td>2.0</td>\n",
       "      <td>6.5</td>\n",
       "      <td>3.0</td>\n",
       "      <td>3.000540e+09</td>\n",
       "      <td>0.0</td>\n",
       "      <td>21.0</td>\n",
       "      <td>988208.0</td>\n",
       "      <td>195011.0</td>\n",
       "      <td>12d</td>\n",
       "      <td>NaN</td>\n",
       "      <td>302 016</td>\n",
       "      <td>30101.0</td>\n",
       "      <td>NaN</td>\n",
       "      <td>3.000540e+09</td>\n",
       "      <td>12/06/2002</td>\n",
       "      <td>1.0</td>\n",
       "      <td>NaN</td>\n",
       "      <td>NaN</td>\n",
       "      <td>17V1.1</td>\n",
       "      <td>0.0</td>\n",
       "      <td>1559.889144</td>\n",
       "      <td>140131.577176</td>\n",
       "    </tr>\n",
       "    <tr>\n",
       "      <th>2</th>\n",
       "      <td>3</td>\n",
       "      <td>3</td>\n",
       "      <td>BROOKLYN HEIGHTS</td>\n",
       "      <td>21  OFFICE BUILDINGS</td>\n",
       "      <td>4</td>\n",
       "      <td>204</td>\n",
       "      <td>1</td>\n",
       "      <td>NaN</td>\n",
       "      <td>O6</td>\n",
       "      <td>29 COLUMBIA HEIGHTS</td>\n",
       "      <td>NaN</td>\n",
       "      <td>11201</td>\n",
       "      <td>0</td>\n",
       "      <td>0</td>\n",
       "      <td>0</td>\n",
       "      <td>32000.0</td>\n",
       "      <td>304650.0</td>\n",
       "      <td>1924</td>\n",
       "      <td>4</td>\n",
       "      <td>O6</td>\n",
       "      <td>340000000.0</td>\n",
       "      <td>2016-08-03</td>\n",
       "      <td>2016</td>\n",
       "      <td>BK</td>\n",
       "      <td>302.0</td>\n",
       "      <td>1.00</td>\n",
       "      <td>1003.0</td>\n",
       "      <td>13.0</td>\n",
       "      <td>33.0</td>\n",
       "      <td>11201.0</td>\n",
       "      <td>E205</td>\n",
       "      <td>84.0</td>\n",
       "      <td>38.0</td>\n",
       "      <td>2300.0</td>\n",
       "      <td>3.0</td>\n",
       "      <td>2.0</td>\n",
       "      <td>1A</td>\n",
       "      <td>29 COLUMBIA HEIGHTS</td>\n",
       "      <td>M2-1</td>\n",
       "      <td>NaN</td>\n",
       "      <td>NaN</td>\n",
       "      <td>NaN</td>\n",
       "      <td>NaN</td>\n",
       "      <td>NaN</td>\n",
       "      <td>NaN</td>\n",
       "      <td>NaN</td>\n",
       "      <td>NaN</td>\n",
       "      <td>NaN</td>\n",
       "      <td>N</td>\n",
       "      <td>O6</td>\n",
       "      <td>5.0</td>\n",
       "      <td>0.0</td>\n",
       "      <td>NaN</td>\n",
       "      <td>25-30 COLUMBIA HEIGHT</td>\n",
       "      <td>32000.0</td>\n",
       "      <td>304650.0</td>\n",
       "      <td>304650.0</td>\n",
       "      <td>0.0</td>\n",
       "      <td>264750.0</td>\n",
       "      <td>0.0</td>\n",
       "      <td>0.0</td>\n",
       "      <td>0.0</td>\n",
       "      <td>0.0</td>\n",
       "      <td>39900.0</td>\n",
       "      <td>2.0</td>\n",
       "      <td>1.0</td>\n",
       "      <td>13.0</td>\n",
       "      <td>0.0</td>\n",
       "      <td>0.0</td>\n",
       "      <td>92.42</td>\n",
       "      <td>335.92</td>\n",
       "      <td>335.0</td>\n",
       "      <td>92.00</td>\n",
       "      <td>NaN</td>\n",
       "      <td>0.0</td>\n",
       "      <td>Y</td>\n",
       "      <td>3.0</td>\n",
       "      <td>5.0</td>\n",
       "      <td>1548000.0</td>\n",
       "      <td>25463250.0</td>\n",
       "      <td>0.0</td>\n",
       "      <td>0.0</td>\n",
       "      <td>1924.0</td>\n",
       "      <td>1980.0</td>\n",
       "      <td>0.0</td>\n",
       "      <td>NaN</td>\n",
       "      <td>NaN</td>\n",
       "      <td>9.52</td>\n",
       "      <td>0.00</td>\n",
       "      <td>2.0</td>\n",
       "      <td>0.0</td>\n",
       "      <td>3.0</td>\n",
       "      <td>3.002040e+09</td>\n",
       "      <td>0.0</td>\n",
       "      <td>1.0</td>\n",
       "      <td>985952.0</td>\n",
       "      <td>195007.0</td>\n",
       "      <td>12d</td>\n",
       "      <td>NaN</td>\n",
       "      <td>302 004</td>\n",
       "      <td>30106.0</td>\n",
       "      <td>NaN</td>\n",
       "      <td>0.000000e+00</td>\n",
       "      <td>NaN</td>\n",
       "      <td>1.0</td>\n",
       "      <td>NaN</td>\n",
       "      <td>NaN</td>\n",
       "      <td>17V1.1</td>\n",
       "      <td>0.0</td>\n",
       "      <td>890.718521</td>\n",
       "      <td>34656.447240</td>\n",
       "    </tr>\n",
       "    <tr>\n",
       "      <th>3</th>\n",
       "      <td>4</td>\n",
       "      <td>3</td>\n",
       "      <td>MILL BASIN</td>\n",
       "      <td>22  STORE BUILDINGS</td>\n",
       "      <td>4</td>\n",
       "      <td>8470</td>\n",
       "      <td>55</td>\n",
       "      <td>NaN</td>\n",
       "      <td>K6</td>\n",
       "      <td>5120 AVENUE U</td>\n",
       "      <td>NaN</td>\n",
       "      <td>11234</td>\n",
       "      <td>0</td>\n",
       "      <td>123</td>\n",
       "      <td>123</td>\n",
       "      <td>905000.0</td>\n",
       "      <td>2548000.0</td>\n",
       "      <td>1970</td>\n",
       "      <td>4</td>\n",
       "      <td>K6</td>\n",
       "      <td>276947000.0</td>\n",
       "      <td>2012-11-28</td>\n",
       "      <td>2012</td>\n",
       "      <td>BK</td>\n",
       "      <td>318.0</td>\n",
       "      <td>698.00</td>\n",
       "      <td>2005.0</td>\n",
       "      <td>22.0</td>\n",
       "      <td>46.0</td>\n",
       "      <td>11234.0</td>\n",
       "      <td>E323</td>\n",
       "      <td>63.0</td>\n",
       "      <td>35.0</td>\n",
       "      <td>8822.0</td>\n",
       "      <td>3.0</td>\n",
       "      <td>18.0</td>\n",
       "      <td>4E</td>\n",
       "      <td>5120 AVENUE U</td>\n",
       "      <td>M3-1</td>\n",
       "      <td>NaN</td>\n",
       "      <td>NaN</td>\n",
       "      <td>NaN</td>\n",
       "      <td>NaN</td>\n",
       "      <td>NaN</td>\n",
       "      <td>NaN</td>\n",
       "      <td>NaN</td>\n",
       "      <td>NaN</td>\n",
       "      <td>NaN</td>\n",
       "      <td>N</td>\n",
       "      <td>K6</td>\n",
       "      <td>5.0</td>\n",
       "      <td>1.0</td>\n",
       "      <td>NaN</td>\n",
       "      <td>BROOKLYN KINGS PLAZA</td>\n",
       "      <td>905000.0</td>\n",
       "      <td>2548000.0</td>\n",
       "      <td>2548000.0</td>\n",
       "      <td>0.0</td>\n",
       "      <td>0.0</td>\n",
       "      <td>1263000.0</td>\n",
       "      <td>1285000.0</td>\n",
       "      <td>0.0</td>\n",
       "      <td>0.0</td>\n",
       "      <td>0.0</td>\n",
       "      <td>2.0</td>\n",
       "      <td>4.0</td>\n",
       "      <td>2.0</td>\n",
       "      <td>0.0</td>\n",
       "      <td>123.0</td>\n",
       "      <td>930.00</td>\n",
       "      <td>859.00</td>\n",
       "      <td>0.0</td>\n",
       "      <td>0.00</td>\n",
       "      <td>NaN</td>\n",
       "      <td>0.0</td>\n",
       "      <td>Y</td>\n",
       "      <td>3.0</td>\n",
       "      <td>5.0</td>\n",
       "      <td>36532350.0</td>\n",
       "      <td>149792400.0</td>\n",
       "      <td>0.0</td>\n",
       "      <td>0.0</td>\n",
       "      <td>1970.0</td>\n",
       "      <td>0.0</td>\n",
       "      <td>0.0</td>\n",
       "      <td>NaN</td>\n",
       "      <td>NaN</td>\n",
       "      <td>2.82</td>\n",
       "      <td>0.00</td>\n",
       "      <td>2.0</td>\n",
       "      <td>0.0</td>\n",
       "      <td>3.0</td>\n",
       "      <td>3.084700e+09</td>\n",
       "      <td>0.0</td>\n",
       "      <td>698.0</td>\n",
       "      <td>1006597.0</td>\n",
       "      <td>161424.0</td>\n",
       "      <td>23b</td>\n",
       "      <td>NaN</td>\n",
       "      <td>319 077</td>\n",
       "      <td>32502.0</td>\n",
       "      <td>NaN</td>\n",
       "      <td>0.000000e+00</td>\n",
       "      <td>NaN</td>\n",
       "      <td>1.0</td>\n",
       "      <td>1.0</td>\n",
       "      <td>1.0</td>\n",
       "      <td>17V1.1</td>\n",
       "      <td>0.0</td>\n",
       "      <td>3729.786857</td>\n",
       "      <td>797554.847834</td>\n",
       "    </tr>\n",
       "    <tr>\n",
       "      <th>4</th>\n",
       "      <td>5</td>\n",
       "      <td>3</td>\n",
       "      <td>BROOKLYN HEIGHTS</td>\n",
       "      <td>26 OTHER HOTELS</td>\n",
       "      <td>4</td>\n",
       "      <td>230</td>\n",
       "      <td>1</td>\n",
       "      <td>NaN</td>\n",
       "      <td>H8</td>\n",
       "      <td>21 CLARK STREET</td>\n",
       "      <td>NaN</td>\n",
       "      <td>11201</td>\n",
       "      <td>0</td>\n",
       "      <td>1</td>\n",
       "      <td>1</td>\n",
       "      <td>20267.0</td>\n",
       "      <td>356000.0</td>\n",
       "      <td>1927</td>\n",
       "      <td>4</td>\n",
       "      <td>H8</td>\n",
       "      <td>202500000.0</td>\n",
       "      <td>2017-10-31</td>\n",
       "      <td>2017</td>\n",
       "      <td>BK</td>\n",
       "      <td>302.0</td>\n",
       "      <td>3.01</td>\n",
       "      <td>2000.0</td>\n",
       "      <td>13.0</td>\n",
       "      <td>33.0</td>\n",
       "      <td>11201.0</td>\n",
       "      <td>E205</td>\n",
       "      <td>84.0</td>\n",
       "      <td>38.0</td>\n",
       "      <td>2300.0</td>\n",
       "      <td>3.0</td>\n",
       "      <td>2.0</td>\n",
       "      <td>1A</td>\n",
       "      <td>79 WILLOW STREET</td>\n",
       "      <td>R6</td>\n",
       "      <td>NaN</td>\n",
       "      <td>NaN</td>\n",
       "      <td>NaN</td>\n",
       "      <td>NaN</td>\n",
       "      <td>NaN</td>\n",
       "      <td>NaN</td>\n",
       "      <td>NaN</td>\n",
       "      <td>NaN</td>\n",
       "      <td>LH-1</td>\n",
       "      <td>N</td>\n",
       "      <td>H8</td>\n",
       "      <td>8.0</td>\n",
       "      <td>0.0</td>\n",
       "      <td>X</td>\n",
       "      <td>WATCHTOWER C/O REAL P</td>\n",
       "      <td>20267.0</td>\n",
       "      <td>356000.0</td>\n",
       "      <td>30000.0</td>\n",
       "      <td>0.0</td>\n",
       "      <td>30000.0</td>\n",
       "      <td>0.0</td>\n",
       "      <td>0.0</td>\n",
       "      <td>0.0</td>\n",
       "      <td>0.0</td>\n",
       "      <td>0.0</td>\n",
       "      <td>2.0</td>\n",
       "      <td>1.0</td>\n",
       "      <td>15.0</td>\n",
       "      <td>0.0</td>\n",
       "      <td>1.0</td>\n",
       "      <td>202.00</td>\n",
       "      <td>100.33</td>\n",
       "      <td>202.0</td>\n",
       "      <td>100.33</td>\n",
       "      <td>NaN</td>\n",
       "      <td>0.0</td>\n",
       "      <td>N</td>\n",
       "      <td>3.0</td>\n",
       "      <td>2.0</td>\n",
       "      <td>2250000.0</td>\n",
       "      <td>27166050.0</td>\n",
       "      <td>2250000.0</td>\n",
       "      <td>27166050.0</td>\n",
       "      <td>1927.0</td>\n",
       "      <td>1998.0</td>\n",
       "      <td>2000.0</td>\n",
       "      <td>Brooklyn Heights Historic District</td>\n",
       "      <td>NaN</td>\n",
       "      <td>17.57</td>\n",
       "      <td>2.43</td>\n",
       "      <td>0.0</td>\n",
       "      <td>4.8</td>\n",
       "      <td>3.0</td>\n",
       "      <td>3.002300e+09</td>\n",
       "      <td>0.0</td>\n",
       "      <td>301.0</td>\n",
       "      <td>985622.0</td>\n",
       "      <td>193713.0</td>\n",
       "      <td>12d</td>\n",
       "      <td>NaN</td>\n",
       "      <td>302 014</td>\n",
       "      <td>30106.0</td>\n",
       "      <td>NaN</td>\n",
       "      <td>0.000000e+00</td>\n",
       "      <td>NaN</td>\n",
       "      <td>1.0</td>\n",
       "      <td>NaN</td>\n",
       "      <td>NaN</td>\n",
       "      <td>17V1.1</td>\n",
       "      <td>0.0</td>\n",
       "      <td>620.761169</td>\n",
       "      <td>21360.147631</td>\n",
       "    </tr>\n",
       "  </tbody>\n",
       "</table>\n",
       "</div>"
      ],
      "text/plain": [
       "   Unnamed: 0  borough           neighborhood building_class_category  \\\n",
       "0           1        3     DOWNTOWN-METROTECH   28  COMMERCIAL CONDOS   \n",
       "1           2        3  DOWNTOWN-FULTON FERRY  29  COMMERCIAL GARAGES   \n",
       "2           3        3       BROOKLYN HEIGHTS    21  OFFICE BUILDINGS   \n",
       "3           4        3             MILL BASIN     22  STORE BUILDINGS   \n",
       "4           5        3       BROOKLYN HEIGHTS         26 OTHER HOTELS   \n",
       "\n",
       "  tax_class  block   lot  easement building_class              address  \\\n",
       "0         4    140  1001       NaN             R5       330 JAY STREET   \n",
       "1         4     54     1       NaN             G7        85 JAY STREET   \n",
       "2         4    204     1       NaN             O6  29 COLUMBIA HEIGHTS   \n",
       "3         4   8470    55       NaN             K6        5120 AVENUE U   \n",
       "4         4    230     1       NaN             H8      21 CLARK STREET   \n",
       "\n",
       "  apartment_number  zip_code  residential_units  commercial_units  \\\n",
       "0            COURT     11201                  0                 1   \n",
       "1              NaN     11201                  0                 0   \n",
       "2              NaN     11201                  0                 0   \n",
       "3              NaN     11234                  0               123   \n",
       "4              NaN     11201                  0                 1   \n",
       "\n",
       "   total_units  land_sqft  gross_sqft  year_built  tax_class_at_sale  \\\n",
       "0            1        0.0         0.0        2002                  4   \n",
       "1            0   134988.0         0.0           0                  4   \n",
       "2            0    32000.0    304650.0        1924                  4   \n",
       "3          123   905000.0   2548000.0        1970                  4   \n",
       "4            1    20267.0    356000.0        1927                  4   \n",
       "\n",
       "  building_class_at_sale   sale_price   sale_date  year_of_sale Borough  \\\n",
       "0                     R5  499401179.0  2008-04-23          2008     NaN   \n",
       "1                     G7  345000000.0  2016-12-20          2016      BK   \n",
       "2                     O6  340000000.0  2016-08-03          2016      BK   \n",
       "3                     K6  276947000.0  2012-11-28          2012      BK   \n",
       "4                     H8  202500000.0  2017-10-31          2017      BK   \n",
       "\n",
       "      CD  CT2010  CB2010  SchoolDist  Council  ZipCode FireComp  PolicePrct  \\\n",
       "0    NaN     NaN     NaN         NaN      NaN      NaN      NaN         NaN   \n",
       "1  302.0   21.00  3017.0        13.0     33.0  11201.0     L118        84.0   \n",
       "2  302.0    1.00  1003.0        13.0     33.0  11201.0     E205        84.0   \n",
       "3  318.0  698.00  2005.0        22.0     46.0  11234.0     E323        63.0   \n",
       "4  302.0    3.01  2000.0        13.0     33.0  11201.0     E205        84.0   \n",
       "\n",
       "   HealthCent  HealthArea  SanitBoro  SanitDistr SanitSub  \\\n",
       "0         NaN         NaN        NaN         NaN      NaN   \n",
       "1        36.0      1000.0        3.0         2.0       1B   \n",
       "2        38.0      2300.0        3.0         2.0       1A   \n",
       "3        35.0      8822.0        3.0        18.0       4E   \n",
       "4        38.0      2300.0        3.0         2.0       1A   \n",
       "\n",
       "               Address ZoneDist1 ZoneDist2 ZoneDist3 ZoneDist4 Overlay1  \\\n",
       "0                  NaN       NaN       NaN       NaN       NaN      NaN   \n",
       "1        87 JAY STREET   M1-2/R8       NaN       NaN       NaN      NaN   \n",
       "2  29 COLUMBIA HEIGHTS      M2-1       NaN       NaN       NaN      NaN   \n",
       "3        5120 AVENUE U      M3-1       NaN       NaN       NaN      NaN   \n",
       "4     79 WILLOW STREET        R6       NaN       NaN       NaN      NaN   \n",
       "\n",
       "  Overlay2 SPDist1 SPDist2 SPDist3 LtdHeight SplitZone BldgClass  LandUse  \\\n",
       "0      NaN     NaN     NaN     NaN       NaN       NaN       NaN      NaN   \n",
       "1      NaN    MX-2     NaN     NaN       NaN         N        G7     10.0   \n",
       "2      NaN     NaN     NaN     NaN       NaN         N        O6      5.0   \n",
       "3      NaN     NaN     NaN     NaN       NaN         N        K6      5.0   \n",
       "4      NaN     NaN     NaN     NaN      LH-1         N        H8      8.0   \n",
       "\n",
       "   Easements OwnerType              OwnerName   LotArea   BldgArea    ComArea  \\\n",
       "0        NaN       NaN                    NaN       NaN        NaN        NaN   \n",
       "1        0.0         P  85 JAY STREET BROOKLY  134988.0        0.0        0.0   \n",
       "2        0.0       NaN  25-30 COLUMBIA HEIGHT   32000.0   304650.0   304650.0   \n",
       "3        1.0       NaN   BROOKLYN KINGS PLAZA  905000.0  2548000.0  2548000.0   \n",
       "4        0.0         X  WATCHTOWER C/O REAL P   20267.0   356000.0    30000.0   \n",
       "\n",
       "   ResArea  OfficeArea  RetailArea  GarageArea  StrgeArea  FactryArea  \\\n",
       "0      NaN         NaN         NaN         NaN        NaN         NaN   \n",
       "1      0.0         0.0         0.0         0.0        0.0         0.0   \n",
       "2      0.0    264750.0         0.0         0.0        0.0         0.0   \n",
       "3      0.0         0.0   1263000.0   1285000.0        0.0         0.0   \n",
       "4      0.0     30000.0         0.0         0.0        0.0         0.0   \n",
       "\n",
       "   OtherArea  AreaSource  NumBldgs  NumFloors  UnitsRes  UnitsTotal  LotFront  \\\n",
       "0        NaN         NaN       NaN        NaN       NaN         NaN       NaN   \n",
       "1        0.0         7.0       0.0        0.0       0.0         0.0    490.50   \n",
       "2    39900.0         2.0       1.0       13.0       0.0         0.0     92.42   \n",
       "3        0.0         2.0       4.0        2.0       0.0       123.0    930.00   \n",
       "4        0.0         2.0       1.0       15.0       0.0         1.0    202.00   \n",
       "\n",
       "   LotDepth  BldgFront  BldgDepth  Ext  ProxCode IrrLotCode  LotType  \\\n",
       "0       NaN        NaN        NaN  NaN       NaN        NaN      NaN   \n",
       "1    275.33        0.0       0.00  NaN       0.0          N      5.0   \n",
       "2    335.92      335.0      92.00  NaN       0.0          Y      3.0   \n",
       "3    859.00        0.0       0.00  NaN       0.0          Y      3.0   \n",
       "4    100.33      202.0     100.33  NaN       0.0          N      3.0   \n",
       "\n",
       "   BsmtCode  AssessLand    AssessTot  ExemptLand   ExemptTot  YearBuilt  \\\n",
       "0       NaN         NaN          NaN         NaN         NaN        NaN   \n",
       "1       5.0   1571850.0    1571850.0   1571850.0   1571850.0        0.0   \n",
       "2       5.0   1548000.0   25463250.0         0.0         0.0     1924.0   \n",
       "3       5.0  36532350.0  149792400.0         0.0         0.0     1970.0   \n",
       "4       2.0   2250000.0   27166050.0   2250000.0  27166050.0     1927.0   \n",
       "\n",
       "   YearAlter1  YearAlter2                            HistDist Landmark  \\\n",
       "0         NaN         NaN                                 NaN      NaN   \n",
       "1         0.0         0.0                                 NaN      NaN   \n",
       "2      1980.0         0.0                                 NaN      NaN   \n",
       "3         0.0         0.0                                 NaN      NaN   \n",
       "4      1998.0      2000.0  Brooklyn Heights Historic District      NaN   \n",
       "\n",
       "   BuiltFAR  ResidFAR  CommFAR  FacilFAR  BoroCode           BBL  CondoNo  \\\n",
       "0       NaN       NaN      NaN       NaN       NaN           NaN      NaN   \n",
       "1      0.00      7.20      2.0       6.5       3.0  3.000540e+09      0.0   \n",
       "2      9.52      0.00      2.0       0.0       3.0  3.002040e+09      0.0   \n",
       "3      2.82      0.00      2.0       0.0       3.0  3.084700e+09      0.0   \n",
       "4     17.57      2.43      0.0       4.8       3.0  3.002300e+09      0.0   \n",
       "\n",
       "   Tract2010     XCoord    YCoord ZoneMap ZMCode  Sanborn   TaxMap EDesigNum  \\\n",
       "0        NaN        NaN       NaN     NaN    NaN      NaN      NaN       NaN   \n",
       "1       21.0   988208.0  195011.0     12d    NaN  302 016  30101.0       NaN   \n",
       "2        1.0   985952.0  195007.0     12d    NaN  302 004  30106.0       NaN   \n",
       "3      698.0  1006597.0  161424.0     23b    NaN  319 077  32502.0       NaN   \n",
       "4      301.0   985622.0  193713.0     12d    NaN  302 014  30106.0       NaN   \n",
       "\n",
       "         APPBBL     APPDate  PLUTOMapID  FIRM07_FLA  PFIRM15_FL Version  \\\n",
       "0           NaN         NaN         NaN         NaN         NaN     NaN   \n",
       "1  3.000540e+09  12/06/2002         1.0         NaN         NaN  17V1.1   \n",
       "2  0.000000e+00         NaN         1.0         NaN         NaN  17V1.1   \n",
       "3  0.000000e+00         NaN         1.0         1.0         1.0  17V1.1   \n",
       "4  0.000000e+00         NaN         1.0         NaN         NaN  17V1.1   \n",
       "\n",
       "   MAPPLUTO_F   SHAPE_Leng     SHAPE_Area  \n",
       "0         NaN          NaN            NaN  \n",
       "1         0.0  1559.889144  140131.577176  \n",
       "2         0.0   890.718521   34656.447240  \n",
       "3         0.0  3729.786857  797554.847834  \n",
       "4         0.0   620.761169   21360.147631  "
      ]
     },
     "execution_count": 4,
     "metadata": {},
     "output_type": "execute_result"
    }
   ],
   "source": [
    "# checking the first 5 rows\n",
    "df.head()"
   ]
  },
  {
   "cell_type": "markdown",
   "metadata": {},
   "source": [
    "The above dataframe has 111 columns but not all the columns are relevant to this project, so we decided to extract the columns needed."
   ]
  },
  {
   "cell_type": "code",
   "execution_count": 5,
   "metadata": {},
   "outputs": [],
   "source": [
    "subset_df = df[[\"neighborhood\", \"building_class_category\", \"tax_class_at_sale\", \"building_class_at_sale\", \n",
    "          \"address\", \"sale_price\", \"sale_date\", \"year_of_sale\", \"land_sqft\", \"gross_sqft\", \"OwnerName\"]]"
   ]
  },
  {
   "cell_type": "code",
   "execution_count": 6,
   "metadata": {},
   "outputs": [
    {
     "data": {
      "text/plain": [
       "neighborhood                object\n",
       "building_class_category     object\n",
       "tax_class_at_sale            int64\n",
       "building_class_at_sale      object\n",
       "address                     object\n",
       "sale_price                 float64\n",
       "sale_date                   object\n",
       "year_of_sale                 int64\n",
       "land_sqft                  float64\n",
       "gross_sqft                 float64\n",
       "OwnerName                   object\n",
       "dtype: object"
      ]
     },
     "execution_count": 6,
     "metadata": {},
     "output_type": "execute_result"
    }
   ],
   "source": [
    "subset_df.dtypes"
   ]
  },
  {
   "cell_type": "markdown",
   "metadata": {},
   "source": [
    "Looking at the sale_date dtype, we can see the sale_date column is not in the right dtype, it needs to be changed to the right dtype."
   ]
  },
  {
   "cell_type": "code",
   "execution_count": 8,
   "metadata": {},
   "outputs": [],
   "source": [
    "subset_df[\"sale_date\"] = pd.to_datetime(subset_df['sale_date'])"
   ]
  },
  {
   "cell_type": "markdown",
   "metadata": {},
   "source": [
    "\n",
    "Sale_date has been changed to its correct dtype and we need to extract the months seperately into a different column so we can use this column to show monthly trend in our analysis later."
   ]
  },
  {
   "cell_type": "code",
   "execution_count": 9,
   "metadata": {},
   "outputs": [],
   "source": [
    "subset_df['month'] = pd.DatetimeIndex(subset_df['sale_date']).month"
   ]
  },
  {
   "cell_type": "code",
   "execution_count": 14,
   "metadata": {},
   "outputs": [],
   "source": [
    "subset_df['month_name'] = pd.DatetimeIndex(subset_df['sale_date']).month"
   ]
  },
  {
   "cell_type": "code",
   "execution_count": 15,
   "metadata": {},
   "outputs": [
    {
     "data": {
      "text/plain": [
       "neighborhood                       object\n",
       "building_class_category            object\n",
       "tax_class_at_sale                   int64\n",
       "building_class_at_sale             object\n",
       "address                            object\n",
       "sale_price                        float64\n",
       "sale_date                  datetime64[ns]\n",
       "year_of_sale                        int64\n",
       "land_sqft                         float64\n",
       "gross_sqft                        float64\n",
       "OwnerName                          object\n",
       "month                               int64\n",
       "month_number                        int64\n",
       "month_name                          int64\n",
       "dtype: object"
      ]
     },
     "execution_count": 15,
     "metadata": {},
     "output_type": "execute_result"
    }
   ],
   "source": [
    "subset_df.dtypes"
   ]
  },
  {
   "cell_type": "code",
   "execution_count": 16,
   "metadata": {},
   "outputs": [
    {
     "data": {
      "text/html": [
       "<div>\n",
       "<style scoped>\n",
       "    .dataframe tbody tr th:only-of-type {\n",
       "        vertical-align: middle;\n",
       "    }\n",
       "\n",
       "    .dataframe tbody tr th {\n",
       "        vertical-align: top;\n",
       "    }\n",
       "\n",
       "    .dataframe thead th {\n",
       "        text-align: right;\n",
       "    }\n",
       "</style>\n",
       "<table border=\"1\" class=\"dataframe\">\n",
       "  <thead>\n",
       "    <tr style=\"text-align: right;\">\n",
       "      <th></th>\n",
       "      <th>neighborhood</th>\n",
       "      <th>building_class_category</th>\n",
       "      <th>tax_class_at_sale</th>\n",
       "      <th>building_class_at_sale</th>\n",
       "      <th>address</th>\n",
       "      <th>sale_price</th>\n",
       "      <th>sale_date</th>\n",
       "      <th>year_of_sale</th>\n",
       "      <th>land_sqft</th>\n",
       "      <th>gross_sqft</th>\n",
       "      <th>OwnerName</th>\n",
       "      <th>month</th>\n",
       "      <th>month_number</th>\n",
       "      <th>month_name</th>\n",
       "    </tr>\n",
       "  </thead>\n",
       "  <tbody>\n",
       "    <tr>\n",
       "      <th>0</th>\n",
       "      <td>DOWNTOWN-METROTECH</td>\n",
       "      <td>28  COMMERCIAL CONDOS</td>\n",
       "      <td>4</td>\n",
       "      <td>R5</td>\n",
       "      <td>330 JAY STREET</td>\n",
       "      <td>499401179.0</td>\n",
       "      <td>2008-04-23</td>\n",
       "      <td>2008</td>\n",
       "      <td>0.0</td>\n",
       "      <td>0.0</td>\n",
       "      <td>NaN</td>\n",
       "      <td>4</td>\n",
       "      <td>4</td>\n",
       "      <td>4</td>\n",
       "    </tr>\n",
       "    <tr>\n",
       "      <th>1</th>\n",
       "      <td>DOWNTOWN-FULTON FERRY</td>\n",
       "      <td>29  COMMERCIAL GARAGES</td>\n",
       "      <td>4</td>\n",
       "      <td>G7</td>\n",
       "      <td>85 JAY STREET</td>\n",
       "      <td>345000000.0</td>\n",
       "      <td>2016-12-20</td>\n",
       "      <td>2016</td>\n",
       "      <td>134988.0</td>\n",
       "      <td>0.0</td>\n",
       "      <td>85 JAY STREET BROOKLY</td>\n",
       "      <td>12</td>\n",
       "      <td>12</td>\n",
       "      <td>12</td>\n",
       "    </tr>\n",
       "    <tr>\n",
       "      <th>2</th>\n",
       "      <td>BROOKLYN HEIGHTS</td>\n",
       "      <td>21  OFFICE BUILDINGS</td>\n",
       "      <td>4</td>\n",
       "      <td>O6</td>\n",
       "      <td>29 COLUMBIA HEIGHTS</td>\n",
       "      <td>340000000.0</td>\n",
       "      <td>2016-08-03</td>\n",
       "      <td>2016</td>\n",
       "      <td>32000.0</td>\n",
       "      <td>304650.0</td>\n",
       "      <td>25-30 COLUMBIA HEIGHT</td>\n",
       "      <td>8</td>\n",
       "      <td>8</td>\n",
       "      <td>8</td>\n",
       "    </tr>\n",
       "    <tr>\n",
       "      <th>3</th>\n",
       "      <td>MILL BASIN</td>\n",
       "      <td>22  STORE BUILDINGS</td>\n",
       "      <td>4</td>\n",
       "      <td>K6</td>\n",
       "      <td>5120 AVENUE U</td>\n",
       "      <td>276947000.0</td>\n",
       "      <td>2012-11-28</td>\n",
       "      <td>2012</td>\n",
       "      <td>905000.0</td>\n",
       "      <td>2548000.0</td>\n",
       "      <td>BROOKLYN KINGS PLAZA</td>\n",
       "      <td>11</td>\n",
       "      <td>11</td>\n",
       "      <td>11</td>\n",
       "    </tr>\n",
       "    <tr>\n",
       "      <th>4</th>\n",
       "      <td>BROOKLYN HEIGHTS</td>\n",
       "      <td>26 OTHER HOTELS</td>\n",
       "      <td>4</td>\n",
       "      <td>H8</td>\n",
       "      <td>21 CLARK STREET</td>\n",
       "      <td>202500000.0</td>\n",
       "      <td>2017-10-31</td>\n",
       "      <td>2017</td>\n",
       "      <td>20267.0</td>\n",
       "      <td>356000.0</td>\n",
       "      <td>WATCHTOWER C/O REAL P</td>\n",
       "      <td>10</td>\n",
       "      <td>10</td>\n",
       "      <td>10</td>\n",
       "    </tr>\n",
       "  </tbody>\n",
       "</table>\n",
       "</div>"
      ],
      "text/plain": [
       "            neighborhood building_class_category  tax_class_at_sale  \\\n",
       "0     DOWNTOWN-METROTECH   28  COMMERCIAL CONDOS                  4   \n",
       "1  DOWNTOWN-FULTON FERRY  29  COMMERCIAL GARAGES                  4   \n",
       "2       BROOKLYN HEIGHTS    21  OFFICE BUILDINGS                  4   \n",
       "3             MILL BASIN     22  STORE BUILDINGS                  4   \n",
       "4       BROOKLYN HEIGHTS         26 OTHER HOTELS                  4   \n",
       "\n",
       "  building_class_at_sale              address   sale_price  sale_date  \\\n",
       "0                     R5       330 JAY STREET  499401179.0 2008-04-23   \n",
       "1                     G7        85 JAY STREET  345000000.0 2016-12-20   \n",
       "2                     O6  29 COLUMBIA HEIGHTS  340000000.0 2016-08-03   \n",
       "3                     K6        5120 AVENUE U  276947000.0 2012-11-28   \n",
       "4                     H8      21 CLARK STREET  202500000.0 2017-10-31   \n",
       "\n",
       "   year_of_sale  land_sqft  gross_sqft              OwnerName  month  \\\n",
       "0          2008        0.0         0.0                    NaN      4   \n",
       "1          2016   134988.0         0.0  85 JAY STREET BROOKLY     12   \n",
       "2          2016    32000.0    304650.0  25-30 COLUMBIA HEIGHT      8   \n",
       "3          2012   905000.0   2548000.0   BROOKLYN KINGS PLAZA     11   \n",
       "4          2017    20267.0    356000.0  WATCHTOWER C/O REAL P     10   \n",
       "\n",
       "   month_number  month_name  \n",
       "0             4           4  \n",
       "1            12          12  \n",
       "2             8           8  \n",
       "3            11          11  \n",
       "4            10          10  "
      ]
     },
     "execution_count": 16,
     "metadata": {},
     "output_type": "execute_result"
    }
   ],
   "source": [
    "subset_df.head()"
   ]
  },
  {
   "cell_type": "markdown",
   "metadata": {},
   "source": [
    "\n",
    "Looking at the month_name column, we see the records are in numeric from 1 to 12 which shows January to December, to be more explicit, its a good idea to change them to their respective month name."
   ]
  },
  {
   "cell_type": "code",
   "execution_count": 17,
   "metadata": {},
   "outputs": [],
   "source": [
    "subset_df.loc[subset_df[\"month\"] == 1, \"month_name\"] = \"January\""
   ]
  },
  {
   "cell_type": "code",
   "execution_count": 18,
   "metadata": {},
   "outputs": [],
   "source": [
    "subset_df.loc[subset_df[\"month\"] == 2, \"month_name\"] = \"February\""
   ]
  },
  {
   "cell_type": "code",
   "execution_count": 19,
   "metadata": {},
   "outputs": [],
   "source": [
    "subset_df.loc[subset_df[\"month\"] == 3, \"month_name\"] = \"March\""
   ]
  },
  {
   "cell_type": "code",
   "execution_count": 20,
   "metadata": {},
   "outputs": [],
   "source": [
    "subset_df.loc[subset_df[\"month\"] == 4, \"month_name\"] = \"April\""
   ]
  },
  {
   "cell_type": "code",
   "execution_count": 21,
   "metadata": {},
   "outputs": [],
   "source": [
    "subset_df.loc[subset_df[\"month\"] == 5, \"month_name\"] = \"May\""
   ]
  },
  {
   "cell_type": "code",
   "execution_count": 22,
   "metadata": {},
   "outputs": [],
   "source": [
    "subset_df.loc[subset_df[\"month\"] == 6, \"month_name\"] = \"June\""
   ]
  },
  {
   "cell_type": "code",
   "execution_count": 23,
   "metadata": {},
   "outputs": [],
   "source": [
    "subset_df.loc[subset_df[\"month\"] == 7, \"month_name\"] = \"July\""
   ]
  },
  {
   "cell_type": "code",
   "execution_count": 24,
   "metadata": {},
   "outputs": [],
   "source": [
    "subset_df.loc[subset_df[\"month\"] == 8, \"month_name\"] = \"August\""
   ]
  },
  {
   "cell_type": "code",
   "execution_count": 25,
   "metadata": {},
   "outputs": [],
   "source": [
    "subset_df.loc[subset_df[\"month\"] == 9, \"month_name\"] = \"September\""
   ]
  },
  {
   "cell_type": "code",
   "execution_count": 26,
   "metadata": {},
   "outputs": [],
   "source": [
    "subset_df.loc[subset_df[\"month\"] == 10, \"month_name\"] = \"October\""
   ]
  },
  {
   "cell_type": "code",
   "execution_count": 27,
   "metadata": {},
   "outputs": [],
   "source": [
    "subset_df.loc[subset_df[\"month\"] == 11, \"month_name\"] = \"November\""
   ]
  },
  {
   "cell_type": "code",
   "execution_count": 28,
   "metadata": {},
   "outputs": [],
   "source": [
    "subset_df.loc[subset_df[\"month\"] == 12, \"month_name\"] = \"December\""
   ]
  },
  {
   "cell_type": "code",
   "execution_count": 29,
   "metadata": {},
   "outputs": [
    {
     "data": {
      "text/html": [
       "<div>\n",
       "<style scoped>\n",
       "    .dataframe tbody tr th:only-of-type {\n",
       "        vertical-align: middle;\n",
       "    }\n",
       "\n",
       "    .dataframe tbody tr th {\n",
       "        vertical-align: top;\n",
       "    }\n",
       "\n",
       "    .dataframe thead th {\n",
       "        text-align: right;\n",
       "    }\n",
       "</style>\n",
       "<table border=\"1\" class=\"dataframe\">\n",
       "  <thead>\n",
       "    <tr style=\"text-align: right;\">\n",
       "      <th></th>\n",
       "      <th>neighborhood</th>\n",
       "      <th>building_class_category</th>\n",
       "      <th>tax_class_at_sale</th>\n",
       "      <th>building_class_at_sale</th>\n",
       "      <th>address</th>\n",
       "      <th>sale_price</th>\n",
       "      <th>sale_date</th>\n",
       "      <th>year_of_sale</th>\n",
       "      <th>land_sqft</th>\n",
       "      <th>gross_sqft</th>\n",
       "      <th>OwnerName</th>\n",
       "      <th>month</th>\n",
       "      <th>month_number</th>\n",
       "      <th>month_name</th>\n",
       "    </tr>\n",
       "  </thead>\n",
       "  <tbody>\n",
       "    <tr>\n",
       "      <th>0</th>\n",
       "      <td>DOWNTOWN-METROTECH</td>\n",
       "      <td>28  COMMERCIAL CONDOS</td>\n",
       "      <td>4</td>\n",
       "      <td>R5</td>\n",
       "      <td>330 JAY STREET</td>\n",
       "      <td>499401179.0</td>\n",
       "      <td>2008-04-23</td>\n",
       "      <td>2008</td>\n",
       "      <td>0.0</td>\n",
       "      <td>0.0</td>\n",
       "      <td>NaN</td>\n",
       "      <td>4</td>\n",
       "      <td>4</td>\n",
       "      <td>April</td>\n",
       "    </tr>\n",
       "    <tr>\n",
       "      <th>1</th>\n",
       "      <td>DOWNTOWN-FULTON FERRY</td>\n",
       "      <td>29  COMMERCIAL GARAGES</td>\n",
       "      <td>4</td>\n",
       "      <td>G7</td>\n",
       "      <td>85 JAY STREET</td>\n",
       "      <td>345000000.0</td>\n",
       "      <td>2016-12-20</td>\n",
       "      <td>2016</td>\n",
       "      <td>134988.0</td>\n",
       "      <td>0.0</td>\n",
       "      <td>85 JAY STREET BROOKLY</td>\n",
       "      <td>12</td>\n",
       "      <td>12</td>\n",
       "      <td>December</td>\n",
       "    </tr>\n",
       "    <tr>\n",
       "      <th>2</th>\n",
       "      <td>BROOKLYN HEIGHTS</td>\n",
       "      <td>21  OFFICE BUILDINGS</td>\n",
       "      <td>4</td>\n",
       "      <td>O6</td>\n",
       "      <td>29 COLUMBIA HEIGHTS</td>\n",
       "      <td>340000000.0</td>\n",
       "      <td>2016-08-03</td>\n",
       "      <td>2016</td>\n",
       "      <td>32000.0</td>\n",
       "      <td>304650.0</td>\n",
       "      <td>25-30 COLUMBIA HEIGHT</td>\n",
       "      <td>8</td>\n",
       "      <td>8</td>\n",
       "      <td>August</td>\n",
       "    </tr>\n",
       "    <tr>\n",
       "      <th>3</th>\n",
       "      <td>MILL BASIN</td>\n",
       "      <td>22  STORE BUILDINGS</td>\n",
       "      <td>4</td>\n",
       "      <td>K6</td>\n",
       "      <td>5120 AVENUE U</td>\n",
       "      <td>276947000.0</td>\n",
       "      <td>2012-11-28</td>\n",
       "      <td>2012</td>\n",
       "      <td>905000.0</td>\n",
       "      <td>2548000.0</td>\n",
       "      <td>BROOKLYN KINGS PLAZA</td>\n",
       "      <td>11</td>\n",
       "      <td>11</td>\n",
       "      <td>November</td>\n",
       "    </tr>\n",
       "    <tr>\n",
       "      <th>4</th>\n",
       "      <td>BROOKLYN HEIGHTS</td>\n",
       "      <td>26 OTHER HOTELS</td>\n",
       "      <td>4</td>\n",
       "      <td>H8</td>\n",
       "      <td>21 CLARK STREET</td>\n",
       "      <td>202500000.0</td>\n",
       "      <td>2017-10-31</td>\n",
       "      <td>2017</td>\n",
       "      <td>20267.0</td>\n",
       "      <td>356000.0</td>\n",
       "      <td>WATCHTOWER C/O REAL P</td>\n",
       "      <td>10</td>\n",
       "      <td>10</td>\n",
       "      <td>October</td>\n",
       "    </tr>\n",
       "  </tbody>\n",
       "</table>\n",
       "</div>"
      ],
      "text/plain": [
       "            neighborhood building_class_category  tax_class_at_sale  \\\n",
       "0     DOWNTOWN-METROTECH   28  COMMERCIAL CONDOS                  4   \n",
       "1  DOWNTOWN-FULTON FERRY  29  COMMERCIAL GARAGES                  4   \n",
       "2       BROOKLYN HEIGHTS    21  OFFICE BUILDINGS                  4   \n",
       "3             MILL BASIN     22  STORE BUILDINGS                  4   \n",
       "4       BROOKLYN HEIGHTS         26 OTHER HOTELS                  4   \n",
       "\n",
       "  building_class_at_sale              address   sale_price  sale_date  \\\n",
       "0                     R5       330 JAY STREET  499401179.0 2008-04-23   \n",
       "1                     G7        85 JAY STREET  345000000.0 2016-12-20   \n",
       "2                     O6  29 COLUMBIA HEIGHTS  340000000.0 2016-08-03   \n",
       "3                     K6        5120 AVENUE U  276947000.0 2012-11-28   \n",
       "4                     H8      21 CLARK STREET  202500000.0 2017-10-31   \n",
       "\n",
       "   year_of_sale  land_sqft  gross_sqft              OwnerName  month  \\\n",
       "0          2008        0.0         0.0                    NaN      4   \n",
       "1          2016   134988.0         0.0  85 JAY STREET BROOKLY     12   \n",
       "2          2016    32000.0    304650.0  25-30 COLUMBIA HEIGHT      8   \n",
       "3          2012   905000.0   2548000.0   BROOKLYN KINGS PLAZA     11   \n",
       "4          2017    20267.0    356000.0  WATCHTOWER C/O REAL P     10   \n",
       "\n",
       "   month_number month_name  \n",
       "0             4      April  \n",
       "1            12   December  \n",
       "2             8     August  \n",
       "3            11   November  \n",
       "4            10    October  "
      ]
     },
     "execution_count": 29,
     "metadata": {},
     "output_type": "execute_result"
    }
   ],
   "source": [
    "# having a look at the change\n",
    "subset_df.head()"
   ]
  },
  {
   "cell_type": "markdown",
   "metadata": {},
   "source": [
    "Now we have all columns needed , its time to check the null values in our dataframe."
   ]
  },
  {
   "cell_type": "code",
   "execution_count": 30,
   "metadata": {},
   "outputs": [
    {
     "data": {
      "text/plain": [
       "neighborhood                   0\n",
       "building_class_category       83\n",
       "tax_class_at_sale              0\n",
       "building_class_at_sale         0\n",
       "address                        1\n",
       "sale_price                     0\n",
       "sale_date                      0\n",
       "year_of_sale                   0\n",
       "land_sqft                      0\n",
       "gross_sqft                     0\n",
       "OwnerName                  87259\n",
       "month                          0\n",
       "month_number                   0\n",
       "month_name                     0\n",
       "dtype: int64"
      ]
     },
     "execution_count": 30,
     "metadata": {},
     "output_type": "execute_result"
    }
   ],
   "source": [
    "subset_df.isnull().sum()"
   ]
  },
  {
   "cell_type": "markdown",
   "metadata": {},
   "source": [
    "There are 3 columns with null values, however the OwnerName column which holds the name of individuals who bought this properties has the highest number of missing values, we assume their name are not recorded due to private reasons, so its reasonable to fill it with Anonymous. The building_class_category has 83 missing values, this will take some diggings to be able to figure out the class of the building missing and also for one record missing under the address. We will start with the building_class_category to see if we can get a pattern from the building_class_at_sale that can help us fill the building_class_category missing values."
   ]
  },
  {
   "cell_type": "code",
   "execution_count": 31,
   "metadata": {},
   "outputs": [
    {
     "data": {
      "text/html": [
       "<div>\n",
       "<style scoped>\n",
       "    .dataframe tbody tr th:only-of-type {\n",
       "        vertical-align: middle;\n",
       "    }\n",
       "\n",
       "    .dataframe tbody tr th {\n",
       "        vertical-align: top;\n",
       "    }\n",
       "\n",
       "    .dataframe thead th {\n",
       "        text-align: right;\n",
       "    }\n",
       "</style>\n",
       "<table border=\"1\" class=\"dataframe\">\n",
       "  <thead>\n",
       "    <tr style=\"text-align: right;\">\n",
       "      <th></th>\n",
       "      <th>neighborhood</th>\n",
       "      <th>building_class_category</th>\n",
       "      <th>tax_class_at_sale</th>\n",
       "      <th>building_class_at_sale</th>\n",
       "      <th>address</th>\n",
       "      <th>sale_price</th>\n",
       "      <th>sale_date</th>\n",
       "      <th>year_of_sale</th>\n",
       "      <th>land_sqft</th>\n",
       "      <th>gross_sqft</th>\n",
       "      <th>OwnerName</th>\n",
       "      <th>month</th>\n",
       "      <th>month_number</th>\n",
       "      <th>month_name</th>\n",
       "    </tr>\n",
       "  </thead>\n",
       "  <tbody>\n",
       "    <tr>\n",
       "      <th>12659</th>\n",
       "      <td>WILLIAMSBURG-EAST</td>\n",
       "      <td>NaN</td>\n",
       "      <td>4</td>\n",
       "      <td>RK</td>\n",
       "      <td>1 POWERS STREET</td>\n",
       "      <td>1700000.0</td>\n",
       "      <td>2012-12-27</td>\n",
       "      <td>2012</td>\n",
       "      <td>0.0</td>\n",
       "      <td>0.0</td>\n",
       "      <td>NaN</td>\n",
       "      <td>12</td>\n",
       "      <td>12</td>\n",
       "      <td>December</td>\n",
       "    </tr>\n",
       "    <tr>\n",
       "      <th>24733</th>\n",
       "      <td>WILLIAMSBURG-NORTH</td>\n",
       "      <td>NaN</td>\n",
       "      <td>4</td>\n",
       "      <td>RB</td>\n",
       "      <td>119 NORTH 11TH STREET</td>\n",
       "      <td>1175000.0</td>\n",
       "      <td>2012-12-27</td>\n",
       "      <td>2012</td>\n",
       "      <td>0.0</td>\n",
       "      <td>0.0</td>\n",
       "      <td>NaN</td>\n",
       "      <td>12</td>\n",
       "      <td>12</td>\n",
       "      <td>December</td>\n",
       "    </tr>\n",
       "    <tr>\n",
       "      <th>29285</th>\n",
       "      <td>WILLIAMSBURG-CENTRAL</td>\n",
       "      <td>NaN</td>\n",
       "      <td>4</td>\n",
       "      <td>RK</td>\n",
       "      <td>505 FLUSHING AVENUE</td>\n",
       "      <td>1029014.0</td>\n",
       "      <td>2012-12-26</td>\n",
       "      <td>2012</td>\n",
       "      <td>0.0</td>\n",
       "      <td>0.0</td>\n",
       "      <td>NaN</td>\n",
       "      <td>12</td>\n",
       "      <td>12</td>\n",
       "      <td>December</td>\n",
       "    </tr>\n",
       "    <tr>\n",
       "      <th>55539</th>\n",
       "      <td>GRAVESEND</td>\n",
       "      <td>NaN</td>\n",
       "      <td>4</td>\n",
       "      <td>RB</td>\n",
       "      <td>143 AVENUE O</td>\n",
       "      <td>735875.0</td>\n",
       "      <td>2012-12-31</td>\n",
       "      <td>2012</td>\n",
       "      <td>0.0</td>\n",
       "      <td>0.0</td>\n",
       "      <td>NaN</td>\n",
       "      <td>12</td>\n",
       "      <td>12</td>\n",
       "      <td>December</td>\n",
       "    </tr>\n",
       "    <tr>\n",
       "      <th>152748</th>\n",
       "      <td>GREENPOINT</td>\n",
       "      <td>NaN</td>\n",
       "      <td>4</td>\n",
       "      <td>RB</td>\n",
       "      <td>231 NORMAN AVENUE</td>\n",
       "      <td>229106.0</td>\n",
       "      <td>2012-12-13</td>\n",
       "      <td>2012</td>\n",
       "      <td>0.0</td>\n",
       "      <td>0.0</td>\n",
       "      <td>NaN</td>\n",
       "      <td>12</td>\n",
       "      <td>12</td>\n",
       "      <td>December</td>\n",
       "    </tr>\n",
       "    <tr>\n",
       "      <th>...</th>\n",
       "      <td>...</td>\n",
       "      <td>...</td>\n",
       "      <td>...</td>\n",
       "      <td>...</td>\n",
       "      <td>...</td>\n",
       "      <td>...</td>\n",
       "      <td>...</td>\n",
       "      <td>...</td>\n",
       "      <td>...</td>\n",
       "      <td>...</td>\n",
       "      <td>...</td>\n",
       "      <td>...</td>\n",
       "      <td>...</td>\n",
       "      <td>...</td>\n",
       "    </tr>\n",
       "    <tr>\n",
       "      <th>214403</th>\n",
       "      <td>WILLIAMSBURG-NORTH</td>\n",
       "      <td>NaN</td>\n",
       "      <td>4</td>\n",
       "      <td>RW</td>\n",
       "      <td>22 NORTH 6TH   STREET</td>\n",
       "      <td>0.0</td>\n",
       "      <td>2012-12-10</td>\n",
       "      <td>2012</td>\n",
       "      <td>0.0</td>\n",
       "      <td>0.0</td>\n",
       "      <td>NaN</td>\n",
       "      <td>12</td>\n",
       "      <td>12</td>\n",
       "      <td>December</td>\n",
       "    </tr>\n",
       "    <tr>\n",
       "      <th>214404</th>\n",
       "      <td>WILLIAMSBURG-NORTH</td>\n",
       "      <td>NaN</td>\n",
       "      <td>4</td>\n",
       "      <td>RG</td>\n",
       "      <td>101 NORTH 5TH   STREET</td>\n",
       "      <td>0.0</td>\n",
       "      <td>2012-12-26</td>\n",
       "      <td>2012</td>\n",
       "      <td>0.0</td>\n",
       "      <td>0.0</td>\n",
       "      <td>NaN</td>\n",
       "      <td>12</td>\n",
       "      <td>12</td>\n",
       "      <td>December</td>\n",
       "    </tr>\n",
       "    <tr>\n",
       "      <th>214405</th>\n",
       "      <td>WILLIAMSBURG-NORTH</td>\n",
       "      <td>NaN</td>\n",
       "      <td>4</td>\n",
       "      <td>RB</td>\n",
       "      <td>287 GRAND STREET</td>\n",
       "      <td>0.0</td>\n",
       "      <td>2012-12-27</td>\n",
       "      <td>2012</td>\n",
       "      <td>0.0</td>\n",
       "      <td>0.0</td>\n",
       "      <td>NaN</td>\n",
       "      <td>12</td>\n",
       "      <td>12</td>\n",
       "      <td>December</td>\n",
       "    </tr>\n",
       "    <tr>\n",
       "      <th>214874</th>\n",
       "      <td>WILLIAMSBURG-SOUTH</td>\n",
       "      <td>NaN</td>\n",
       "      <td>4</td>\n",
       "      <td>RK</td>\n",
       "      <td>186 GRAND STREET</td>\n",
       "      <td>0.0</td>\n",
       "      <td>2012-12-27</td>\n",
       "      <td>2012</td>\n",
       "      <td>0.0</td>\n",
       "      <td>0.0</td>\n",
       "      <td>NaN</td>\n",
       "      <td>12</td>\n",
       "      <td>12</td>\n",
       "      <td>December</td>\n",
       "    </tr>\n",
       "    <tr>\n",
       "      <th>214875</th>\n",
       "      <td>WILLIAMSBURG-SOUTH</td>\n",
       "      <td>NaN</td>\n",
       "      <td>4</td>\n",
       "      <td>RG</td>\n",
       "      <td>24 DUNHAM PLACE</td>\n",
       "      <td>0.0</td>\n",
       "      <td>2012-11-30</td>\n",
       "      <td>2012</td>\n",
       "      <td>0.0</td>\n",
       "      <td>0.0</td>\n",
       "      <td>NaN</td>\n",
       "      <td>11</td>\n",
       "      <td>11</td>\n",
       "      <td>November</td>\n",
       "    </tr>\n",
       "  </tbody>\n",
       "</table>\n",
       "<p>83 rows × 14 columns</p>\n",
       "</div>"
      ],
      "text/plain": [
       "                neighborhood building_class_category  tax_class_at_sale  \\\n",
       "12659      WILLIAMSBURG-EAST                     NaN                  4   \n",
       "24733     WILLIAMSBURG-NORTH                     NaN                  4   \n",
       "29285   WILLIAMSBURG-CENTRAL                     NaN                  4   \n",
       "55539              GRAVESEND                     NaN                  4   \n",
       "152748            GREENPOINT                     NaN                  4   \n",
       "...                      ...                     ...                ...   \n",
       "214403    WILLIAMSBURG-NORTH                     NaN                  4   \n",
       "214404    WILLIAMSBURG-NORTH                     NaN                  4   \n",
       "214405    WILLIAMSBURG-NORTH                     NaN                  4   \n",
       "214874    WILLIAMSBURG-SOUTH                     NaN                  4   \n",
       "214875    WILLIAMSBURG-SOUTH                     NaN                  4   \n",
       "\n",
       "       building_class_at_sale                 address  sale_price  sale_date  \\\n",
       "12659                      RK         1 POWERS STREET   1700000.0 2012-12-27   \n",
       "24733                      RB   119 NORTH 11TH STREET   1175000.0 2012-12-27   \n",
       "29285                      RK     505 FLUSHING AVENUE   1029014.0 2012-12-26   \n",
       "55539                      RB            143 AVENUE O    735875.0 2012-12-31   \n",
       "152748                     RB       231 NORMAN AVENUE    229106.0 2012-12-13   \n",
       "...                       ...                     ...         ...        ...   \n",
       "214403                     RW   22 NORTH 6TH   STREET         0.0 2012-12-10   \n",
       "214404                     RG  101 NORTH 5TH   STREET         0.0 2012-12-26   \n",
       "214405                     RB        287 GRAND STREET         0.0 2012-12-27   \n",
       "214874                     RK        186 GRAND STREET         0.0 2012-12-27   \n",
       "214875                     RG         24 DUNHAM PLACE         0.0 2012-11-30   \n",
       "\n",
       "        year_of_sale  land_sqft  gross_sqft OwnerName  month  month_number  \\\n",
       "12659           2012        0.0         0.0       NaN     12            12   \n",
       "24733           2012        0.0         0.0       NaN     12            12   \n",
       "29285           2012        0.0         0.0       NaN     12            12   \n",
       "55539           2012        0.0         0.0       NaN     12            12   \n",
       "152748          2012        0.0         0.0       NaN     12            12   \n",
       "...              ...        ...         ...       ...    ...           ...   \n",
       "214403          2012        0.0         0.0       NaN     12            12   \n",
       "214404          2012        0.0         0.0       NaN     12            12   \n",
       "214405          2012        0.0         0.0       NaN     12            12   \n",
       "214874          2012        0.0         0.0       NaN     12            12   \n",
       "214875          2012        0.0         0.0       NaN     11            11   \n",
       "\n",
       "       month_name  \n",
       "12659    December  \n",
       "24733    December  \n",
       "29285    December  \n",
       "55539    December  \n",
       "152748   December  \n",
       "...           ...  \n",
       "214403   December  \n",
       "214404   December  \n",
       "214405   December  \n",
       "214874   December  \n",
       "214875   November  \n",
       "\n",
       "[83 rows x 14 columns]"
      ]
     },
     "execution_count": 31,
     "metadata": {},
     "output_type": "execute_result"
    }
   ],
   "source": [
    "#checking where building_class_category is null\n",
    "subset_df.loc[subset_df[\"building_class_category\"].isnull()]"
   ]
  },
  {
   "cell_type": "code",
   "execution_count": 32,
   "metadata": {},
   "outputs": [
    {
     "data": {
      "text/plain": [
       "RG    41\n",
       "RP    14\n",
       "RB    10\n",
       "RS     9\n",
       "RW     6\n",
       "RK     3\n",
       "Name: building_class_at_sale, dtype: int64"
      ]
     },
     "execution_count": 32,
     "metadata": {},
     "output_type": "execute_result"
    }
   ],
   "source": [
    "# looking at the distinct building_class_at_sale\n",
    "subset_df.loc[subset_df[\"building_class_category\"].isnull()].building_class_at_sale.value_counts()"
   ]
  },
  {
   "cell_type": "code",
   "execution_count": 33,
   "metadata": {},
   "outputs": [
    {
     "data": {
      "text/plain": [
       "1227      44  CONDO PARKING\n",
       "1523      44  CONDO PARKING\n",
       "2242      44  CONDO PARKING\n",
       "2391       44 CONDO PARKING\n",
       "4693      44  CONDO PARKING\n",
       "                ...        \n",
       "259113     44 CONDO PARKING\n",
       "259115     44 CONDO PARKING\n",
       "259169     44 CONDO PARKING\n",
       "259170     44 CONDO PARKING\n",
       "259172     44 CONDO PARKING\n",
       "Name: building_class_category, Length: 2378, dtype: object"
      ]
     },
     "execution_count": 33,
     "metadata": {},
     "output_type": "execute_result"
    }
   ],
   "source": [
    "# taking the most frequent one into account\n",
    "subset_df.loc[subset_df[\"building_class_at_sale\"] == \"RG\", \"building_class_category\"]"
   ]
  },
  {
   "cell_type": "markdown",
   "metadata": {},
   "source": [
    "We assume the missing values of building_class_category is the most frequent one, hence, we fill up the missing values with \"44 CONDO PARKING\" "
   ]
  },
  {
   "cell_type": "code",
   "execution_count": 35,
   "metadata": {},
   "outputs": [],
   "source": [
    "subset_df.loc[subset_df[\"building_class_category\"].isnull(), \"building_class_category\"] = \"44 CONDO PARKING\""
   ]
  },
  {
   "cell_type": "code",
   "execution_count": 36,
   "metadata": {},
   "outputs": [
    {
     "data": {
      "text/plain": [
       "neighborhood                   0\n",
       "building_class_category        0\n",
       "tax_class_at_sale              0\n",
       "building_class_at_sale         0\n",
       "address                        1\n",
       "sale_price                     0\n",
       "sale_date                      0\n",
       "year_of_sale                   0\n",
       "land_sqft                      0\n",
       "gross_sqft                     0\n",
       "OwnerName                  87259\n",
       "month                          0\n",
       "month_number                   0\n",
       "month_name                     0\n",
       "dtype: int64"
      ]
     },
     "execution_count": 36,
     "metadata": {},
     "output_type": "execute_result"
    }
   ],
   "source": [
    "subset_df.isnull().sum()"
   ]
  },
  {
   "cell_type": "code",
   "execution_count": 37,
   "metadata": {},
   "outputs": [
    {
     "data": {
      "text/html": [
       "<div>\n",
       "<style scoped>\n",
       "    .dataframe tbody tr th:only-of-type {\n",
       "        vertical-align: middle;\n",
       "    }\n",
       "\n",
       "    .dataframe tbody tr th {\n",
       "        vertical-align: top;\n",
       "    }\n",
       "\n",
       "    .dataframe thead th {\n",
       "        text-align: right;\n",
       "    }\n",
       "</style>\n",
       "<table border=\"1\" class=\"dataframe\">\n",
       "  <thead>\n",
       "    <tr style=\"text-align: right;\">\n",
       "      <th></th>\n",
       "      <th>neighborhood</th>\n",
       "      <th>building_class_category</th>\n",
       "      <th>tax_class_at_sale</th>\n",
       "      <th>building_class_at_sale</th>\n",
       "      <th>address</th>\n",
       "      <th>sale_price</th>\n",
       "      <th>sale_date</th>\n",
       "      <th>year_of_sale</th>\n",
       "      <th>land_sqft</th>\n",
       "      <th>gross_sqft</th>\n",
       "      <th>OwnerName</th>\n",
       "      <th>month</th>\n",
       "      <th>month_number</th>\n",
       "      <th>month_name</th>\n",
       "    </tr>\n",
       "  </thead>\n",
       "  <tbody>\n",
       "    <tr>\n",
       "      <th>169571</th>\n",
       "      <td>SHEEPSHEAD BAY</td>\n",
       "      <td>10  COOPS - ELEVATOR APARTMENTS</td>\n",
       "      <td>2</td>\n",
       "      <td>D4</td>\n",
       "      <td>NaN</td>\n",
       "      <td>120000.0</td>\n",
       "      <td>2003-06-24</td>\n",
       "      <td>2003</td>\n",
       "      <td>0.0</td>\n",
       "      <td>0.0</td>\n",
       "      <td>ATLANTIC TOWERS APART</td>\n",
       "      <td>6</td>\n",
       "      <td>6</td>\n",
       "      <td>June</td>\n",
       "    </tr>\n",
       "  </tbody>\n",
       "</table>\n",
       "</div>"
      ],
      "text/plain": [
       "          neighborhood          building_class_category  tax_class_at_sale  \\\n",
       "169571  SHEEPSHEAD BAY  10  COOPS - ELEVATOR APARTMENTS                  2   \n",
       "\n",
       "       building_class_at_sale address  sale_price  sale_date  year_of_sale  \\\n",
       "169571                     D4     NaN    120000.0 2003-06-24          2003   \n",
       "\n",
       "        land_sqft  gross_sqft              OwnerName  month  month_number  \\\n",
       "169571        0.0         0.0  ATLANTIC TOWERS APART      6             6   \n",
       "\n",
       "       month_name  \n",
       "169571       June  "
      ]
     },
     "execution_count": 37,
     "metadata": {},
     "output_type": "execute_result"
    }
   ],
   "source": [
    "# checking where address is null\n",
    "subset_df.loc[subset_df[\"address\"].isnull()]"
   ]
  },
  {
   "cell_type": "code",
   "execution_count": 38,
   "metadata": {},
   "outputs": [
    {
     "data": {
      "text/plain": [
       "2285 BRAGG STREET, 4B        2\n",
       "2645 HOMECREST AVE, 1B       1\n",
       "1213 AVENUE Z, F30           1\n",
       "3080 VOORHIES AVENUE, 3L     1\n",
       "2719 EAST 28TH STREET, 1J    1\n",
       "                            ..\n",
       "3021 AVENUE Z, 4E            1\n",
       "2600 EAST 21ST STREET, 1C    1\n",
       "3090 VOORHIES AVENUE, 5F     1\n",
       "3903 NOSTRAND AVENUE, 5U     1\n",
       "2195 EAST 22ND STREET, 4L    1\n",
       "Name: address, Length: 238, dtype: int64"
      ]
     },
     "execution_count": 38,
     "metadata": {},
     "output_type": "execute_result"
    }
   ],
   "source": [
    "subset_df.loc[(subset_df[\"neighborhood\"] == \"SHEEPSHEAD BAY\") & (subset_df[\"building_class_category\"] == \"10 COOPS - ELEVATOR APARTMENTS\")].address.value_counts()"
   ]
  },
  {
   "cell_type": "code",
   "execution_count": 39,
   "metadata": {},
   "outputs": [],
   "source": [
    "# replacing null value in the address with \"Not specified\" \n",
    "subset_df.loc[subset_df[\"address\"].isnull(), \"address\"] = \"Not specified\""
   ]
  },
  {
   "cell_type": "code",
   "execution_count": 40,
   "metadata": {},
   "outputs": [],
   "source": [
    "# replacing null value in the address with \"Anonymous\" \n",
    "subset_df.loc[subset_df[\"OwnerName\"].isnull(), \"OwnerName\"] = \"Anonymous\""
   ]
  },
  {
   "cell_type": "code",
   "execution_count": 41,
   "metadata": {},
   "outputs": [
    {
     "data": {
      "text/plain": [
       "neighborhood               0\n",
       "building_class_category    0\n",
       "tax_class_at_sale          0\n",
       "building_class_at_sale     0\n",
       "address                    0\n",
       "sale_price                 0\n",
       "sale_date                  0\n",
       "year_of_sale               0\n",
       "land_sqft                  0\n",
       "gross_sqft                 0\n",
       "OwnerName                  0\n",
       "month                      0\n",
       "month_number               0\n",
       "month_name                 0\n",
       "dtype: int64"
      ]
     },
     "execution_count": 41,
     "metadata": {},
     "output_type": "execute_result"
    }
   ],
   "source": [
    "# checking to see if there's still any missing values\n",
    "subset_df.isnull().sum()"
   ]
  },
  {
   "cell_type": "code",
   "execution_count": 42,
   "metadata": {},
   "outputs": [
    {
     "data": {
      "text/plain": [
       "Index(['BEDFORD STUYVESANT', 'EAST NEW YORK', 'BOROUGH PARK', 'BUSHWICK',\n",
       "       'CANARSIE', 'BAY RIDGE', 'CROWN HEIGHTS', 'FLATBUSH-EAST',\n",
       "       'SHEEPSHEAD BAY', 'GRAVESEND', 'PARK SLOPE', 'SUNSET PARK',\n",
       "       'BENSONHURST', 'FLATBUSH-CENTRAL', 'OCEAN PARKWAY-NORTH', 'OCEAN HILL',\n",
       "       'WILLIAMSBURG-EAST', 'GREENPOINT', 'WILLIAMSBURG-NORTH',\n",
       "       'BRIGHTON BEACH', 'MIDWOOD', 'CYPRESS HILLS', 'FLATBUSH-NORTH',\n",
       "       'MADISON', 'MARINE PARK', 'OCEAN PARKWAY-SOUTH', 'CLINTON HILL',\n",
       "       'BROOKLYN HEIGHTS', 'DYKER HEIGHTS', 'BATH BEACH', 'PROSPECT HEIGHTS',\n",
       "       'WILLIAMSBURG-CENTRAL', 'WILLIAMSBURG-SOUTH', 'BROWNSVILLE',\n",
       "       'OLD MILL BASIN', 'FLATLANDS', 'FORT GREENE', 'CONEY ISLAND',\n",
       "       'PARK SLOPE SOUTH', 'CARROLL GARDENS', 'BERGEN BEACH',\n",
       "       'DOWNTOWN-FULTON FERRY', 'BOERUM HILL', 'WINDSOR TERRACE', 'GOWANUS',\n",
       "       'FLATBUSH-LEFFERTS GARDEN', 'KENSINGTON', 'DOWNTOWN-FULTON MALL',\n",
       "       'DOWNTOWN-METROTECH', 'WYCKOFF HEIGHTS', 'GERRITSEN BEACH',\n",
       "       'COBBLE HILL', 'MILL BASIN', 'COBBLE HILL-WEST', 'RED HOOK',\n",
       "       'MANHATTAN BEACH', 'BUSH TERMINAL', 'SEAGATE', 'SPRING CREEK',\n",
       "       'NAVY YARD', 'BROOKLYN-UNKNOWN', 'JAMAICA BAY', '3004', '3019'],\n",
       "      dtype='object')"
      ]
     },
     "execution_count": 42,
     "metadata": {},
     "output_type": "execute_result"
    }
   ],
   "source": [
    "# checking the distinct neigborhood\n",
    "subset_df.neighborhood.value_counts().keys()"
   ]
  },
  {
   "cell_type": "markdown",
   "metadata": {},
   "source": [
    "\n",
    "The list above are the neighborhoods in brooklyn, we have 3 incorrect records (BROOKLYN-UNKNOWN, 3004, 3019), this certainly are not neighborhoods name in brooklyn. Time tio investigate the records so we can make changes to this incorrect neighborhoods."
   ]
  },
  {
   "cell_type": "code",
   "execution_count": 43,
   "metadata": {},
   "outputs": [
    {
     "data": {
      "text/html": [
       "<div>\n",
       "<style scoped>\n",
       "    .dataframe tbody tr th:only-of-type {\n",
       "        vertical-align: middle;\n",
       "    }\n",
       "\n",
       "    .dataframe tbody tr th {\n",
       "        vertical-align: top;\n",
       "    }\n",
       "\n",
       "    .dataframe thead th {\n",
       "        text-align: right;\n",
       "    }\n",
       "</style>\n",
       "<table border=\"1\" class=\"dataframe\">\n",
       "  <thead>\n",
       "    <tr style=\"text-align: right;\">\n",
       "      <th></th>\n",
       "      <th>neighborhood</th>\n",
       "      <th>building_class_category</th>\n",
       "      <th>tax_class_at_sale</th>\n",
       "      <th>building_class_at_sale</th>\n",
       "      <th>address</th>\n",
       "      <th>sale_price</th>\n",
       "      <th>sale_date</th>\n",
       "      <th>year_of_sale</th>\n",
       "      <th>land_sqft</th>\n",
       "      <th>gross_sqft</th>\n",
       "      <th>OwnerName</th>\n",
       "      <th>month</th>\n",
       "      <th>month_number</th>\n",
       "      <th>month_name</th>\n",
       "    </tr>\n",
       "  </thead>\n",
       "  <tbody>\n",
       "    <tr>\n",
       "      <th>269099</th>\n",
       "      <td>3019</td>\n",
       "      <td>08  RENTALS - ELEVATOR APARTMENTS</td>\n",
       "      <td>2</td>\n",
       "      <td>D1</td>\n",
       "      <td>649 WASHINGTON AVENUE</td>\n",
       "      <td>0.0</td>\n",
       "      <td>2007-12-12</td>\n",
       "      <td>2007</td>\n",
       "      <td>0.0</td>\n",
       "      <td>0.0</td>\n",
       "      <td>Anonymous</td>\n",
       "      <td>12</td>\n",
       "      <td>12</td>\n",
       "      <td>December</td>\n",
       "    </tr>\n",
       "    <tr>\n",
       "      <th>390881</th>\n",
       "      <td>3004</td>\n",
       "      <td>04  TAX CLASS 1 CONDOS</td>\n",
       "      <td>1</td>\n",
       "      <td>R3</td>\n",
       "      <td>14 BAY 47TH STREET</td>\n",
       "      <td>346788.0</td>\n",
       "      <td>2006-05-24</td>\n",
       "      <td>2006</td>\n",
       "      <td>0.0</td>\n",
       "      <td>0.0</td>\n",
       "      <td>Anonymous</td>\n",
       "      <td>5</td>\n",
       "      <td>5</td>\n",
       "      <td>May</td>\n",
       "    </tr>\n",
       "    <tr>\n",
       "      <th>390882</th>\n",
       "      <td>3004</td>\n",
       "      <td>04  TAX CLASS 1 CONDOS</td>\n",
       "      <td>1</td>\n",
       "      <td>R3</td>\n",
       "      <td>14 BAY 47 STREET</td>\n",
       "      <td>334620.0</td>\n",
       "      <td>2006-04-06</td>\n",
       "      <td>2006</td>\n",
       "      <td>0.0</td>\n",
       "      <td>0.0</td>\n",
       "      <td>Anonymous</td>\n",
       "      <td>4</td>\n",
       "      <td>4</td>\n",
       "      <td>April</td>\n",
       "    </tr>\n",
       "  </tbody>\n",
       "</table>\n",
       "</div>"
      ],
      "text/plain": [
       "       neighborhood            building_class_category  tax_class_at_sale  \\\n",
       "269099         3019  08  RENTALS - ELEVATOR APARTMENTS                  2   \n",
       "390881         3004             04  TAX CLASS 1 CONDOS                  1   \n",
       "390882         3004             04  TAX CLASS 1 CONDOS                  1   \n",
       "\n",
       "       building_class_at_sale                address  sale_price  sale_date  \\\n",
       "269099                     D1  649 WASHINGTON AVENUE         0.0 2007-12-12   \n",
       "390881                     R3     14 BAY 47TH STREET    346788.0 2006-05-24   \n",
       "390882                     R3       14 BAY 47 STREET    334620.0 2006-04-06   \n",
       "\n",
       "        year_of_sale  land_sqft  gross_sqft  OwnerName  month  month_number  \\\n",
       "269099          2007        0.0         0.0  Anonymous     12            12   \n",
       "390881          2006        0.0         0.0  Anonymous      5             5   \n",
       "390882          2006        0.0         0.0  Anonymous      4             4   \n",
       "\n",
       "       month_name  \n",
       "269099   December  \n",
       "390881        May  \n",
       "390882      April  "
      ]
     },
     "execution_count": 43,
     "metadata": {},
     "output_type": "execute_result"
    }
   ],
   "source": [
    "# checking where neighborhood is 3004 and 3019\n",
    "subset_df.loc[(subset_df[\"neighborhood\"] == \"3004\") | (subset_df[\"neighborhood\"] == \"3019\")]"
   ]
  },
  {
   "cell_type": "code",
   "execution_count": 44,
   "metadata": {},
   "outputs": [
    {
     "data": {
      "text/html": [
       "<div>\n",
       "<style scoped>\n",
       "    .dataframe tbody tr th:only-of-type {\n",
       "        vertical-align: middle;\n",
       "    }\n",
       "\n",
       "    .dataframe tbody tr th {\n",
       "        vertical-align: top;\n",
       "    }\n",
       "\n",
       "    .dataframe thead th {\n",
       "        text-align: right;\n",
       "    }\n",
       "</style>\n",
       "<table border=\"1\" class=\"dataframe\">\n",
       "  <thead>\n",
       "    <tr style=\"text-align: right;\">\n",
       "      <th></th>\n",
       "      <th>neighborhood</th>\n",
       "      <th>building_class_category</th>\n",
       "      <th>tax_class_at_sale</th>\n",
       "      <th>building_class_at_sale</th>\n",
       "      <th>address</th>\n",
       "      <th>sale_price</th>\n",
       "      <th>sale_date</th>\n",
       "      <th>year_of_sale</th>\n",
       "      <th>land_sqft</th>\n",
       "      <th>gross_sqft</th>\n",
       "      <th>OwnerName</th>\n",
       "      <th>month</th>\n",
       "      <th>month_number</th>\n",
       "      <th>month_name</th>\n",
       "    </tr>\n",
       "  </thead>\n",
       "  <tbody>\n",
       "    <tr>\n",
       "      <th>99932</th>\n",
       "      <td>GRAVESEND</td>\n",
       "      <td>04 TAX CLASS 1 CONDOS</td>\n",
       "      <td>1</td>\n",
       "      <td>R3</td>\n",
       "      <td>14 BAY 47TH STREET</td>\n",
       "      <td>480000.0</td>\n",
       "      <td>2017-01-26</td>\n",
       "      <td>2017</td>\n",
       "      <td>0.0</td>\n",
       "      <td>0.0</td>\n",
       "      <td>Anonymous</td>\n",
       "      <td>1</td>\n",
       "      <td>1</td>\n",
       "      <td>January</td>\n",
       "    </tr>\n",
       "    <tr>\n",
       "      <th>124789</th>\n",
       "      <td>GRAVESEND</td>\n",
       "      <td>04  TAX CLASS 1 CONDOS</td>\n",
       "      <td>1</td>\n",
       "      <td>R3</td>\n",
       "      <td>14 BAY 47TH STREET</td>\n",
       "      <td>368000.0</td>\n",
       "      <td>2013-05-06</td>\n",
       "      <td>2013</td>\n",
       "      <td>0.0</td>\n",
       "      <td>0.0</td>\n",
       "      <td>Anonymous</td>\n",
       "      <td>5</td>\n",
       "      <td>5</td>\n",
       "      <td>May</td>\n",
       "    </tr>\n",
       "    <tr>\n",
       "      <th>390881</th>\n",
       "      <td>3004</td>\n",
       "      <td>04  TAX CLASS 1 CONDOS</td>\n",
       "      <td>1</td>\n",
       "      <td>R3</td>\n",
       "      <td>14 BAY 47TH STREET</td>\n",
       "      <td>346788.0</td>\n",
       "      <td>2006-05-24</td>\n",
       "      <td>2006</td>\n",
       "      <td>0.0</td>\n",
       "      <td>0.0</td>\n",
       "      <td>Anonymous</td>\n",
       "      <td>5</td>\n",
       "      <td>5</td>\n",
       "      <td>May</td>\n",
       "    </tr>\n",
       "  </tbody>\n",
       "</table>\n",
       "</div>"
      ],
      "text/plain": [
       "       neighborhood building_class_category  tax_class_at_sale  \\\n",
       "99932     GRAVESEND   04 TAX CLASS 1 CONDOS                  1   \n",
       "124789    GRAVESEND  04  TAX CLASS 1 CONDOS                  1   \n",
       "390881         3004  04  TAX CLASS 1 CONDOS                  1   \n",
       "\n",
       "       building_class_at_sale             address  sale_price  sale_date  \\\n",
       "99932                      R3  14 BAY 47TH STREET    480000.0 2017-01-26   \n",
       "124789                     R3  14 BAY 47TH STREET    368000.0 2013-05-06   \n",
       "390881                     R3  14 BAY 47TH STREET    346788.0 2006-05-24   \n",
       "\n",
       "        year_of_sale  land_sqft  gross_sqft  OwnerName  month  month_number  \\\n",
       "99932           2017        0.0         0.0  Anonymous      1             1   \n",
       "124789          2013        0.0         0.0  Anonymous      5             5   \n",
       "390881          2006        0.0         0.0  Anonymous      5             5   \n",
       "\n",
       "       month_name  \n",
       "99932     January  \n",
       "124789        May  \n",
       "390881        May  "
      ]
     },
     "execution_count": 44,
     "metadata": {},
     "output_type": "execute_result"
    }
   ],
   "source": [
    "subset_df.loc[subset_df[\"address\"] == \"14 BAY 47TH STREET\"]"
   ]
  },
  {
   "cell_type": "code",
   "execution_count": 45,
   "metadata": {},
   "outputs": [],
   "source": [
    "# setting 3004 to where neighborhood is \"GRAVESEND\" \n",
    "subset_df.loc[subset_df[\"neighborhood\"] == \"3004\", \"neighborhood\"] = \"GRAVESEND\""
   ]
  },
  {
   "cell_type": "code",
   "execution_count": 46,
   "metadata": {},
   "outputs": [
    {
     "data": {
      "text/html": [
       "<div>\n",
       "<style scoped>\n",
       "    .dataframe tbody tr th:only-of-type {\n",
       "        vertical-align: middle;\n",
       "    }\n",
       "\n",
       "    .dataframe tbody tr th {\n",
       "        vertical-align: top;\n",
       "    }\n",
       "\n",
       "    .dataframe thead th {\n",
       "        text-align: right;\n",
       "    }\n",
       "</style>\n",
       "<table border=\"1\" class=\"dataframe\">\n",
       "  <thead>\n",
       "    <tr style=\"text-align: right;\">\n",
       "      <th></th>\n",
       "      <th>neighborhood</th>\n",
       "      <th>building_class_category</th>\n",
       "      <th>tax_class_at_sale</th>\n",
       "      <th>building_class_at_sale</th>\n",
       "      <th>address</th>\n",
       "      <th>sale_price</th>\n",
       "      <th>sale_date</th>\n",
       "      <th>year_of_sale</th>\n",
       "      <th>land_sqft</th>\n",
       "      <th>gross_sqft</th>\n",
       "      <th>OwnerName</th>\n",
       "      <th>month</th>\n",
       "      <th>month_number</th>\n",
       "      <th>month_name</th>\n",
       "    </tr>\n",
       "  </thead>\n",
       "  <tbody>\n",
       "    <tr>\n",
       "      <th>56520</th>\n",
       "      <td>CROWN HEIGHTS</td>\n",
       "      <td>12  CONDOS - WALKUP APARTMENTS</td>\n",
       "      <td>2</td>\n",
       "      <td>R2</td>\n",
       "      <td>649 WASHINGTON AVENUE</td>\n",
       "      <td>728558.0</td>\n",
       "      <td>2008-02-25</td>\n",
       "      <td>2008</td>\n",
       "      <td>0.0</td>\n",
       "      <td>0.0</td>\n",
       "      <td>Anonymous</td>\n",
       "      <td>2</td>\n",
       "      <td>2</td>\n",
       "      <td>February</td>\n",
       "    </tr>\n",
       "    <tr>\n",
       "      <th>269099</th>\n",
       "      <td>3019</td>\n",
       "      <td>08  RENTALS - ELEVATOR APARTMENTS</td>\n",
       "      <td>2</td>\n",
       "      <td>D1</td>\n",
       "      <td>649 WASHINGTON AVENUE</td>\n",
       "      <td>0.0</td>\n",
       "      <td>2007-12-12</td>\n",
       "      <td>2007</td>\n",
       "      <td>0.0</td>\n",
       "      <td>0.0</td>\n",
       "      <td>Anonymous</td>\n",
       "      <td>12</td>\n",
       "      <td>12</td>\n",
       "      <td>December</td>\n",
       "    </tr>\n",
       "  </tbody>\n",
       "</table>\n",
       "</div>"
      ],
      "text/plain": [
       "         neighborhood            building_class_category  tax_class_at_sale  \\\n",
       "56520   CROWN HEIGHTS     12  CONDOS - WALKUP APARTMENTS                  2   \n",
       "269099           3019  08  RENTALS - ELEVATOR APARTMENTS                  2   \n",
       "\n",
       "       building_class_at_sale                address  sale_price  sale_date  \\\n",
       "56520                      R2  649 WASHINGTON AVENUE    728558.0 2008-02-25   \n",
       "269099                     D1  649 WASHINGTON AVENUE         0.0 2007-12-12   \n",
       "\n",
       "        year_of_sale  land_sqft  gross_sqft  OwnerName  month  month_number  \\\n",
       "56520           2008        0.0         0.0  Anonymous      2             2   \n",
       "269099          2007        0.0         0.0  Anonymous     12            12   \n",
       "\n",
       "       month_name  \n",
       "56520    February  \n",
       "269099   December  "
      ]
     },
     "execution_count": 46,
     "metadata": {},
     "output_type": "execute_result"
    }
   ],
   "source": [
    "subset_df.loc[subset_df[\"address\"] == \"649 WASHINGTON AVENUE\"]"
   ]
  },
  {
   "cell_type": "code",
   "execution_count": 65,
   "metadata": {},
   "outputs": [],
   "source": [
    "# setting 3019 to where neighborhood is \"CROWN HEIGHTS\" \n",
    "\n",
    "subset_df.loc[subset_df[\"neighborhood\"] == \"3019\", \"neighborhood\"] = \"CROWN HEIGHTS\""
   ]
  },
  {
   "cell_type": "code",
   "execution_count": 64,
   "metadata": {},
   "outputs": [],
   "source": [
    "# setting \"BROOKLYN-UNKNOWN\" to where neighborhood is \"BROOKLYN HEIGHTS\" \n",
    "subset_df.loc[subset_df[\"neighborhood\"] == 'BROOKLYN-UNKNOWN', \"neighborhood\"] = \"BROOKLYN HEIGHTS\""
   ]
  },
  {
   "cell_type": "markdown",
   "metadata": {},
   "source": [
    "Assigning various neighborhoods to their respective areas  "
   ]
  },
  {
   "cell_type": "code",
   "execution_count": 49,
   "metadata": {},
   "outputs": [],
   "source": [
    "subset_df.loc[subset_df[\"neighborhood\"] == 'DOWNTOWN-FULTON MALL', \"neighborhood\"] = 'DUMBO'"
   ]
  },
  {
   "cell_type": "code",
   "execution_count": 50,
   "metadata": {},
   "outputs": [],
   "source": [
    "subset_df.loc[subset_df[\"neighborhood\"] == 'DOWNTOWN-FULTON FERRY', \"neighborhood\"] = 'DUMBO'"
   ]
  },
  {
   "cell_type": "code",
   "execution_count": 51,
   "metadata": {},
   "outputs": [],
   "source": [
    "subset_df.loc[subset_df[\"neighborhood\"] == 'WILLIAMSBURG-EAST', \"neighborhood\"] = 'WILLIAMSBURG'"
   ]
  },
  {
   "cell_type": "code",
   "execution_count": 52,
   "metadata": {},
   "outputs": [],
   "source": [
    "subset_df.loc[subset_df[\"neighborhood\"] == 'WILLIAMSBURG-NORTH', \"neighborhood\"] = 'WILLIAMSBURG'"
   ]
  },
  {
   "cell_type": "code",
   "execution_count": 53,
   "metadata": {},
   "outputs": [],
   "source": [
    "subset_df.loc[subset_df[\"neighborhood\"] == 'WILLIAMSBURG-CENTRAL', \"neighborhood\"] = 'WILLIAMSBURG'"
   ]
  },
  {
   "cell_type": "code",
   "execution_count": 54,
   "metadata": {},
   "outputs": [],
   "source": [
    "subset_df.loc[subset_df[\"neighborhood\"] == 'WILLIAMSBURG-SOUTH', \"neighborhood\"] = 'WILLIAMSBURG'"
   ]
  },
  {
   "cell_type": "code",
   "execution_count": 55,
   "metadata": {},
   "outputs": [],
   "source": [
    "subset_df.loc[subset_df[\"neighborhood\"] == 'COBBLE HILL-WEST', \"neighborhood\"] = 'COBBLE HILL'"
   ]
  },
  {
   "cell_type": "code",
   "execution_count": 56,
   "metadata": {},
   "outputs": [],
   "source": [
    "subset_df.loc[subset_df[\"neighborhood\"] == 'FLATBUSH-NORTH', \"neighborhood\"] = 'FLATBUSH'"
   ]
  },
  {
   "cell_type": "code",
   "execution_count": 57,
   "metadata": {},
   "outputs": [],
   "source": [
    "subset_df.loc[subset_df[\"neighborhood\"] == 'FLATBUSH-CENTRAL', \"neighborhood\"] = 'FLATBUSH'"
   ]
  },
  {
   "cell_type": "code",
   "execution_count": 58,
   "metadata": {},
   "outputs": [],
   "source": [
    "subset_df.loc[subset_df[\"neighborhood\"] == 'FLATBUSH-EAST', \"neighborhood\"] = 'FLATBUSH'"
   ]
  },
  {
   "cell_type": "code",
   "execution_count": 59,
   "metadata": {},
   "outputs": [],
   "source": [
    "subset_df.loc[subset_df[\"neighborhood\"] == 'FLATBUSH-LEFFERTS GARDEN', \"neighborhood\"] = 'FLATBUSH'"
   ]
  },
  {
   "cell_type": "code",
   "execution_count": 60,
   "metadata": {},
   "outputs": [],
   "source": [
    "subset_df.loc[subset_df[\"neighborhood\"] == 'OCEAN PARKWAY-NORTH', \"neighborhood\"] = 'OCEAN PARKWAY'"
   ]
  },
  {
   "cell_type": "code",
   "execution_count": 61,
   "metadata": {},
   "outputs": [],
   "source": [
    "subset_df.loc[subset_df[\"neighborhood\"] == 'OCEAN PARKWAY-SOUTH', \"neighborhood\"] = 'OCEAN PARKWAY'"
   ]
  },
  {
   "cell_type": "code",
   "execution_count": 62,
   "metadata": {},
   "outputs": [],
   "source": [
    "subset_df.loc[subset_df[\"neighborhood\"] == 'PARK SLOPE SOUTH', \"neighborhood\"] = 'PARK SLOPE'"
   ]
  },
  {
   "cell_type": "code",
   "execution_count": 63,
   "metadata": {},
   "outputs": [
    {
     "data": {
      "text/plain": [
       "Index(['FLATBUSH', 'BEDFORD STUYVESANT', 'WILLIAMSBURG', 'EAST NEW YORK',\n",
       "       'BOROUGH PARK', 'PARK SLOPE', 'BUSHWICK', 'CANARSIE', 'BAY RIDGE',\n",
       "       'OCEAN PARKWAY', 'CROWN HEIGHTS', 'SHEEPSHEAD BAY', 'GRAVESEND',\n",
       "       'SUNSET PARK', 'BENSONHURST', 'OCEAN HILL', 'GREENPOINT',\n",
       "       'BRIGHTON BEACH', 'MIDWOOD', 'CYPRESS HILLS', 'MADISON', 'MARINE PARK',\n",
       "       'CLINTON HILL', 'BROOKLYN HEIGHTS', 'DUMBO', 'DYKER HEIGHTS',\n",
       "       'BATH BEACH', 'PROSPECT HEIGHTS', 'BROWNSVILLE', 'OLD MILL BASIN',\n",
       "       'FLATLANDS', 'FORT GREENE', 'CONEY ISLAND', 'COBBLE HILL',\n",
       "       'CARROLL GARDENS', 'BERGEN BEACH', 'BOERUM HILL', 'WINDSOR TERRACE',\n",
       "       'GOWANUS', 'KENSINGTON', 'DOWNTOWN-METROTECH', 'WYCKOFF HEIGHTS',\n",
       "       'GERRITSEN BEACH', 'MILL BASIN', 'RED HOOK', 'MANHATTAN BEACH',\n",
       "       'BUSH TERMINAL', 'SEAGATE', 'SPRING CREEK', 'NAVY YARD', 'JAMAICA BAY'],\n",
       "      dtype='object')"
      ]
     },
     "execution_count": 63,
     "metadata": {},
     "output_type": "execute_result"
    }
   ],
   "source": [
    "subset_df.neighborhood.value_counts().keys()"
   ]
  },
  {
   "cell_type": "markdown",
   "metadata": {},
   "source": [
    "\n",
    "All incorrect neighborhoods are corrected and assigned to their respective areas, next is to classify the neighborhood into their geographical location which will take its own column. With the help of wikipidia we can get their respective georgraphical region. https://en.wikipedia.org/wiki/List_of_Brooklyn_neighborhoods"
   ]
  },
  {
   "cell_type": "code",
   "execution_count": 68,
   "metadata": {},
   "outputs": [],
   "source": [
    "# creating the geographical region column and populating it with null values\n",
    "subset_df = subset_df.assign(geographical_region = pd.NA)"
   ]
  },
  {
   "cell_type": "code",
   "execution_count": 69,
   "metadata": {},
   "outputs": [],
   "source": [
    "# creating the columns for each neighborhood distance to manhattan bridge\n",
    "subset_df = subset_df.assign(mins_to_manhattan_bridge = pd.NA)"
   ]
  },
  {
   "cell_type": "code",
   "execution_count": 70,
   "metadata": {},
   "outputs": [
    {
     "data": {
      "text/html": [
       "<div>\n",
       "<style scoped>\n",
       "    .dataframe tbody tr th:only-of-type {\n",
       "        vertical-align: middle;\n",
       "    }\n",
       "\n",
       "    .dataframe tbody tr th {\n",
       "        vertical-align: top;\n",
       "    }\n",
       "\n",
       "    .dataframe thead th {\n",
       "        text-align: right;\n",
       "    }\n",
       "</style>\n",
       "<table border=\"1\" class=\"dataframe\">\n",
       "  <thead>\n",
       "    <tr style=\"text-align: right;\">\n",
       "      <th></th>\n",
       "      <th>neighborhood</th>\n",
       "      <th>building_class_category</th>\n",
       "      <th>tax_class_at_sale</th>\n",
       "      <th>building_class_at_sale</th>\n",
       "      <th>address</th>\n",
       "      <th>sale_price</th>\n",
       "      <th>sale_date</th>\n",
       "      <th>year_of_sale</th>\n",
       "      <th>land_sqft</th>\n",
       "      <th>gross_sqft</th>\n",
       "      <th>OwnerName</th>\n",
       "      <th>month</th>\n",
       "      <th>month_number</th>\n",
       "      <th>month_name</th>\n",
       "      <th>geographical_region</th>\n",
       "      <th>mins_to_manhattan_bridge</th>\n",
       "    </tr>\n",
       "  </thead>\n",
       "  <tbody>\n",
       "    <tr>\n",
       "      <th>0</th>\n",
       "      <td>DOWNTOWN-METROTECH</td>\n",
       "      <td>28  COMMERCIAL CONDOS</td>\n",
       "      <td>4</td>\n",
       "      <td>R5</td>\n",
       "      <td>330 JAY STREET</td>\n",
       "      <td>499401179.0</td>\n",
       "      <td>2008-04-23</td>\n",
       "      <td>2008</td>\n",
       "      <td>0.0</td>\n",
       "      <td>0.0</td>\n",
       "      <td>Anonymous</td>\n",
       "      <td>4</td>\n",
       "      <td>4</td>\n",
       "      <td>April</td>\n",
       "      <td>&lt;NA&gt;</td>\n",
       "      <td>&lt;NA&gt;</td>\n",
       "    </tr>\n",
       "    <tr>\n",
       "      <th>1</th>\n",
       "      <td>DUMBO</td>\n",
       "      <td>29  COMMERCIAL GARAGES</td>\n",
       "      <td>4</td>\n",
       "      <td>G7</td>\n",
       "      <td>85 JAY STREET</td>\n",
       "      <td>345000000.0</td>\n",
       "      <td>2016-12-20</td>\n",
       "      <td>2016</td>\n",
       "      <td>134988.0</td>\n",
       "      <td>0.0</td>\n",
       "      <td>85 JAY STREET BROOKLY</td>\n",
       "      <td>12</td>\n",
       "      <td>12</td>\n",
       "      <td>December</td>\n",
       "      <td>&lt;NA&gt;</td>\n",
       "      <td>&lt;NA&gt;</td>\n",
       "    </tr>\n",
       "    <tr>\n",
       "      <th>2</th>\n",
       "      <td>BROOKLYN HEIGHTS</td>\n",
       "      <td>21  OFFICE BUILDINGS</td>\n",
       "      <td>4</td>\n",
       "      <td>O6</td>\n",
       "      <td>29 COLUMBIA HEIGHTS</td>\n",
       "      <td>340000000.0</td>\n",
       "      <td>2016-08-03</td>\n",
       "      <td>2016</td>\n",
       "      <td>32000.0</td>\n",
       "      <td>304650.0</td>\n",
       "      <td>25-30 COLUMBIA HEIGHT</td>\n",
       "      <td>8</td>\n",
       "      <td>8</td>\n",
       "      <td>August</td>\n",
       "      <td>&lt;NA&gt;</td>\n",
       "      <td>&lt;NA&gt;</td>\n",
       "    </tr>\n",
       "    <tr>\n",
       "      <th>3</th>\n",
       "      <td>MILL BASIN</td>\n",
       "      <td>22  STORE BUILDINGS</td>\n",
       "      <td>4</td>\n",
       "      <td>K6</td>\n",
       "      <td>5120 AVENUE U</td>\n",
       "      <td>276947000.0</td>\n",
       "      <td>2012-11-28</td>\n",
       "      <td>2012</td>\n",
       "      <td>905000.0</td>\n",
       "      <td>2548000.0</td>\n",
       "      <td>BROOKLYN KINGS PLAZA</td>\n",
       "      <td>11</td>\n",
       "      <td>11</td>\n",
       "      <td>November</td>\n",
       "      <td>&lt;NA&gt;</td>\n",
       "      <td>&lt;NA&gt;</td>\n",
       "    </tr>\n",
       "    <tr>\n",
       "      <th>4</th>\n",
       "      <td>BROOKLYN HEIGHTS</td>\n",
       "      <td>26 OTHER HOTELS</td>\n",
       "      <td>4</td>\n",
       "      <td>H8</td>\n",
       "      <td>21 CLARK STREET</td>\n",
       "      <td>202500000.0</td>\n",
       "      <td>2017-10-31</td>\n",
       "      <td>2017</td>\n",
       "      <td>20267.0</td>\n",
       "      <td>356000.0</td>\n",
       "      <td>WATCHTOWER C/O REAL P</td>\n",
       "      <td>10</td>\n",
       "      <td>10</td>\n",
       "      <td>October</td>\n",
       "      <td>&lt;NA&gt;</td>\n",
       "      <td>&lt;NA&gt;</td>\n",
       "    </tr>\n",
       "  </tbody>\n",
       "</table>\n",
       "</div>"
      ],
      "text/plain": [
       "         neighborhood building_class_category  tax_class_at_sale  \\\n",
       "0  DOWNTOWN-METROTECH   28  COMMERCIAL CONDOS                  4   \n",
       "1               DUMBO  29  COMMERCIAL GARAGES                  4   \n",
       "2    BROOKLYN HEIGHTS    21  OFFICE BUILDINGS                  4   \n",
       "3          MILL BASIN     22  STORE BUILDINGS                  4   \n",
       "4    BROOKLYN HEIGHTS         26 OTHER HOTELS                  4   \n",
       "\n",
       "  building_class_at_sale              address   sale_price  sale_date  \\\n",
       "0                     R5       330 JAY STREET  499401179.0 2008-04-23   \n",
       "1                     G7        85 JAY STREET  345000000.0 2016-12-20   \n",
       "2                     O6  29 COLUMBIA HEIGHTS  340000000.0 2016-08-03   \n",
       "3                     K6        5120 AVENUE U  276947000.0 2012-11-28   \n",
       "4                     H8      21 CLARK STREET  202500000.0 2017-10-31   \n",
       "\n",
       "   year_of_sale  land_sqft  gross_sqft              OwnerName  month  \\\n",
       "0          2008        0.0         0.0              Anonymous      4   \n",
       "1          2016   134988.0         0.0  85 JAY STREET BROOKLY     12   \n",
       "2          2016    32000.0    304650.0  25-30 COLUMBIA HEIGHT      8   \n",
       "3          2012   905000.0   2548000.0   BROOKLYN KINGS PLAZA     11   \n",
       "4          2017    20267.0    356000.0  WATCHTOWER C/O REAL P     10   \n",
       "\n",
       "   month_number month_name geographical_region mins_to_manhattan_bridge  \n",
       "0             4      April                <NA>                     <NA>  \n",
       "1            12   December                <NA>                     <NA>  \n",
       "2             8     August                <NA>                     <NA>  \n",
       "3            11   November                <NA>                     <NA>  \n",
       "4            10    October                <NA>                     <NA>  "
      ]
     },
     "execution_count": 70,
     "metadata": {},
     "output_type": "execute_result"
    }
   ],
   "source": [
    "subset_df.head()"
   ]
  },
  {
   "cell_type": "markdown",
   "metadata": {},
   "source": [
    "The neighborhoods will be mapped to their respective Geographical region with the long list of code below."
   ]
  },
  {
   "cell_type": "code",
   "execution_count": 71,
   "metadata": {},
   "outputs": [],
   "source": [
    "subset_df.loc[subset_df[\"neighborhood\"] == 'BEDFORD STUYVESANT', \"geographical_region\"] = \"Northern Brooklyn\""
   ]
  },
  {
   "cell_type": "code",
   "execution_count": 72,
   "metadata": {},
   "outputs": [],
   "source": [
    "subset_df.loc[subset_df[\"neighborhood\"] == 'EAST NEW YORK', \"geographical_region\"] = \"Eastern Brooklyn\""
   ]
  },
  {
   "cell_type": "code",
   "execution_count": 73,
   "metadata": {},
   "outputs": [],
   "source": [
    "subset_df.loc[subset_df[\"neighborhood\"] == 'BOROUGH PARK', \"geographical_region\"] = \"Southwestern Brooklyn\""
   ]
  },
  {
   "cell_type": "code",
   "execution_count": 74,
   "metadata": {},
   "outputs": [],
   "source": [
    "subset_df.loc[subset_df[\"neighborhood\"] == 'BUSHWICK', \"geographical_region\"] = \"Northern Brooklyn\""
   ]
  },
  {
   "cell_type": "code",
   "execution_count": 75,
   "metadata": {},
   "outputs": [],
   "source": [
    "subset_df.loc[subset_df[\"neighborhood\"] == 'CANARSIE', \"geographical_region\"] = \"Eastern Brooklyn\""
   ]
  },
  {
   "cell_type": "code",
   "execution_count": 76,
   "metadata": {},
   "outputs": [],
   "source": [
    "subset_df.loc[subset_df[\"neighborhood\"] == 'BAY RIDGE', \"geographical_region\"] = \"Southwestern Brooklyn\""
   ]
  },
  {
   "cell_type": "code",
   "execution_count": 77,
   "metadata": {},
   "outputs": [],
   "source": [
    "subset_df.loc[subset_df[\"neighborhood\"] == 'CROWN HEIGHTS', \"geographical_region\"] = \"Central Brooklyn\""
   ]
  },
  {
   "cell_type": "code",
   "execution_count": 78,
   "metadata": {},
   "outputs": [],
   "source": [
    "subset_df.loc[subset_df[\"neighborhood\"] == 'FLATBUSH', \"geographical_region\"] = \"Central Brooklyn\""
   ]
  },
  {
   "cell_type": "code",
   "execution_count": 79,
   "metadata": {},
   "outputs": [],
   "source": [
    "subset_df.loc[subset_df[\"neighborhood\"] == 'SHEEPSHEAD BAY', \"geographical_region\"] = \"Southern Brooklyn\""
   ]
  },
  {
   "cell_type": "code",
   "execution_count": 80,
   "metadata": {},
   "outputs": [],
   "source": [
    "subset_df.loc[subset_df[\"neighborhood\"] == 'GRAVESEND', \"geographical_region\"] = \"Southern Brooklyn\""
   ]
  },
  {
   "cell_type": "code",
   "execution_count": 81,
   "metadata": {},
   "outputs": [],
   "source": [
    "subset_df.loc[subset_df[\"neighborhood\"] == 'PARK SLOPE', \"geographical_region\"] = \"Northwestern Brooklyn\""
   ]
  },
  {
   "cell_type": "code",
   "execution_count": 82,
   "metadata": {},
   "outputs": [],
   "source": [
    "subset_df.loc[subset_df[\"neighborhood\"] == 'SUNSET PARK', \"geographical_region\"] = \"Southwestern Brooklyn\""
   ]
  },
  {
   "cell_type": "code",
   "execution_count": 83,
   "metadata": {},
   "outputs": [],
   "source": [
    "subset_df.loc[subset_df[\"neighborhood\"] == 'BENSONHURST', \"geographical_region\"] = \"Southwestern Brooklyn\""
   ]
  },
  {
   "cell_type": "code",
   "execution_count": 84,
   "metadata": {},
   "outputs": [],
   "source": [
    "subset_df.loc[subset_df[\"neighborhood\"] == 'FLATBUSH-CENTRAL', \"geographical_region\"] = \"Central Brooklyn\""
   ]
  },
  {
   "cell_type": "code",
   "execution_count": 85,
   "metadata": {},
   "outputs": [],
   "source": [
    "subset_df.loc[subset_df[\"neighborhood\"] == 'OCEAN PARKWAY-NORTH', \"geographical_region\"] = \"Central Brooklyn\""
   ]
  },
  {
   "cell_type": "code",
   "execution_count": 86,
   "metadata": {},
   "outputs": [],
   "source": [
    "subset_df.loc[subset_df[\"neighborhood\"] == 'OCEAN HILL', \"geographical_region\"] = \"Northern Brooklyn\""
   ]
  },
  {
   "cell_type": "code",
   "execution_count": 87,
   "metadata": {},
   "outputs": [],
   "source": [
    "subset_df.loc[subset_df[\"neighborhood\"] == 'WILLIAMSBURG-EAST', \"geographical_region\"] = \"Northern Brooklyn\""
   ]
  },
  {
   "cell_type": "code",
   "execution_count": 88,
   "metadata": {},
   "outputs": [],
   "source": [
    "subset_df.loc[subset_df[\"neighborhood\"] == 'GREENPOINT', \"geographical_region\"] = \"Northern Brooklyn\""
   ]
  },
  {
   "cell_type": "code",
   "execution_count": 89,
   "metadata": {},
   "outputs": [],
   "source": [
    "subset_df.loc[subset_df[\"neighborhood\"] == 'WILLIAMSBURG-NORTH', \"geographical_region\"] = \"Northern Brooklyn\""
   ]
  },
  {
   "cell_type": "code",
   "execution_count": 90,
   "metadata": {},
   "outputs": [],
   "source": [
    "subset_df.loc[subset_df[\"neighborhood\"] == 'BRIGHTON BEACH', \"geographical_region\"] = \"Southern Brooklyn\""
   ]
  },
  {
   "cell_type": "code",
   "execution_count": 91,
   "metadata": {},
   "outputs": [],
   "source": [
    "subset_df.loc[subset_df[\"neighborhood\"] == 'MIDWOOD', \"geographical_region\"] = \"Southern Brooklyn\""
   ]
  },
  {
   "cell_type": "code",
   "execution_count": 92,
   "metadata": {},
   "outputs": [],
   "source": [
    "subset_df.loc[subset_df[\"neighborhood\"] == 'CYPRESS HILLS', \"geographical_region\"] = \"Eastern Brooklyn\""
   ]
  },
  {
   "cell_type": "code",
   "execution_count": 93,
   "metadata": {},
   "outputs": [],
   "source": [
    "subset_df.loc[subset_df[\"neighborhood\"] == 'FLATBUSH-NORTH', \"geographical_region\"] = \"Central Brooklyn\""
   ]
  },
  {
   "cell_type": "code",
   "execution_count": 94,
   "metadata": {},
   "outputs": [],
   "source": [
    "subset_df.loc[subset_df[\"neighborhood\"] == 'MADISON', \"geographical_region\"] = \"Southern Brooklyn\""
   ]
  },
  {
   "cell_type": "code",
   "execution_count": 95,
   "metadata": {},
   "outputs": [],
   "source": [
    "subset_df.loc[subset_df[\"neighborhood\"] == 'MARINE PARK', \"geographical_region\"] = \"Southern Brooklyn\""
   ]
  },
  {
   "cell_type": "code",
   "execution_count": 96,
   "metadata": {},
   "outputs": [],
   "source": [
    "subset_df.loc[subset_df[\"neighborhood\"] == 'OCEAN PARKWAY', \"geographical_region\"] = \"Central Brooklyn\""
   ]
  },
  {
   "cell_type": "code",
   "execution_count": 97,
   "metadata": {},
   "outputs": [],
   "source": [
    "subset_df.loc[subset_df[\"neighborhood\"] == 'CLINTON HILL', \"geographical_region\"] = \"Northwestern Brooklyn\""
   ]
  },
  {
   "cell_type": "code",
   "execution_count": 98,
   "metadata": {},
   "outputs": [],
   "source": [
    "subset_df.loc[subset_df[\"neighborhood\"] == 'BROOKLYN HEIGHTS', \"geographical_region\"] = \"Northwestern Brooklyn\""
   ]
  },
  {
   "cell_type": "code",
   "execution_count": 99,
   "metadata": {},
   "outputs": [],
   "source": [
    "subset_df.loc[subset_df[\"neighborhood\"] == 'DYKER HEIGHTS', \"geographical_region\"] = \"Southwestern Brooklyn\""
   ]
  },
  {
   "cell_type": "code",
   "execution_count": 100,
   "metadata": {},
   "outputs": [],
   "source": [
    "subset_df.loc[subset_df[\"neighborhood\"] == 'BATH BEACH', \"geographical_region\"] = \"Southwestern Brooklyn\""
   ]
  },
  {
   "cell_type": "code",
   "execution_count": 101,
   "metadata": {},
   "outputs": [],
   "source": [
    "subset_df.loc[subset_df[\"neighborhood\"] == 'PROSPECT HEIGHTS', \"geographical_region\"] = \"Northwestern Brooklyn\""
   ]
  },
  {
   "cell_type": "code",
   "execution_count": 102,
   "metadata": {},
   "outputs": [],
   "source": [
    "subset_df.loc[subset_df[\"neighborhood\"] == 'WILLIAMSBURG-CENTRAL', \"geographical_region\"] = \"Northern Brooklyn\""
   ]
  },
  {
   "cell_type": "code",
   "execution_count": 103,
   "metadata": {},
   "outputs": [],
   "source": [
    "subset_df.loc[subset_df[\"neighborhood\"] == 'WILLIAMSBURG', \"geographical_region\"] = \"Northern Brooklyn\""
   ]
  },
  {
   "cell_type": "code",
   "execution_count": 104,
   "metadata": {},
   "outputs": [],
   "source": [
    "subset_df.loc[subset_df[\"neighborhood\"] == 'BROWNSVILLE', \"geographical_region\"] = \"Eastern Brooklyn\""
   ]
  },
  {
   "cell_type": "code",
   "execution_count": 105,
   "metadata": {},
   "outputs": [],
   "source": [
    "subset_df.loc[subset_df[\"neighborhood\"] == 'OLD MILL BASIN', \"geographical_region\"] = \"Southern Brooklyn\""
   ]
  },
  {
   "cell_type": "code",
   "execution_count": 106,
   "metadata": {},
   "outputs": [],
   "source": [
    "subset_df.loc[subset_df[\"neighborhood\"] == 'FLATLANDS', \"geographical_region\"] = \"Southern Brooklyn\""
   ]
  },
  {
   "cell_type": "code",
   "execution_count": 107,
   "metadata": {},
   "outputs": [],
   "source": [
    "subset_df.loc[subset_df[\"neighborhood\"] == 'FORT GREENE', \"geographical_region\"] = \"Northwestern Brooklyn\""
   ]
  },
  {
   "cell_type": "code",
   "execution_count": 108,
   "metadata": {},
   "outputs": [],
   "source": [
    "subset_df.loc[subset_df[\"neighborhood\"] == 'CONEY ISLAND', \"geographical_region\"] = \"Southern Brooklyn\""
   ]
  },
  {
   "cell_type": "code",
   "execution_count": 109,
   "metadata": {},
   "outputs": [],
   "source": [
    "subset_df.loc[subset_df[\"neighborhood\"] == 'PARK SLOPE SOUTH', \"geographical_region\"] = \"Northwestern Brooklyn\""
   ]
  },
  {
   "cell_type": "code",
   "execution_count": 110,
   "metadata": {},
   "outputs": [],
   "source": [
    "subset_df.loc[subset_df[\"neighborhood\"] == 'CARROLL GARDENS', \"geographical_region\"] = \"Northwestern Brooklyn\""
   ]
  },
  {
   "cell_type": "code",
   "execution_count": 111,
   "metadata": {},
   "outputs": [],
   "source": [
    "subset_df.loc[subset_df[\"neighborhood\"] == 'BERGEN BEACH', \"geographical_region\"] = \"Southern Brooklyn\""
   ]
  },
  {
   "cell_type": "code",
   "execution_count": 112,
   "metadata": {},
   "outputs": [],
   "source": [
    "subset_df.loc[subset_df[\"neighborhood\"] == 'DUMBO', \"geographical_region\"] = \"Northwestern Brooklyn\""
   ]
  },
  {
   "cell_type": "code",
   "execution_count": 113,
   "metadata": {},
   "outputs": [],
   "source": [
    "subset_df.loc[subset_df[\"neighborhood\"] == 'BOERUM HILL', \"geographical_region\"] = \"Northwestern Brooklyn\""
   ]
  },
  {
   "cell_type": "code",
   "execution_count": 114,
   "metadata": {},
   "outputs": [],
   "source": [
    "subset_df.loc[subset_df[\"neighborhood\"] == 'WINDSOR TERRACE', \"geographical_region\"] = \"Central Brooklyn\""
   ]
  },
  {
   "cell_type": "code",
   "execution_count": 115,
   "metadata": {},
   "outputs": [],
   "source": [
    "subset_df.loc[subset_df[\"neighborhood\"] == 'GOWANUS', \"geographical_region\"] = \"Northwestern Brooklyn\""
   ]
  },
  {
   "cell_type": "code",
   "execution_count": 116,
   "metadata": {},
   "outputs": [],
   "source": [
    "subset_df.loc[subset_df[\"neighborhood\"] == 'FLATBUSH-LEFFERTS GARDEN', \"geographical_region\"] = \"Central Brooklyn\""
   ]
  },
  {
   "cell_type": "code",
   "execution_count": 117,
   "metadata": {},
   "outputs": [],
   "source": [
    "subset_df.loc[subset_df[\"neighborhood\"] == 'KENSINGTON', \"geographical_region\"] = \"Central Brooklyn\""
   ]
  },
  {
   "cell_type": "code",
   "execution_count": 118,
   "metadata": {},
   "outputs": [],
   "source": [
    "subset_df.loc[subset_df[\"neighborhood\"] == 'DUMBO', \"geographical_region\"] = \"Northwestern Brooklyn\""
   ]
  },
  {
   "cell_type": "code",
   "execution_count": 119,
   "metadata": {},
   "outputs": [],
   "source": [
    "subset_df.loc[subset_df[\"neighborhood\"] == 'DOWNTOWN-METROTECH', \"geographical_region\"] = \"Northwestern Brooklyn\""
   ]
  },
  {
   "cell_type": "code",
   "execution_count": 120,
   "metadata": {},
   "outputs": [],
   "source": [
    "subset_df.loc[subset_df[\"neighborhood\"] == 'WYCKOFF HEIGHTS', \"geographical_region\"] = \"Northern Brooklyn\""
   ]
  },
  {
   "cell_type": "code",
   "execution_count": 121,
   "metadata": {},
   "outputs": [],
   "source": [
    "subset_df.loc[subset_df[\"neighborhood\"] == 'GERRITSEN BEACH', \"geographical_region\"] = \"Southern Brooklyn\""
   ]
  },
  {
   "cell_type": "code",
   "execution_count": 122,
   "metadata": {},
   "outputs": [],
   "source": [
    "subset_df.loc[subset_df[\"neighborhood\"] == 'COBBLE HILL', \"geographical_region\"] = \"Northwestern Brooklyn\""
   ]
  },
  {
   "cell_type": "code",
   "execution_count": 123,
   "metadata": {},
   "outputs": [],
   "source": [
    "subset_df.loc[subset_df[\"neighborhood\"] == 'MILL BASIN', \"geographical_region\"] = \"Southern Brooklyn\""
   ]
  },
  {
   "cell_type": "code",
   "execution_count": 124,
   "metadata": {},
   "outputs": [],
   "source": [
    "subset_df.loc[subset_df[\"neighborhood\"] == 'COBBLE HILL-WEST', \"geographical_region\"] = \"Northwestern Brooklyn\""
   ]
  },
  {
   "cell_type": "code",
   "execution_count": 125,
   "metadata": {},
   "outputs": [],
   "source": [
    "subset_df.loc[subset_df[\"neighborhood\"] == 'RED HOOK', \"geographical_region\"] = \"Northwestern Brooklyn\""
   ]
  },
  {
   "cell_type": "code",
   "execution_count": 126,
   "metadata": {},
   "outputs": [],
   "source": [
    "subset_df.loc[subset_df[\"neighborhood\"] == 'MANHATTAN BEACH', \"geographical_region\"] = \"Southern Brooklyn\""
   ]
  },
  {
   "cell_type": "code",
   "execution_count": 127,
   "metadata": {},
   "outputs": [],
   "source": [
    "subset_df.loc[subset_df[\"neighborhood\"] == 'BUSH TERMINAL', \"geographical_region\"] = \"Southwestern Brooklyn\""
   ]
  },
  {
   "cell_type": "code",
   "execution_count": 128,
   "metadata": {},
   "outputs": [],
   "source": [
    "subset_df.loc[subset_df[\"neighborhood\"] == 'SEAGATE', \"geographical_region\"] = \"Southern Brooklyn\""
   ]
  },
  {
   "cell_type": "code",
   "execution_count": 129,
   "metadata": {},
   "outputs": [],
   "source": [
    "subset_df.loc[subset_df[\"neighborhood\"] == 'SPRING CREEK', \"geographical_region\"] = \"Eastern Brooklyn\""
   ]
  },
  {
   "cell_type": "code",
   "execution_count": 130,
   "metadata": {},
   "outputs": [],
   "source": [
    "subset_df.loc[subset_df[\"neighborhood\"] == 'NAVY YARD', \"geographical_region\"] = \"Northwestern Brooklyn\""
   ]
  },
  {
   "cell_type": "code",
   "execution_count": 131,
   "metadata": {},
   "outputs": [
    {
     "data": {
      "text/html": [
       "<div>\n",
       "<style scoped>\n",
       "    .dataframe tbody tr th:only-of-type {\n",
       "        vertical-align: middle;\n",
       "    }\n",
       "\n",
       "    .dataframe tbody tr th {\n",
       "        vertical-align: top;\n",
       "    }\n",
       "\n",
       "    .dataframe thead th {\n",
       "        text-align: right;\n",
       "    }\n",
       "</style>\n",
       "<table border=\"1\" class=\"dataframe\">\n",
       "  <thead>\n",
       "    <tr style=\"text-align: right;\">\n",
       "      <th></th>\n",
       "      <th>neighborhood</th>\n",
       "      <th>building_class_category</th>\n",
       "      <th>tax_class_at_sale</th>\n",
       "      <th>building_class_at_sale</th>\n",
       "      <th>address</th>\n",
       "      <th>sale_price</th>\n",
       "      <th>sale_date</th>\n",
       "      <th>year_of_sale</th>\n",
       "      <th>land_sqft</th>\n",
       "      <th>gross_sqft</th>\n",
       "      <th>OwnerName</th>\n",
       "      <th>month</th>\n",
       "      <th>month_number</th>\n",
       "      <th>month_name</th>\n",
       "      <th>geographical_region</th>\n",
       "      <th>mins_to_manhattan_bridge</th>\n",
       "    </tr>\n",
       "  </thead>\n",
       "  <tbody>\n",
       "    <tr>\n",
       "      <th>0</th>\n",
       "      <td>DOWNTOWN-METROTECH</td>\n",
       "      <td>28  COMMERCIAL CONDOS</td>\n",
       "      <td>4</td>\n",
       "      <td>R5</td>\n",
       "      <td>330 JAY STREET</td>\n",
       "      <td>499401179.0</td>\n",
       "      <td>2008-04-23</td>\n",
       "      <td>2008</td>\n",
       "      <td>0.0</td>\n",
       "      <td>0.0</td>\n",
       "      <td>Anonymous</td>\n",
       "      <td>4</td>\n",
       "      <td>4</td>\n",
       "      <td>April</td>\n",
       "      <td>Northwestern Brooklyn</td>\n",
       "      <td>&lt;NA&gt;</td>\n",
       "    </tr>\n",
       "    <tr>\n",
       "      <th>1</th>\n",
       "      <td>DUMBO</td>\n",
       "      <td>29  COMMERCIAL GARAGES</td>\n",
       "      <td>4</td>\n",
       "      <td>G7</td>\n",
       "      <td>85 JAY STREET</td>\n",
       "      <td>345000000.0</td>\n",
       "      <td>2016-12-20</td>\n",
       "      <td>2016</td>\n",
       "      <td>134988.0</td>\n",
       "      <td>0.0</td>\n",
       "      <td>85 JAY STREET BROOKLY</td>\n",
       "      <td>12</td>\n",
       "      <td>12</td>\n",
       "      <td>December</td>\n",
       "      <td>Northwestern Brooklyn</td>\n",
       "      <td>&lt;NA&gt;</td>\n",
       "    </tr>\n",
       "    <tr>\n",
       "      <th>2</th>\n",
       "      <td>BROOKLYN HEIGHTS</td>\n",
       "      <td>21  OFFICE BUILDINGS</td>\n",
       "      <td>4</td>\n",
       "      <td>O6</td>\n",
       "      <td>29 COLUMBIA HEIGHTS</td>\n",
       "      <td>340000000.0</td>\n",
       "      <td>2016-08-03</td>\n",
       "      <td>2016</td>\n",
       "      <td>32000.0</td>\n",
       "      <td>304650.0</td>\n",
       "      <td>25-30 COLUMBIA HEIGHT</td>\n",
       "      <td>8</td>\n",
       "      <td>8</td>\n",
       "      <td>August</td>\n",
       "      <td>Northwestern Brooklyn</td>\n",
       "      <td>&lt;NA&gt;</td>\n",
       "    </tr>\n",
       "    <tr>\n",
       "      <th>3</th>\n",
       "      <td>MILL BASIN</td>\n",
       "      <td>22  STORE BUILDINGS</td>\n",
       "      <td>4</td>\n",
       "      <td>K6</td>\n",
       "      <td>5120 AVENUE U</td>\n",
       "      <td>276947000.0</td>\n",
       "      <td>2012-11-28</td>\n",
       "      <td>2012</td>\n",
       "      <td>905000.0</td>\n",
       "      <td>2548000.0</td>\n",
       "      <td>BROOKLYN KINGS PLAZA</td>\n",
       "      <td>11</td>\n",
       "      <td>11</td>\n",
       "      <td>November</td>\n",
       "      <td>Southern Brooklyn</td>\n",
       "      <td>&lt;NA&gt;</td>\n",
       "    </tr>\n",
       "    <tr>\n",
       "      <th>4</th>\n",
       "      <td>BROOKLYN HEIGHTS</td>\n",
       "      <td>26 OTHER HOTELS</td>\n",
       "      <td>4</td>\n",
       "      <td>H8</td>\n",
       "      <td>21 CLARK STREET</td>\n",
       "      <td>202500000.0</td>\n",
       "      <td>2017-10-31</td>\n",
       "      <td>2017</td>\n",
       "      <td>20267.0</td>\n",
       "      <td>356000.0</td>\n",
       "      <td>WATCHTOWER C/O REAL P</td>\n",
       "      <td>10</td>\n",
       "      <td>10</td>\n",
       "      <td>October</td>\n",
       "      <td>Northwestern Brooklyn</td>\n",
       "      <td>&lt;NA&gt;</td>\n",
       "    </tr>\n",
       "  </tbody>\n",
       "</table>\n",
       "</div>"
      ],
      "text/plain": [
       "         neighborhood building_class_category  tax_class_at_sale  \\\n",
       "0  DOWNTOWN-METROTECH   28  COMMERCIAL CONDOS                  4   \n",
       "1               DUMBO  29  COMMERCIAL GARAGES                  4   \n",
       "2    BROOKLYN HEIGHTS    21  OFFICE BUILDINGS                  4   \n",
       "3          MILL BASIN     22  STORE BUILDINGS                  4   \n",
       "4    BROOKLYN HEIGHTS         26 OTHER HOTELS                  4   \n",
       "\n",
       "  building_class_at_sale              address   sale_price  sale_date  \\\n",
       "0                     R5       330 JAY STREET  499401179.0 2008-04-23   \n",
       "1                     G7        85 JAY STREET  345000000.0 2016-12-20   \n",
       "2                     O6  29 COLUMBIA HEIGHTS  340000000.0 2016-08-03   \n",
       "3                     K6        5120 AVENUE U  276947000.0 2012-11-28   \n",
       "4                     H8      21 CLARK STREET  202500000.0 2017-10-31   \n",
       "\n",
       "   year_of_sale  land_sqft  gross_sqft              OwnerName  month  \\\n",
       "0          2008        0.0         0.0              Anonymous      4   \n",
       "1          2016   134988.0         0.0  85 JAY STREET BROOKLY     12   \n",
       "2          2016    32000.0    304650.0  25-30 COLUMBIA HEIGHT      8   \n",
       "3          2012   905000.0   2548000.0   BROOKLYN KINGS PLAZA     11   \n",
       "4          2017    20267.0    356000.0  WATCHTOWER C/O REAL P     10   \n",
       "\n",
       "   month_number month_name    geographical_region mins_to_manhattan_bridge  \n",
       "0             4      April  Northwestern Brooklyn                     <NA>  \n",
       "1            12   December  Northwestern Brooklyn                     <NA>  \n",
       "2             8     August  Northwestern Brooklyn                     <NA>  \n",
       "3            11   November      Southern Brooklyn                     <NA>  \n",
       "4            10    October  Northwestern Brooklyn                     <NA>  "
      ]
     },
     "execution_count": 131,
     "metadata": {},
     "output_type": "execute_result"
    }
   ],
   "source": [
    "# having a look at the changes\n",
    "subset_df.head()"
   ]
  },
  {
   "cell_type": "code",
   "execution_count": 132,
   "metadata": {},
   "outputs": [
    {
     "data": {
      "text/plain": [
       "neighborhood                     0\n",
       "building_class_category          0\n",
       "tax_class_at_sale                0\n",
       "building_class_at_sale           0\n",
       "address                          0\n",
       "sale_price                       0\n",
       "sale_date                        0\n",
       "year_of_sale                     0\n",
       "land_sqft                        0\n",
       "gross_sqft                       0\n",
       "OwnerName                        0\n",
       "month                            0\n",
       "month_number                     0\n",
       "month_name                       0\n",
       "geographical_region              7\n",
       "mins_to_manhattan_bridge    390883\n",
       "dtype: int64"
      ]
     },
     "execution_count": 132,
     "metadata": {},
     "output_type": "execute_result"
    }
   ],
   "source": [
    "subset_df.isnull().sum()"
   ]
  },
  {
   "cell_type": "code",
   "execution_count": 133,
   "metadata": {},
   "outputs": [
    {
     "data": {
      "text/plain": [
       "Index(['FLATBUSH', 'BEDFORD STUYVESANT', 'WILLIAMSBURG', 'EAST NEW YORK',\n",
       "       'BOROUGH PARK', 'PARK SLOPE', 'BUSHWICK', 'CANARSIE', 'BAY RIDGE',\n",
       "       'OCEAN PARKWAY', 'CROWN HEIGHTS', 'SHEEPSHEAD BAY', 'GRAVESEND',\n",
       "       'SUNSET PARK', 'BENSONHURST', 'OCEAN HILL', 'GREENPOINT',\n",
       "       'BRIGHTON BEACH', 'MIDWOOD', 'CYPRESS HILLS', 'MADISON', 'MARINE PARK',\n",
       "       'CLINTON HILL', 'BROOKLYN HEIGHTS', 'DUMBO', 'DYKER HEIGHTS',\n",
       "       'BATH BEACH', 'PROSPECT HEIGHTS', 'BROWNSVILLE', 'OLD MILL BASIN',\n",
       "       'FLATLANDS', 'FORT GREENE', 'CONEY ISLAND', 'COBBLE HILL',\n",
       "       'CARROLL GARDENS', 'BERGEN BEACH', 'BOERUM HILL', 'WINDSOR TERRACE',\n",
       "       'GOWANUS', 'KENSINGTON', 'DOWNTOWN-METROTECH', 'WYCKOFF HEIGHTS',\n",
       "       'GERRITSEN BEACH', 'MILL BASIN', 'RED HOOK', 'MANHATTAN BEACH',\n",
       "       'BUSH TERMINAL', 'SEAGATE', 'SPRING CREEK', 'NAVY YARD', 'JAMAICA BAY'],\n",
       "      dtype='object')"
      ]
     },
     "execution_count": 133,
     "metadata": {},
     "output_type": "execute_result"
    }
   ],
   "source": [
    "subset_df.neighborhood.value_counts().keys()"
   ]
  },
  {
   "cell_type": "markdown",
   "metadata": {},
   "source": [
    "## LABELING mins_to_manhattan_bridge COLUMN with NEIGHBORHOOD PROXIMITY TO MANHATTAN BRIDGE."
   ]
  },
  {
   "cell_type": "code",
   "execution_count": 134,
   "metadata": {},
   "outputs": [],
   "source": [
    "subset_df.loc[subset_df[\"neighborhood\"] == \"BEDFORD STUYVESANT\", \"mins_to_manhattan_bridge\"] = 16"
   ]
  },
  {
   "cell_type": "code",
   "execution_count": 135,
   "metadata": {},
   "outputs": [],
   "source": [
    "subset_df.loc[subset_df[\"neighborhood\"] == 'WILLIAMSBURG', \"mins_to_manhattan_bridge\"] = 10"
   ]
  },
  {
   "cell_type": "code",
   "execution_count": 136,
   "metadata": {},
   "outputs": [],
   "source": [
    "subset_df.loc[subset_df[\"neighborhood\"] == \"EAST NEW YORK\", \"mins_to_manhattan_bridge\"] = 35"
   ]
  },
  {
   "cell_type": "code",
   "execution_count": 137,
   "metadata": {},
   "outputs": [],
   "source": [
    "subset_df.loc[subset_df[\"neighborhood\"] == \"BOROUGH PARK\", \"mins_to_manhattan_bridge\"] = 21"
   ]
  },
  {
   "cell_type": "code",
   "execution_count": 138,
   "metadata": {},
   "outputs": [],
   "source": [
    "subset_df.loc[subset_df[\"neighborhood\"] == \"BUSHWICK\", \"mins_to_manhattan_bridge\"] = 23"
   ]
  },
  {
   "cell_type": "code",
   "execution_count": 139,
   "metadata": {},
   "outputs": [],
   "source": [
    "subset_df.loc[subset_df[\"neighborhood\"] == \"CANARSIE\", \"mins_to_manhattan_bridge\"] = 35"
   ]
  },
  {
   "cell_type": "code",
   "execution_count": 140,
   "metadata": {},
   "outputs": [],
   "source": [
    "subset_df.loc[subset_df[\"neighborhood\"] == \"BAY RIDGE\", \"mins_to_manhattan_bridge\"] = 17"
   ]
  },
  {
   "cell_type": "code",
   "execution_count": 141,
   "metadata": {},
   "outputs": [],
   "source": [
    "subset_df.loc[subset_df[\"neighborhood\"] == \"CROWN HEIGHTS\", \"mins_to_manhattan_bridge\"] = 19"
   ]
  },
  {
   "cell_type": "code",
   "execution_count": 142,
   "metadata": {},
   "outputs": [],
   "source": [
    "subset_df.loc[subset_df[\"neighborhood\"] == \"SHEEPSHEAD BAY\", \"mins_to_manhattan_bridge\"] = 26"
   ]
  },
  {
   "cell_type": "code",
   "execution_count": 143,
   "metadata": {},
   "outputs": [],
   "source": [
    "subset_df.loc[subset_df[\"neighborhood\"] == \"GRAVESEND\", \"mins_to_manhattan_bridge\"] = 23"
   ]
  },
  {
   "cell_type": "code",
   "execution_count": 144,
   "metadata": {},
   "outputs": [],
   "source": [
    "subset_df.loc[subset_df[\"neighborhood\"] == \"PARK SLOPE\", \"mins_to_manhattan_bridge\"] = 15"
   ]
  },
  {
   "cell_type": "code",
   "execution_count": 145,
   "metadata": {},
   "outputs": [],
   "source": [
    "subset_df.loc[subset_df[\"neighborhood\"] == \"SUNSET PARK\", \"mins_to_manhattan_bridge\"] = 16"
   ]
  },
  {
   "cell_type": "code",
   "execution_count": 146,
   "metadata": {},
   "outputs": [],
   "source": [
    "subset_df.loc[subset_df[\"neighborhood\"] == \"BENSONHURST\", \"mins_to_manhattan_bridge\"] = 21"
   ]
  },
  {
   "cell_type": "code",
   "execution_count": 147,
   "metadata": {},
   "outputs": [],
   "source": [
    "subset_df.loc[subset_df[\"neighborhood\"] == \"OCEAN HILL\", \"mins_to_manhattan_bridge\"] = 23"
   ]
  },
  {
   "cell_type": "code",
   "execution_count": 148,
   "metadata": {},
   "outputs": [],
   "source": [
    "subset_df.loc[subset_df[\"neighborhood\"] == \"GREENPOINT\", \"mins_to_manhattan_bridge\"] = 12"
   ]
  },
  {
   "cell_type": "code",
   "execution_count": 149,
   "metadata": {},
   "outputs": [],
   "source": [
    "subset_df.loc[subset_df[\"neighborhood\"] == \"BRIGHTON BEACH\", \"mins_to_manhattan_bridge\"] = 26"
   ]
  },
  {
   "cell_type": "code",
   "execution_count": 150,
   "metadata": {},
   "outputs": [],
   "source": [
    "subset_df.loc[subset_df[\"neighborhood\"] == \"MIDWOOD\", \"mins_to_manhattan_bridge\"] = 21"
   ]
  },
  {
   "cell_type": "code",
   "execution_count": 151,
   "metadata": {},
   "outputs": [],
   "source": [
    "subset_df.loc[subset_df[\"neighborhood\"] == \"CYPRESS HILLS\", \"mins_to_manhattan_bridge\"] = 38"
   ]
  },
  {
   "cell_type": "code",
   "execution_count": 152,
   "metadata": {},
   "outputs": [],
   "source": [
    "subset_df.loc[subset_df[\"neighborhood\"] == \"MADISON\", \"mins_to_manhattan_bridge\"] = 28"
   ]
  },
  {
   "cell_type": "code",
   "execution_count": 153,
   "metadata": {},
   "outputs": [],
   "source": [
    "subset_df.loc[subset_df[\"neighborhood\"] == \"MARINE PARK\", \"mins_to_manhattan_bridge\"] = 30"
   ]
  },
  {
   "cell_type": "code",
   "execution_count": 154,
   "metadata": {},
   "outputs": [],
   "source": [
    "subset_df.loc[subset_df[\"neighborhood\"] == \"CLINTON HILL\", \"mins_to_manhattan_bridge\"] = 30"
   ]
  },
  {
   "cell_type": "code",
   "execution_count": 155,
   "metadata": {},
   "outputs": [],
   "source": [
    "subset_df.loc[subset_df[\"neighborhood\"] == \"BROOKLYN HEIGHTS\", \"mins_to_manhattan_bridge\"] = 7"
   ]
  },
  {
   "cell_type": "code",
   "execution_count": 156,
   "metadata": {},
   "outputs": [],
   "source": [
    "subset_df.loc[subset_df[\"neighborhood\"] == \"DUMBO\", \"mins_to_manhattan_bridge\"] = 4"
   ]
  },
  {
   "cell_type": "code",
   "execution_count": 157,
   "metadata": {},
   "outputs": [],
   "source": [
    "subset_df.loc[subset_df[\"neighborhood\"] == \"DYKER HEIGHTS\", \"mins_to_manhattan_bridge\"] = 17"
   ]
  },
  {
   "cell_type": "code",
   "execution_count": 158,
   "metadata": {},
   "outputs": [],
   "source": [
    "subset_df.loc[subset_df[\"neighborhood\"] == \"BATH BEACH\", \"mins_to_manhattan_bridge\"] = 18"
   ]
  },
  {
   "cell_type": "code",
   "execution_count": 159,
   "metadata": {},
   "outputs": [],
   "source": [
    "subset_df.loc[subset_df[\"neighborhood\"] == \"PROSPECT HEIGHTS\", \"mins_to_manhattan_bridge\"] = 13"
   ]
  },
  {
   "cell_type": "code",
   "execution_count": 160,
   "metadata": {},
   "outputs": [],
   "source": [
    "subset_df.loc[subset_df[\"neighborhood\"] == \"BROWNSVILLE\", \"mins_to_manhattan_bridge\"] = 28"
   ]
  },
  {
   "cell_type": "code",
   "execution_count": 161,
   "metadata": {},
   "outputs": [],
   "source": [
    "subset_df.loc[subset_df[\"neighborhood\"] == \"OLD MILL BASIN\", \"mins_to_manhattan_bridge\"] = 32"
   ]
  },
  {
   "cell_type": "code",
   "execution_count": 162,
   "metadata": {},
   "outputs": [],
   "source": [
    "subset_df.loc[subset_df[\"neighborhood\"] == \"FLATLANDS\", \"mins_to_manhattan_bridge\"] = 28"
   ]
  },
  {
   "cell_type": "code",
   "execution_count": 163,
   "metadata": {},
   "outputs": [],
   "source": [
    "subset_df.loc[subset_df[\"neighborhood\"] == \"FORT GREENE\", \"mins_to_manhattan_bridge\"] = 6"
   ]
  },
  {
   "cell_type": "code",
   "execution_count": 164,
   "metadata": {},
   "outputs": [],
   "source": [
    "subset_df.loc[subset_df[\"neighborhood\"] == \"CONEY ISLAND\", \"mins_to_manhattan_bridge\"] = 25"
   ]
  },
  {
   "cell_type": "code",
   "execution_count": 165,
   "metadata": {},
   "outputs": [],
   "source": [
    "subset_df.loc[subset_df[\"neighborhood\"] == \"COBBLE HILL\", \"mins_to_manhattan_bridge\"] = 6"
   ]
  },
  {
   "cell_type": "code",
   "execution_count": 166,
   "metadata": {},
   "outputs": [],
   "source": [
    "subset_df.loc[subset_df[\"neighborhood\"] == \"CARROLL GARDENS\", \"mins_to_manhattan_bridge\"] = 8"
   ]
  },
  {
   "cell_type": "code",
   "execution_count": 167,
   "metadata": {},
   "outputs": [],
   "source": [
    "subset_df.loc[subset_df[\"neighborhood\"] == \"BERGEN BEACH\", \"mins_to_manhattan_bridge\"] =35"
   ]
  },
  {
   "cell_type": "code",
   "execution_count": 168,
   "metadata": {},
   "outputs": [],
   "source": [
    "subset_df.loc[subset_df[\"neighborhood\"] == \"BOERUM HILL\", \"mins_to_manhattan_bridge\"] = 10"
   ]
  },
  {
   "cell_type": "code",
   "execution_count": 169,
   "metadata": {},
   "outputs": [],
   "source": [
    "subset_df.loc[subset_df[\"neighborhood\"] == \"WINDSOR TERRACE\", \"mins_to_manhattan_bridge\"] = 12"
   ]
  },
  {
   "cell_type": "code",
   "execution_count": 170,
   "metadata": {},
   "outputs": [],
   "source": [
    "subset_df.loc[subset_df[\"neighborhood\"] == \"GOWANUS\", \"mins_to_manhattan_bridge\"] = 11"
   ]
  },
  {
   "cell_type": "code",
   "execution_count": 171,
   "metadata": {},
   "outputs": [],
   "source": [
    "subset_df.loc[subset_df[\"neighborhood\"] == \"KENSINGTON\", \"mins_to_manhattan_bridge\"] = 11"
   ]
  },
  {
   "cell_type": "code",
   "execution_count": 172,
   "metadata": {},
   "outputs": [],
   "source": [
    "subset_df.loc[subset_df[\"neighborhood\"] == \"DOWNTOWN-METROTECH\", \"mins_to_manhattan_bridge\"] = 3"
   ]
  },
  {
   "cell_type": "code",
   "execution_count": 173,
   "metadata": {},
   "outputs": [],
   "source": [
    "subset_df.loc[subset_df[\"neighborhood\"] == \"WYCKOFF HEIGHTS\", \"mins_to_manhattan_bridge\"] = 24"
   ]
  },
  {
   "cell_type": "code",
   "execution_count": 174,
   "metadata": {},
   "outputs": [],
   "source": [
    "subset_df.loc[subset_df[\"neighborhood\"] == \"GERRITSEN BEACH\", \"mins_to_manhattan_bridge\"] = 30"
   ]
  },
  {
   "cell_type": "code",
   "execution_count": 175,
   "metadata": {},
   "outputs": [],
   "source": [
    "subset_df.loc[subset_df[\"neighborhood\"] == \"MILL BASIN\", \"mins_to_manhattan_bridge\"] = 33"
   ]
  },
  {
   "cell_type": "code",
   "execution_count": 176,
   "metadata": {},
   "outputs": [],
   "source": [
    "subset_df.loc[subset_df[\"neighborhood\"] == \"RED HOOK\", \"mins_to_manhattan_bridge\"] = 9"
   ]
  },
  {
   "cell_type": "code",
   "execution_count": 177,
   "metadata": {},
   "outputs": [],
   "source": [
    "subset_df.loc[subset_df[\"neighborhood\"] == \"MANHATTAN BEACH\", \"mins_to_manhattan_bridge\"] = 28"
   ]
  },
  {
   "cell_type": "code",
   "execution_count": 178,
   "metadata": {},
   "outputs": [],
   "source": [
    "subset_df.loc[subset_df[\"neighborhood\"] == \"BUSH TERMINAL\", \"mins_to_manhattan_bridge\"] = 17"
   ]
  },
  {
   "cell_type": "code",
   "execution_count": 179,
   "metadata": {},
   "outputs": [],
   "source": [
    "subset_df.loc[subset_df[\"neighborhood\"] == \"SEAGATE\", \"mins_to_manhattan_bridge\"] = 28"
   ]
  },
  {
   "cell_type": "code",
   "execution_count": 180,
   "metadata": {},
   "outputs": [],
   "source": [
    "subset_df.loc[subset_df[\"neighborhood\"] == \"SPRING CREEK\", \"mins_to_manhattan_bridge\"] = 35"
   ]
  },
  {
   "cell_type": "code",
   "execution_count": 181,
   "metadata": {},
   "outputs": [],
   "source": [
    "subset_df.loc[subset_df[\"neighborhood\"] == \"NAVY YARD\", \"mins_to_manhattan_bridge\"] = 3"
   ]
  },
  {
   "cell_type": "code",
   "execution_count": 182,
   "metadata": {},
   "outputs": [],
   "source": [
    "subset_df.loc[subset_df[\"neighborhood\"] == \"FLATBUSH\", \"mins_to_manhattan_bridge\"] = 19"
   ]
  },
  {
   "cell_type": "code",
   "execution_count": 183,
   "metadata": {},
   "outputs": [],
   "source": [
    "subset_df.loc[subset_df[\"neighborhood\"] == \"OCEAN PARKWAY\", \"mins_to_manhattan_bridge\"] = 22"
   ]
  },
  {
   "cell_type": "code",
   "execution_count": 184,
   "metadata": {},
   "outputs": [
    {
     "data": {
      "text/html": [
       "<div>\n",
       "<style scoped>\n",
       "    .dataframe tbody tr th:only-of-type {\n",
       "        vertical-align: middle;\n",
       "    }\n",
       "\n",
       "    .dataframe tbody tr th {\n",
       "        vertical-align: top;\n",
       "    }\n",
       "\n",
       "    .dataframe thead th {\n",
       "        text-align: right;\n",
       "    }\n",
       "</style>\n",
       "<table border=\"1\" class=\"dataframe\">\n",
       "  <thead>\n",
       "    <tr style=\"text-align: right;\">\n",
       "      <th></th>\n",
       "      <th>neighborhood</th>\n",
       "      <th>building_class_category</th>\n",
       "      <th>tax_class_at_sale</th>\n",
       "      <th>building_class_at_sale</th>\n",
       "      <th>address</th>\n",
       "      <th>sale_price</th>\n",
       "      <th>sale_date</th>\n",
       "      <th>year_of_sale</th>\n",
       "      <th>land_sqft</th>\n",
       "      <th>gross_sqft</th>\n",
       "      <th>OwnerName</th>\n",
       "      <th>month</th>\n",
       "      <th>month_number</th>\n",
       "      <th>month_name</th>\n",
       "      <th>geographical_region</th>\n",
       "      <th>mins_to_manhattan_bridge</th>\n",
       "    </tr>\n",
       "  </thead>\n",
       "  <tbody>\n",
       "    <tr>\n",
       "      <th>0</th>\n",
       "      <td>DOWNTOWN-METROTECH</td>\n",
       "      <td>28  COMMERCIAL CONDOS</td>\n",
       "      <td>4</td>\n",
       "      <td>R5</td>\n",
       "      <td>330 JAY STREET</td>\n",
       "      <td>499401179.0</td>\n",
       "      <td>2008-04-23</td>\n",
       "      <td>2008</td>\n",
       "      <td>0.0</td>\n",
       "      <td>0.0</td>\n",
       "      <td>Anonymous</td>\n",
       "      <td>4</td>\n",
       "      <td>4</td>\n",
       "      <td>April</td>\n",
       "      <td>Northwestern Brooklyn</td>\n",
       "      <td>3</td>\n",
       "    </tr>\n",
       "    <tr>\n",
       "      <th>1</th>\n",
       "      <td>DUMBO</td>\n",
       "      <td>29  COMMERCIAL GARAGES</td>\n",
       "      <td>4</td>\n",
       "      <td>G7</td>\n",
       "      <td>85 JAY STREET</td>\n",
       "      <td>345000000.0</td>\n",
       "      <td>2016-12-20</td>\n",
       "      <td>2016</td>\n",
       "      <td>134988.0</td>\n",
       "      <td>0.0</td>\n",
       "      <td>85 JAY STREET BROOKLY</td>\n",
       "      <td>12</td>\n",
       "      <td>12</td>\n",
       "      <td>December</td>\n",
       "      <td>Northwestern Brooklyn</td>\n",
       "      <td>4</td>\n",
       "    </tr>\n",
       "    <tr>\n",
       "      <th>2</th>\n",
       "      <td>BROOKLYN HEIGHTS</td>\n",
       "      <td>21  OFFICE BUILDINGS</td>\n",
       "      <td>4</td>\n",
       "      <td>O6</td>\n",
       "      <td>29 COLUMBIA HEIGHTS</td>\n",
       "      <td>340000000.0</td>\n",
       "      <td>2016-08-03</td>\n",
       "      <td>2016</td>\n",
       "      <td>32000.0</td>\n",
       "      <td>304650.0</td>\n",
       "      <td>25-30 COLUMBIA HEIGHT</td>\n",
       "      <td>8</td>\n",
       "      <td>8</td>\n",
       "      <td>August</td>\n",
       "      <td>Northwestern Brooklyn</td>\n",
       "      <td>7</td>\n",
       "    </tr>\n",
       "    <tr>\n",
       "      <th>3</th>\n",
       "      <td>MILL BASIN</td>\n",
       "      <td>22  STORE BUILDINGS</td>\n",
       "      <td>4</td>\n",
       "      <td>K6</td>\n",
       "      <td>5120 AVENUE U</td>\n",
       "      <td>276947000.0</td>\n",
       "      <td>2012-11-28</td>\n",
       "      <td>2012</td>\n",
       "      <td>905000.0</td>\n",
       "      <td>2548000.0</td>\n",
       "      <td>BROOKLYN KINGS PLAZA</td>\n",
       "      <td>11</td>\n",
       "      <td>11</td>\n",
       "      <td>November</td>\n",
       "      <td>Southern Brooklyn</td>\n",
       "      <td>33</td>\n",
       "    </tr>\n",
       "    <tr>\n",
       "      <th>4</th>\n",
       "      <td>BROOKLYN HEIGHTS</td>\n",
       "      <td>26 OTHER HOTELS</td>\n",
       "      <td>4</td>\n",
       "      <td>H8</td>\n",
       "      <td>21 CLARK STREET</td>\n",
       "      <td>202500000.0</td>\n",
       "      <td>2017-10-31</td>\n",
       "      <td>2017</td>\n",
       "      <td>20267.0</td>\n",
       "      <td>356000.0</td>\n",
       "      <td>WATCHTOWER C/O REAL P</td>\n",
       "      <td>10</td>\n",
       "      <td>10</td>\n",
       "      <td>October</td>\n",
       "      <td>Northwestern Brooklyn</td>\n",
       "      <td>7</td>\n",
       "    </tr>\n",
       "  </tbody>\n",
       "</table>\n",
       "</div>"
      ],
      "text/plain": [
       "         neighborhood building_class_category  tax_class_at_sale  \\\n",
       "0  DOWNTOWN-METROTECH   28  COMMERCIAL CONDOS                  4   \n",
       "1               DUMBO  29  COMMERCIAL GARAGES                  4   \n",
       "2    BROOKLYN HEIGHTS    21  OFFICE BUILDINGS                  4   \n",
       "3          MILL BASIN     22  STORE BUILDINGS                  4   \n",
       "4    BROOKLYN HEIGHTS         26 OTHER HOTELS                  4   \n",
       "\n",
       "  building_class_at_sale              address   sale_price  sale_date  \\\n",
       "0                     R5       330 JAY STREET  499401179.0 2008-04-23   \n",
       "1                     G7        85 JAY STREET  345000000.0 2016-12-20   \n",
       "2                     O6  29 COLUMBIA HEIGHTS  340000000.0 2016-08-03   \n",
       "3                     K6        5120 AVENUE U  276947000.0 2012-11-28   \n",
       "4                     H8      21 CLARK STREET  202500000.0 2017-10-31   \n",
       "\n",
       "   year_of_sale  land_sqft  gross_sqft              OwnerName  month  \\\n",
       "0          2008        0.0         0.0              Anonymous      4   \n",
       "1          2016   134988.0         0.0  85 JAY STREET BROOKLY     12   \n",
       "2          2016    32000.0    304650.0  25-30 COLUMBIA HEIGHT      8   \n",
       "3          2012   905000.0   2548000.0   BROOKLYN KINGS PLAZA     11   \n",
       "4          2017    20267.0    356000.0  WATCHTOWER C/O REAL P     10   \n",
       "\n",
       "   month_number month_name    geographical_region mins_to_manhattan_bridge  \n",
       "0             4      April  Northwestern Brooklyn                        3  \n",
       "1            12   December  Northwestern Brooklyn                        4  \n",
       "2             8     August  Northwestern Brooklyn                        7  \n",
       "3            11   November      Southern Brooklyn                       33  \n",
       "4            10    October  Northwestern Brooklyn                        7  "
      ]
     },
     "execution_count": 184,
     "metadata": {},
     "output_type": "execute_result"
    }
   ],
   "source": [
    "subset_df.head()"
   ]
  },
  {
   "cell_type": "code",
   "execution_count": 188,
   "metadata": {},
   "outputs": [
    {
     "data": {
      "text/html": [
       "<div>\n",
       "<style scoped>\n",
       "    .dataframe tbody tr th:only-of-type {\n",
       "        vertical-align: middle;\n",
       "    }\n",
       "\n",
       "    .dataframe tbody tr th {\n",
       "        vertical-align: top;\n",
       "    }\n",
       "\n",
       "    .dataframe thead th {\n",
       "        text-align: right;\n",
       "    }\n",
       "</style>\n",
       "<table border=\"1\" class=\"dataframe\">\n",
       "  <thead>\n",
       "    <tr style=\"text-align: right;\">\n",
       "      <th></th>\n",
       "      <th>neighborhood</th>\n",
       "      <th>building_class_category</th>\n",
       "      <th>tax_class_at_sale</th>\n",
       "      <th>building_class_at_sale</th>\n",
       "      <th>address</th>\n",
       "      <th>sale_price</th>\n",
       "      <th>sale_date</th>\n",
       "      <th>year_of_sale</th>\n",
       "      <th>land_sqft</th>\n",
       "      <th>gross_sqft</th>\n",
       "      <th>OwnerName</th>\n",
       "      <th>month</th>\n",
       "      <th>month_number</th>\n",
       "      <th>month_name</th>\n",
       "      <th>geographical_region</th>\n",
       "      <th>mins_to_manhattan_bridge</th>\n",
       "    </tr>\n",
       "  </thead>\n",
       "  <tbody>\n",
       "    <tr>\n",
       "      <th>740</th>\n",
       "      <td>JAMAICA BAY</td>\n",
       "      <td>22  STORE BUILDINGS</td>\n",
       "      <td>4</td>\n",
       "      <td>K1</td>\n",
       "      <td>2875 FLATBUSH AVENUE</td>\n",
       "      <td>13000000.0</td>\n",
       "      <td>2013-02-21</td>\n",
       "      <td>2013</td>\n",
       "      <td>130120.0</td>\n",
       "      <td>45969.0</td>\n",
       "      <td>NEW YORK CITY LAND DE</td>\n",
       "      <td>2</td>\n",
       "      <td>2</td>\n",
       "      <td>February</td>\n",
       "      <td>&lt;NA&gt;</td>\n",
       "      <td>&lt;NA&gt;</td>\n",
       "    </tr>\n",
       "    <tr>\n",
       "      <th>3137</th>\n",
       "      <td>JAMAICA BAY</td>\n",
       "      <td>31  COMMERCIAL VACANT LAND</td>\n",
       "      <td>4</td>\n",
       "      <td>V9</td>\n",
       "      <td>FLATBUSH AVENUE</td>\n",
       "      <td>4200000.0</td>\n",
       "      <td>2013-03-14</td>\n",
       "      <td>2013</td>\n",
       "      <td>110303.0</td>\n",
       "      <td>0.0</td>\n",
       "      <td>BICAL DEVELOPMENT, IN</td>\n",
       "      <td>3</td>\n",
       "      <td>3</td>\n",
       "      <td>March</td>\n",
       "      <td>&lt;NA&gt;</td>\n",
       "      <td>&lt;NA&gt;</td>\n",
       "    </tr>\n",
       "    <tr>\n",
       "      <th>182078</th>\n",
       "      <td>JAMAICA BAY</td>\n",
       "      <td>29 COMMERCIAL GARAGES</td>\n",
       "      <td>4</td>\n",
       "      <td>G8</td>\n",
       "      <td>2859 FLATBUSH AVENUE</td>\n",
       "      <td>10.0</td>\n",
       "      <td>2017-08-03</td>\n",
       "      <td>2017</td>\n",
       "      <td>110303.0</td>\n",
       "      <td>147187.0</td>\n",
       "      <td>BICAL DEVELOPMENT, IN</td>\n",
       "      <td>8</td>\n",
       "      <td>8</td>\n",
       "      <td>August</td>\n",
       "      <td>&lt;NA&gt;</td>\n",
       "      <td>&lt;NA&gt;</td>\n",
       "    </tr>\n",
       "    <tr>\n",
       "      <th>183021</th>\n",
       "      <td>JAMAICA BAY</td>\n",
       "      <td>22  STORE BUILDINGS</td>\n",
       "      <td>4</td>\n",
       "      <td>K1</td>\n",
       "      <td>2875 FLATBUSH AVENUE</td>\n",
       "      <td>1.0</td>\n",
       "      <td>2013-02-21</td>\n",
       "      <td>2013</td>\n",
       "      <td>130120.0</td>\n",
       "      <td>45969.0</td>\n",
       "      <td>NEW YORK CITY LAND DE</td>\n",
       "      <td>2</td>\n",
       "      <td>2</td>\n",
       "      <td>February</td>\n",
       "      <td>&lt;NA&gt;</td>\n",
       "      <td>&lt;NA&gt;</td>\n",
       "    </tr>\n",
       "    <tr>\n",
       "      <th>183022</th>\n",
       "      <td>JAMAICA BAY</td>\n",
       "      <td>31  COMMERCIAL VACANT LAND</td>\n",
       "      <td>4</td>\n",
       "      <td>V9</td>\n",
       "      <td>FLATBUSH AVENUE</td>\n",
       "      <td>1.0</td>\n",
       "      <td>2013-03-14</td>\n",
       "      <td>2013</td>\n",
       "      <td>110303.0</td>\n",
       "      <td>0.0</td>\n",
       "      <td>BICAL DEVELOPMENT, IN</td>\n",
       "      <td>3</td>\n",
       "      <td>3</td>\n",
       "      <td>March</td>\n",
       "      <td>&lt;NA&gt;</td>\n",
       "      <td>&lt;NA&gt;</td>\n",
       "    </tr>\n",
       "    <tr>\n",
       "      <th>220632</th>\n",
       "      <td>JAMAICA BAY</td>\n",
       "      <td>22  STORE BUILDINGS</td>\n",
       "      <td>4</td>\n",
       "      <td>K1</td>\n",
       "      <td>2875 FLATBUSH AVENUE</td>\n",
       "      <td>0.0</td>\n",
       "      <td>2013-03-14</td>\n",
       "      <td>2013</td>\n",
       "      <td>130120.0</td>\n",
       "      <td>45969.0</td>\n",
       "      <td>NEW YORK CITY LAND DE</td>\n",
       "      <td>3</td>\n",
       "      <td>3</td>\n",
       "      <td>March</td>\n",
       "      <td>&lt;NA&gt;</td>\n",
       "      <td>&lt;NA&gt;</td>\n",
       "    </tr>\n",
       "    <tr>\n",
       "      <th>220633</th>\n",
       "      <td>JAMAICA BAY</td>\n",
       "      <td>40  SELECTED GOVERNMENTAL FACILITIES</td>\n",
       "      <td>4</td>\n",
       "      <td>Y7</td>\n",
       "      <td>FLATBUSH AVENUE</td>\n",
       "      <td>0.0</td>\n",
       "      <td>2013-03-14</td>\n",
       "      <td>2013</td>\n",
       "      <td>267417.0</td>\n",
       "      <td>0.0</td>\n",
       "      <td>TOYS R US-DELAWARE IN</td>\n",
       "      <td>3</td>\n",
       "      <td>3</td>\n",
       "      <td>March</td>\n",
       "      <td>&lt;NA&gt;</td>\n",
       "      <td>&lt;NA&gt;</td>\n",
       "    </tr>\n",
       "  </tbody>\n",
       "</table>\n",
       "</div>"
      ],
      "text/plain": [
       "       neighborhood               building_class_category  tax_class_at_sale  \\\n",
       "740     JAMAICA BAY                   22  STORE BUILDINGS                  4   \n",
       "3137    JAMAICA BAY            31  COMMERCIAL VACANT LAND                  4   \n",
       "182078  JAMAICA BAY                 29 COMMERCIAL GARAGES                  4   \n",
       "183021  JAMAICA BAY                   22  STORE BUILDINGS                  4   \n",
       "183022  JAMAICA BAY            31  COMMERCIAL VACANT LAND                  4   \n",
       "220632  JAMAICA BAY                   22  STORE BUILDINGS                  4   \n",
       "220633  JAMAICA BAY  40  SELECTED GOVERNMENTAL FACILITIES                  4   \n",
       "\n",
       "       building_class_at_sale               address  sale_price  sale_date  \\\n",
       "740                        K1  2875 FLATBUSH AVENUE  13000000.0 2013-02-21   \n",
       "3137                       V9       FLATBUSH AVENUE   4200000.0 2013-03-14   \n",
       "182078                     G8  2859 FLATBUSH AVENUE        10.0 2017-08-03   \n",
       "183021                     K1  2875 FLATBUSH AVENUE         1.0 2013-02-21   \n",
       "183022                     V9       FLATBUSH AVENUE         1.0 2013-03-14   \n",
       "220632                     K1  2875 FLATBUSH AVENUE         0.0 2013-03-14   \n",
       "220633                     Y7       FLATBUSH AVENUE         0.0 2013-03-14   \n",
       "\n",
       "        year_of_sale  land_sqft  gross_sqft              OwnerName  month  \\\n",
       "740             2013   130120.0     45969.0  NEW YORK CITY LAND DE      2   \n",
       "3137            2013   110303.0         0.0  BICAL DEVELOPMENT, IN      3   \n",
       "182078          2017   110303.0    147187.0  BICAL DEVELOPMENT, IN      8   \n",
       "183021          2013   130120.0     45969.0  NEW YORK CITY LAND DE      2   \n",
       "183022          2013   110303.0         0.0  BICAL DEVELOPMENT, IN      3   \n",
       "220632          2013   130120.0     45969.0  NEW YORK CITY LAND DE      3   \n",
       "220633          2013   267417.0         0.0  TOYS R US-DELAWARE IN      3   \n",
       "\n",
       "        month_number month_name geographical_region mins_to_manhattan_bridge  \n",
       "740                2   February                <NA>                     <NA>  \n",
       "3137               3      March                <NA>                     <NA>  \n",
       "182078             8     August                <NA>                     <NA>  \n",
       "183021             2   February                <NA>                     <NA>  \n",
       "183022             3      March                <NA>                     <NA>  \n",
       "220632             3      March                <NA>                     <NA>  \n",
       "220633             3      March                <NA>                     <NA>  "
      ]
     },
     "execution_count": 188,
     "metadata": {},
     "output_type": "execute_result"
    }
   ],
   "source": [
    "subset_df.loc[subset_df[\"geographical_region\"].isnull()]"
   ]
  },
  {
   "cell_type": "markdown",
   "metadata": {},
   "source": [
    "\n",
    "After checking the null values above, we can see the geographical region has 7 missing values which we intentionally made it this way because of unclarity with one of the neighborhood(JAMAICA BAY). Politically, Jamaica bay seems not to be a neigborhood in Brooklyn, it is primarily divided between the boroughs of Brooklyn and Queens in New York City, with a small part touching Nassau County, so on this basis we decided not to fill it with geographical region we are not certain of, hence we decide we will drop it."
   ]
  },
  {
   "cell_type": "code",
   "execution_count": 190,
   "metadata": {},
   "outputs": [
    {
     "data": {
      "text/plain": [
       "neighborhood                0\n",
       "building_class_category     0\n",
       "tax_class_at_sale           0\n",
       "building_class_at_sale      0\n",
       "address                     0\n",
       "sale_price                  0\n",
       "sale_date                   0\n",
       "year_of_sale                0\n",
       "land_sqft                   0\n",
       "gross_sqft                  0\n",
       "OwnerName                   0\n",
       "month                       0\n",
       "month_number                0\n",
       "month_name                  0\n",
       "geographical_region         7\n",
       "mins_to_manhattan_bridge    7\n",
       "dtype: int64"
      ]
     },
     "execution_count": 190,
     "metadata": {},
     "output_type": "execute_result"
    }
   ],
   "source": [
    "# checking where neighborhood is jamaica bay so we have a look of how many rows are missing.\n",
    "subset_df.isnull().sum()"
   ]
  },
  {
   "cell_type": "code",
   "execution_count": 191,
   "metadata": {},
   "outputs": [],
   "source": [
    "# there are 7 rows, so we drop this rows\n",
    "subset_df = subset_df.dropna()"
   ]
  },
  {
   "cell_type": "code",
   "execution_count": 192,
   "metadata": {},
   "outputs": [
    {
     "data": {
      "text/plain": [
       "neighborhood                0\n",
       "building_class_category     0\n",
       "tax_class_at_sale           0\n",
       "building_class_at_sale      0\n",
       "address                     0\n",
       "sale_price                  0\n",
       "sale_date                   0\n",
       "year_of_sale                0\n",
       "land_sqft                   0\n",
       "gross_sqft                  0\n",
       "OwnerName                   0\n",
       "month                       0\n",
       "month_number                0\n",
       "month_name                  0\n",
       "geographical_region         0\n",
       "mins_to_manhattan_bridge    0\n",
       "dtype: int64"
      ]
     },
     "execution_count": 192,
     "metadata": {},
     "output_type": "execute_result"
    }
   ],
   "source": [
    "subset_df.isnull().sum()"
   ]
  },
  {
   "cell_type": "markdown",
   "metadata": {},
   "source": [
    "\n",
    "We no longer have null values, however, there is an abnormality in our dataframe under the sale_price column,  there are properties sale_price that are less than $1000 and many more, so we decided to set a pricing threshold of 100000 above so we can use this in our analyis."
   ]
  },
  {
   "cell_type": "code",
   "execution_count": 193,
   "metadata": {},
   "outputs": [],
   "source": [
    "#subset_df = subset_df.loc[subset_df[\"sale_price\"] > 100000]"
   ]
  },
  {
   "cell_type": "code",
   "execution_count": 194,
   "metadata": {},
   "outputs": [
    {
     "data": {
      "text/plain": [
       "(390876, 16)"
      ]
     },
     "execution_count": 194,
     "metadata": {},
     "output_type": "execute_result"
    }
   ],
   "source": [
    "subset_df.shape"
   ]
  },
  {
   "cell_type": "code",
   "execution_count": 195,
   "metadata": {},
   "outputs": [],
   "source": [
    "# saving the final dataframe to a csv so it can be use for Exploratory analysis.\n",
    "subset_df.to_csv(\"full_sale.csv\")"
   ]
  },
  {
   "cell_type": "code",
   "execution_count": null,
   "metadata": {},
   "outputs": [],
   "source": []
  }
 ],
 "metadata": {
  "kernelspec": {
   "display_name": "Python 3",
   "language": "python",
   "name": "python3"
  },
  "language_info": {
   "codemirror_mode": {
    "name": "ipython",
    "version": 3
   },
   "file_extension": ".py",
   "mimetype": "text/x-python",
   "name": "python",
   "nbconvert_exporter": "python",
   "pygments_lexer": "ipython3",
   "version": "3.8.5"
  }
 },
 "nbformat": 4,
 "nbformat_minor": 4
}
