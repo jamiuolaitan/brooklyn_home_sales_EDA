{
 "cells": [
  {
   "cell_type": "markdown",
   "metadata": {},
   "source": [
    "### REGRESSION MODELS FOR PROPERTIES IN BROOKLYN\n",
    "\n",
    "Statistical analysis is an essential part of analysis, exploratory analysis uncover insights and can easy to visualize, however statistical analysis comes in to play while investigating the relationship between dependent and independent variables and can go beyond that to give statistical meaning and evidence to our findings. Having a knowledge of the relationships that exist between variables can solve many business problems, this is why regression analysis will be carried out on the properties in Brooklyn to see if some features are the reason why properties are cheap or expensive."
   ]
  },
  {
   "cell_type": "code",
   "execution_count": 1,
   "metadata": {},
   "outputs": [],
   "source": [
    "import pandas as pd\n",
    "import matplotlib.pyplot as plt\n",
    "import numpy as np\n",
    "import seaborn as sns\n",
    "from sklearn.linear_model import LinearRegression\n",
    "from sklearn.metrics import accuracy_score\n",
    "import statsmodels.api as sm\n",
    "import warnings\n",
    "warnings.filterwarnings('ignore')"
   ]
  },
  {
   "cell_type": "code",
   "execution_count": 4,
   "metadata": {},
   "outputs": [],
   "source": [
    "properties = pd.read_csv(\"full_sale.csv\")"
   ]
  },
  {
   "cell_type": "code",
   "execution_count": 5,
   "metadata": {},
   "outputs": [
    {
     "data": {
      "text/html": [
       "<div>\n",
       "<style scoped>\n",
       "    .dataframe tbody tr th:only-of-type {\n",
       "        vertical-align: middle;\n",
       "    }\n",
       "\n",
       "    .dataframe tbody tr th {\n",
       "        vertical-align: top;\n",
       "    }\n",
       "\n",
       "    .dataframe thead th {\n",
       "        text-align: right;\n",
       "    }\n",
       "</style>\n",
       "<table border=\"1\" class=\"dataframe\">\n",
       "  <thead>\n",
       "    <tr style=\"text-align: right;\">\n",
       "      <th></th>\n",
       "      <th>Unnamed: 0</th>\n",
       "      <th>neighborhood</th>\n",
       "      <th>building_class_category</th>\n",
       "      <th>tax_class_at_sale</th>\n",
       "      <th>building_class_at_sale</th>\n",
       "      <th>address</th>\n",
       "      <th>sale_price</th>\n",
       "      <th>sale_date</th>\n",
       "      <th>year_of_sale</th>\n",
       "      <th>land_sqft</th>\n",
       "      <th>gross_sqft</th>\n",
       "      <th>OwnerName</th>\n",
       "      <th>month</th>\n",
       "      <th>month_number</th>\n",
       "      <th>month_name</th>\n",
       "      <th>geographical_region</th>\n",
       "      <th>mins_to_manhattan_bridge</th>\n",
       "    </tr>\n",
       "  </thead>\n",
       "  <tbody>\n",
       "    <tr>\n",
       "      <th>0</th>\n",
       "      <td>0</td>\n",
       "      <td>DOWNTOWN-METROTECH</td>\n",
       "      <td>28  COMMERCIAL CONDOS</td>\n",
       "      <td>4</td>\n",
       "      <td>R5</td>\n",
       "      <td>330 JAY STREET</td>\n",
       "      <td>499401179.0</td>\n",
       "      <td>2008-04-23</td>\n",
       "      <td>2008</td>\n",
       "      <td>0.0</td>\n",
       "      <td>0.0</td>\n",
       "      <td>Anonymous</td>\n",
       "      <td>4</td>\n",
       "      <td>4</td>\n",
       "      <td>April</td>\n",
       "      <td>Northwestern Brooklyn</td>\n",
       "      <td>3</td>\n",
       "    </tr>\n",
       "    <tr>\n",
       "      <th>1</th>\n",
       "      <td>1</td>\n",
       "      <td>DUMBO</td>\n",
       "      <td>29  COMMERCIAL GARAGES</td>\n",
       "      <td>4</td>\n",
       "      <td>G7</td>\n",
       "      <td>85 JAY STREET</td>\n",
       "      <td>345000000.0</td>\n",
       "      <td>2016-12-20</td>\n",
       "      <td>2016</td>\n",
       "      <td>134988.0</td>\n",
       "      <td>0.0</td>\n",
       "      <td>85 JAY STREET BROOKLY</td>\n",
       "      <td>12</td>\n",
       "      <td>12</td>\n",
       "      <td>December</td>\n",
       "      <td>Northwestern Brooklyn</td>\n",
       "      <td>4</td>\n",
       "    </tr>\n",
       "    <tr>\n",
       "      <th>2</th>\n",
       "      <td>2</td>\n",
       "      <td>BROOKLYN HEIGHTS</td>\n",
       "      <td>21  OFFICE BUILDINGS</td>\n",
       "      <td>4</td>\n",
       "      <td>O6</td>\n",
       "      <td>29 COLUMBIA HEIGHTS</td>\n",
       "      <td>340000000.0</td>\n",
       "      <td>2016-08-03</td>\n",
       "      <td>2016</td>\n",
       "      <td>32000.0</td>\n",
       "      <td>304650.0</td>\n",
       "      <td>25-30 COLUMBIA HEIGHT</td>\n",
       "      <td>8</td>\n",
       "      <td>8</td>\n",
       "      <td>August</td>\n",
       "      <td>Northwestern Brooklyn</td>\n",
       "      <td>7</td>\n",
       "    </tr>\n",
       "    <tr>\n",
       "      <th>3</th>\n",
       "      <td>3</td>\n",
       "      <td>MILL BASIN</td>\n",
       "      <td>22  STORE BUILDINGS</td>\n",
       "      <td>4</td>\n",
       "      <td>K6</td>\n",
       "      <td>5120 AVENUE U</td>\n",
       "      <td>276947000.0</td>\n",
       "      <td>2012-11-28</td>\n",
       "      <td>2012</td>\n",
       "      <td>905000.0</td>\n",
       "      <td>2548000.0</td>\n",
       "      <td>BROOKLYN KINGS PLAZA</td>\n",
       "      <td>11</td>\n",
       "      <td>11</td>\n",
       "      <td>November</td>\n",
       "      <td>Southern Brooklyn</td>\n",
       "      <td>33</td>\n",
       "    </tr>\n",
       "    <tr>\n",
       "      <th>4</th>\n",
       "      <td>4</td>\n",
       "      <td>BROOKLYN HEIGHTS</td>\n",
       "      <td>26 OTHER HOTELS</td>\n",
       "      <td>4</td>\n",
       "      <td>H8</td>\n",
       "      <td>21 CLARK STREET</td>\n",
       "      <td>202500000.0</td>\n",
       "      <td>2017-10-31</td>\n",
       "      <td>2017</td>\n",
       "      <td>20267.0</td>\n",
       "      <td>356000.0</td>\n",
       "      <td>WATCHTOWER C/O REAL P</td>\n",
       "      <td>10</td>\n",
       "      <td>10</td>\n",
       "      <td>October</td>\n",
       "      <td>Northwestern Brooklyn</td>\n",
       "      <td>7</td>\n",
       "    </tr>\n",
       "  </tbody>\n",
       "</table>\n",
       "</div>"
      ],
      "text/plain": [
       "   Unnamed: 0        neighborhood building_class_category  tax_class_at_sale  \\\n",
       "0           0  DOWNTOWN-METROTECH   28  COMMERCIAL CONDOS                  4   \n",
       "1           1               DUMBO  29  COMMERCIAL GARAGES                  4   \n",
       "2           2    BROOKLYN HEIGHTS    21  OFFICE BUILDINGS                  4   \n",
       "3           3          MILL BASIN     22  STORE BUILDINGS                  4   \n",
       "4           4    BROOKLYN HEIGHTS         26 OTHER HOTELS                  4   \n",
       "\n",
       "  building_class_at_sale              address   sale_price   sale_date  \\\n",
       "0                     R5       330 JAY STREET  499401179.0  2008-04-23   \n",
       "1                     G7        85 JAY STREET  345000000.0  2016-12-20   \n",
       "2                     O6  29 COLUMBIA HEIGHTS  340000000.0  2016-08-03   \n",
       "3                     K6        5120 AVENUE U  276947000.0  2012-11-28   \n",
       "4                     H8      21 CLARK STREET  202500000.0  2017-10-31   \n",
       "\n",
       "   year_of_sale  land_sqft  gross_sqft              OwnerName  month  \\\n",
       "0          2008        0.0         0.0              Anonymous      4   \n",
       "1          2016   134988.0         0.0  85 JAY STREET BROOKLY     12   \n",
       "2          2016    32000.0    304650.0  25-30 COLUMBIA HEIGHT      8   \n",
       "3          2012   905000.0   2548000.0   BROOKLYN KINGS PLAZA     11   \n",
       "4          2017    20267.0    356000.0  WATCHTOWER C/O REAL P     10   \n",
       "\n",
       "   month_number month_name    geographical_region  mins_to_manhattan_bridge  \n",
       "0             4      April  Northwestern Brooklyn                         3  \n",
       "1            12   December  Northwestern Brooklyn                         4  \n",
       "2             8     August  Northwestern Brooklyn                         7  \n",
       "3            11   November      Southern Brooklyn                        33  \n",
       "4            10    October  Northwestern Brooklyn                         7  "
      ]
     },
     "execution_count": 5,
     "metadata": {},
     "output_type": "execute_result"
    }
   ],
   "source": [
    "properties.head()"
   ]
  },
  {
   "cell_type": "markdown",
   "metadata": {},
   "source": [
    "####  SETTING A PRICE THRESHOLD OF OVER 100,000 USD"
   ]
  },
  {
   "cell_type": "code",
   "execution_count": 6,
   "metadata": {},
   "outputs": [],
   "source": [
    "properties = properties.loc[properties[\"sale_price\"] > 100000]"
   ]
  },
  {
   "cell_type": "code",
   "execution_count": 7,
   "metadata": {},
   "outputs": [
    {
     "data": {
      "text/html": [
       "<div>\n",
       "<style scoped>\n",
       "    .dataframe tbody tr th:only-of-type {\n",
       "        vertical-align: middle;\n",
       "    }\n",
       "\n",
       "    .dataframe tbody tr th {\n",
       "        vertical-align: top;\n",
       "    }\n",
       "\n",
       "    .dataframe thead th {\n",
       "        text-align: right;\n",
       "    }\n",
       "</style>\n",
       "<table border=\"1\" class=\"dataframe\">\n",
       "  <thead>\n",
       "    <tr style=\"text-align: right;\">\n",
       "      <th></th>\n",
       "      <th>Unnamed: 0</th>\n",
       "      <th>neighborhood</th>\n",
       "      <th>building_class_category</th>\n",
       "      <th>tax_class_at_sale</th>\n",
       "      <th>building_class_at_sale</th>\n",
       "      <th>address</th>\n",
       "      <th>sale_price</th>\n",
       "      <th>sale_date</th>\n",
       "      <th>year_of_sale</th>\n",
       "      <th>land_sqft</th>\n",
       "      <th>gross_sqft</th>\n",
       "      <th>OwnerName</th>\n",
       "      <th>month</th>\n",
       "      <th>month_number</th>\n",
       "      <th>month_name</th>\n",
       "      <th>geographical_region</th>\n",
       "      <th>mins_to_manhattan_bridge</th>\n",
       "    </tr>\n",
       "  </thead>\n",
       "  <tbody>\n",
       "    <tr>\n",
       "      <th>0</th>\n",
       "      <td>0</td>\n",
       "      <td>DOWNTOWN-METROTECH</td>\n",
       "      <td>28  COMMERCIAL CONDOS</td>\n",
       "      <td>4</td>\n",
       "      <td>R5</td>\n",
       "      <td>330 JAY STREET</td>\n",
       "      <td>499401179.0</td>\n",
       "      <td>2008-04-23</td>\n",
       "      <td>2008</td>\n",
       "      <td>0.0</td>\n",
       "      <td>0.0</td>\n",
       "      <td>Anonymous</td>\n",
       "      <td>4</td>\n",
       "      <td>4</td>\n",
       "      <td>April</td>\n",
       "      <td>Northwestern Brooklyn</td>\n",
       "      <td>3</td>\n",
       "    </tr>\n",
       "    <tr>\n",
       "      <th>1</th>\n",
       "      <td>1</td>\n",
       "      <td>DUMBO</td>\n",
       "      <td>29  COMMERCIAL GARAGES</td>\n",
       "      <td>4</td>\n",
       "      <td>G7</td>\n",
       "      <td>85 JAY STREET</td>\n",
       "      <td>345000000.0</td>\n",
       "      <td>2016-12-20</td>\n",
       "      <td>2016</td>\n",
       "      <td>134988.0</td>\n",
       "      <td>0.0</td>\n",
       "      <td>85 JAY STREET BROOKLY</td>\n",
       "      <td>12</td>\n",
       "      <td>12</td>\n",
       "      <td>December</td>\n",
       "      <td>Northwestern Brooklyn</td>\n",
       "      <td>4</td>\n",
       "    </tr>\n",
       "    <tr>\n",
       "      <th>2</th>\n",
       "      <td>2</td>\n",
       "      <td>BROOKLYN HEIGHTS</td>\n",
       "      <td>21  OFFICE BUILDINGS</td>\n",
       "      <td>4</td>\n",
       "      <td>O6</td>\n",
       "      <td>29 COLUMBIA HEIGHTS</td>\n",
       "      <td>340000000.0</td>\n",
       "      <td>2016-08-03</td>\n",
       "      <td>2016</td>\n",
       "      <td>32000.0</td>\n",
       "      <td>304650.0</td>\n",
       "      <td>25-30 COLUMBIA HEIGHT</td>\n",
       "      <td>8</td>\n",
       "      <td>8</td>\n",
       "      <td>August</td>\n",
       "      <td>Northwestern Brooklyn</td>\n",
       "      <td>7</td>\n",
       "    </tr>\n",
       "    <tr>\n",
       "      <th>3</th>\n",
       "      <td>3</td>\n",
       "      <td>MILL BASIN</td>\n",
       "      <td>22  STORE BUILDINGS</td>\n",
       "      <td>4</td>\n",
       "      <td>K6</td>\n",
       "      <td>5120 AVENUE U</td>\n",
       "      <td>276947000.0</td>\n",
       "      <td>2012-11-28</td>\n",
       "      <td>2012</td>\n",
       "      <td>905000.0</td>\n",
       "      <td>2548000.0</td>\n",
       "      <td>BROOKLYN KINGS PLAZA</td>\n",
       "      <td>11</td>\n",
       "      <td>11</td>\n",
       "      <td>November</td>\n",
       "      <td>Southern Brooklyn</td>\n",
       "      <td>33</td>\n",
       "    </tr>\n",
       "    <tr>\n",
       "      <th>4</th>\n",
       "      <td>4</td>\n",
       "      <td>BROOKLYN HEIGHTS</td>\n",
       "      <td>26 OTHER HOTELS</td>\n",
       "      <td>4</td>\n",
       "      <td>H8</td>\n",
       "      <td>21 CLARK STREET</td>\n",
       "      <td>202500000.0</td>\n",
       "      <td>2017-10-31</td>\n",
       "      <td>2017</td>\n",
       "      <td>20267.0</td>\n",
       "      <td>356000.0</td>\n",
       "      <td>WATCHTOWER C/O REAL P</td>\n",
       "      <td>10</td>\n",
       "      <td>10</td>\n",
       "      <td>October</td>\n",
       "      <td>Northwestern Brooklyn</td>\n",
       "      <td>7</td>\n",
       "    </tr>\n",
       "  </tbody>\n",
       "</table>\n",
       "</div>"
      ],
      "text/plain": [
       "   Unnamed: 0        neighborhood building_class_category  tax_class_at_sale  \\\n",
       "0           0  DOWNTOWN-METROTECH   28  COMMERCIAL CONDOS                  4   \n",
       "1           1               DUMBO  29  COMMERCIAL GARAGES                  4   \n",
       "2           2    BROOKLYN HEIGHTS    21  OFFICE BUILDINGS                  4   \n",
       "3           3          MILL BASIN     22  STORE BUILDINGS                  4   \n",
       "4           4    BROOKLYN HEIGHTS         26 OTHER HOTELS                  4   \n",
       "\n",
       "  building_class_at_sale              address   sale_price   sale_date  \\\n",
       "0                     R5       330 JAY STREET  499401179.0  2008-04-23   \n",
       "1                     G7        85 JAY STREET  345000000.0  2016-12-20   \n",
       "2                     O6  29 COLUMBIA HEIGHTS  340000000.0  2016-08-03   \n",
       "3                     K6        5120 AVENUE U  276947000.0  2012-11-28   \n",
       "4                     H8      21 CLARK STREET  202500000.0  2017-10-31   \n",
       "\n",
       "   year_of_sale  land_sqft  gross_sqft              OwnerName  month  \\\n",
       "0          2008        0.0         0.0              Anonymous      4   \n",
       "1          2016   134988.0         0.0  85 JAY STREET BROOKLY     12   \n",
       "2          2016    32000.0    304650.0  25-30 COLUMBIA HEIGHT      8   \n",
       "3          2012   905000.0   2548000.0   BROOKLYN KINGS PLAZA     11   \n",
       "4          2017    20267.0    356000.0  WATCHTOWER C/O REAL P     10   \n",
       "\n",
       "   month_number month_name    geographical_region  mins_to_manhattan_bridge  \n",
       "0             4      April  Northwestern Brooklyn                         3  \n",
       "1            12   December  Northwestern Brooklyn                         4  \n",
       "2             8     August  Northwestern Brooklyn                         7  \n",
       "3            11   November      Southern Brooklyn                        33  \n",
       "4            10    October  Northwestern Brooklyn                         7  "
      ]
     },
     "execution_count": 7,
     "metadata": {},
     "output_type": "execute_result"
    }
   ],
   "source": [
    "properties.head()"
   ]
  },
  {
   "cell_type": "code",
   "execution_count": 8,
   "metadata": {},
   "outputs": [],
   "source": [
    "df = properties[[\"sale_price\", \"mins_to_manhattan_bridge\"]]"
   ]
  },
  {
   "cell_type": "code",
   "execution_count": 9,
   "metadata": {},
   "outputs": [],
   "source": [
    "#Adding constant to our dataframe\n",
    "properties = sm.add_constant(properties)"
   ]
  },
  {
   "cell_type": "markdown",
   "metadata": {},
   "source": [
    "Now we have our constant included, then we can use our statsmodel to carry out a multivariate regression to see if some features impacts the price of this properties."
   ]
  },
  {
   "cell_type": "code",
   "execution_count": 10,
   "metadata": {},
   "outputs": [
    {
     "data": {
      "text/html": [
       "<table class=\"simpletable\">\n",
       "<caption>OLS Regression Results</caption>\n",
       "<tr>\n",
       "  <th>Dep. Variable:</th>       <td>sale_price</td>    <th>  R-squared:         </th>  <td>   0.179</td>  \n",
       "</tr>\n",
       "<tr>\n",
       "  <th>Model:</th>                   <td>OLS</td>       <th>  Adj. R-squared:    </th>  <td>   0.179</td>  \n",
       "</tr>\n",
       "<tr>\n",
       "  <th>Method:</th>             <td>Least Squares</td>  <th>  F-statistic:       </th>  <td>1.018e+04</td> \n",
       "</tr>\n",
       "<tr>\n",
       "  <th>Date:</th>             <td>Fri, 09 Jul 2021</td> <th>  Prob (F-statistic):</th>   <td>  0.00</td>   \n",
       "</tr>\n",
       "<tr>\n",
       "  <th>Time:</th>                 <td>11:41:58</td>     <th>  Log-Likelihood:    </th> <td>-3.7954e+06</td>\n",
       "</tr>\n",
       "<tr>\n",
       "  <th>No. Observations:</th>      <td>233805</td>      <th>  AIC:               </th>  <td>7.591e+06</td> \n",
       "</tr>\n",
       "<tr>\n",
       "  <th>Df Residuals:</th>          <td>233799</td>      <th>  BIC:               </th>  <td>7.591e+06</td> \n",
       "</tr>\n",
       "<tr>\n",
       "  <th>Df Model:</th>              <td>     5</td>      <th>                     </th>      <td> </td>     \n",
       "</tr>\n",
       "<tr>\n",
       "  <th>Covariance Type:</th>      <td>nonrobust</td>    <th>                     </th>      <td> </td>     \n",
       "</tr>\n",
       "</table>\n",
       "<table class=\"simpletable\">\n",
       "<tr>\n",
       "              <td></td>                <th>coef</th>     <th>std err</th>      <th>t</th>      <th>P>|t|</th>  <th>[0.025</th>    <th>0.975]</th>  \n",
       "</tr>\n",
       "<tr>\n",
       "  <th>const</th>                    <td> -1.09e+08</td> <td> 2.51e+06</td> <td>  -43.455</td> <td> 0.000</td> <td>-1.14e+08</td> <td>-1.04e+08</td>\n",
       "</tr>\n",
       "<tr>\n",
       "  <th>year_of_sale</th>             <td>  5.45e+04</td> <td> 1247.790</td> <td>   43.680</td> <td> 0.000</td> <td> 5.21e+04</td> <td> 5.69e+04</td>\n",
       "</tr>\n",
       "<tr>\n",
       "  <th>land_sqft</th>                <td>   25.5136</td> <td>    0.607</td> <td>   42.003</td> <td> 0.000</td> <td>   24.323</td> <td>   26.704</td>\n",
       "</tr>\n",
       "<tr>\n",
       "  <th>gross_sqft</th>               <td>   76.1814</td> <td>    0.476</td> <td>  159.993</td> <td> 0.000</td> <td>   75.248</td> <td>   77.115</td>\n",
       "</tr>\n",
       "<tr>\n",
       "  <th>mins_to_manhattan_bridge</th> <td>-2.365e+04</td> <td>  704.564</td> <td>  -33.567</td> <td> 0.000</td> <td> -2.5e+04</td> <td>-2.23e+04</td>\n",
       "</tr>\n",
       "<tr>\n",
       "  <th>tax_class_at_sale</th>        <td> 3.377e+05</td> <td> 7907.351</td> <td>   42.702</td> <td> 0.000</td> <td> 3.22e+05</td> <td> 3.53e+05</td>\n",
       "</tr>\n",
       "</table>\n",
       "<table class=\"simpletable\">\n",
       "<tr>\n",
       "  <th>Omnibus:</th>       <td>792485.007</td> <th>  Durbin-Watson:     </th>     <td>   0.479</td>    \n",
       "</tr>\n",
       "<tr>\n",
       "  <th>Prob(Omnibus):</th>   <td> 0.000</td>   <th>  Jarque-Bera (JB):  </th> <td>586274751643.342</td>\n",
       "</tr>\n",
       "<tr>\n",
       "  <th>Skew:</th>            <td>61.494</td>   <th>  Prob(JB):          </th>     <td>    0.00</td>    \n",
       "</tr>\n",
       "<tr>\n",
       "  <th>Kurtosis:</th>       <td>7759.660</td>  <th>  Cond. No.          </th>     <td>6.75e+06</td>    \n",
       "</tr>\n",
       "</table><br/><br/>Notes:<br/>[1] Standard Errors assume that the covariance matrix of the errors is correctly specified.<br/>[2] The condition number is large, 6.75e+06. This might indicate that there are<br/>strong multicollinearity or other numerical problems."
      ],
      "text/plain": [
       "<class 'statsmodels.iolib.summary.Summary'>\n",
       "\"\"\"\n",
       "                            OLS Regression Results                            \n",
       "==============================================================================\n",
       "Dep. Variable:             sale_price   R-squared:                       0.179\n",
       "Model:                            OLS   Adj. R-squared:                  0.179\n",
       "Method:                 Least Squares   F-statistic:                 1.018e+04\n",
       "Date:                Fri, 09 Jul 2021   Prob (F-statistic):               0.00\n",
       "Time:                        11:41:58   Log-Likelihood:            -3.7954e+06\n",
       "No. Observations:              233805   AIC:                         7.591e+06\n",
       "Df Residuals:                  233799   BIC:                         7.591e+06\n",
       "Df Model:                           5                                         \n",
       "Covariance Type:            nonrobust                                         \n",
       "============================================================================================\n",
       "                               coef    std err          t      P>|t|      [0.025      0.975]\n",
       "--------------------------------------------------------------------------------------------\n",
       "const                     -1.09e+08   2.51e+06    -43.455      0.000   -1.14e+08   -1.04e+08\n",
       "year_of_sale               5.45e+04   1247.790     43.680      0.000    5.21e+04    5.69e+04\n",
       "land_sqft                   25.5136      0.607     42.003      0.000      24.323      26.704\n",
       "gross_sqft                  76.1814      0.476    159.993      0.000      75.248      77.115\n",
       "mins_to_manhattan_bridge -2.365e+04    704.564    -33.567      0.000    -2.5e+04   -2.23e+04\n",
       "tax_class_at_sale         3.377e+05   7907.351     42.702      0.000    3.22e+05    3.53e+05\n",
       "==============================================================================\n",
       "Omnibus:                   792485.007   Durbin-Watson:                   0.479\n",
       "Prob(Omnibus):                  0.000   Jarque-Bera (JB):     586274751643.342\n",
       "Skew:                          61.494   Prob(JB):                         0.00\n",
       "Kurtosis:                    7759.660   Cond. No.                     6.75e+06\n",
       "==============================================================================\n",
       "\n",
       "Notes:\n",
       "[1] Standard Errors assume that the covariance matrix of the errors is correctly specified.\n",
       "[2] The condition number is large, 6.75e+06. This might indicate that there are\n",
       "strong multicollinearity or other numerical problems.\n",
       "\"\"\""
      ]
     },
     "execution_count": 10,
     "metadata": {},
     "output_type": "execute_result"
    }
   ],
   "source": [
    "properties_y = properties['sale_price']\n",
    "properties_x = properties[['const', 'year_of_sale', 'land_sqft', 'gross_sqft', 'mins_to_manhattan_bridge', 'tax_class_at_sale']]\n",
    "properties_ols = sm.OLS(properties_y, properties_x).fit()\n",
    "properties_ols.summary()"
   ]
  },
  {
   "cell_type": "code",
   "execution_count": 11,
   "metadata": {},
   "outputs": [
    {
     "data": {
      "text/html": [
       "<div>\n",
       "<style scoped>\n",
       "    .dataframe tbody tr th:only-of-type {\n",
       "        vertical-align: middle;\n",
       "    }\n",
       "\n",
       "    .dataframe tbody tr th {\n",
       "        vertical-align: top;\n",
       "    }\n",
       "\n",
       "    .dataframe thead th {\n",
       "        text-align: right;\n",
       "    }\n",
       "</style>\n",
       "<table border=\"1\" class=\"dataframe\">\n",
       "  <thead>\n",
       "    <tr style=\"text-align: right;\">\n",
       "      <th></th>\n",
       "      <th>const</th>\n",
       "      <th>Unnamed: 0</th>\n",
       "      <th>neighborhood</th>\n",
       "      <th>building_class_category</th>\n",
       "      <th>tax_class_at_sale</th>\n",
       "      <th>building_class_at_sale</th>\n",
       "      <th>address</th>\n",
       "      <th>sale_price</th>\n",
       "      <th>sale_date</th>\n",
       "      <th>year_of_sale</th>\n",
       "      <th>land_sqft</th>\n",
       "      <th>gross_sqft</th>\n",
       "      <th>OwnerName</th>\n",
       "      <th>month</th>\n",
       "      <th>month_number</th>\n",
       "      <th>month_name</th>\n",
       "      <th>geographical_region</th>\n",
       "      <th>mins_to_manhattan_bridge</th>\n",
       "    </tr>\n",
       "  </thead>\n",
       "  <tbody>\n",
       "    <tr>\n",
       "      <th>0</th>\n",
       "      <td>1.0</td>\n",
       "      <td>0</td>\n",
       "      <td>DOWNTOWN-METROTECH</td>\n",
       "      <td>28  COMMERCIAL CONDOS</td>\n",
       "      <td>4</td>\n",
       "      <td>R5</td>\n",
       "      <td>330 JAY STREET</td>\n",
       "      <td>499401179.0</td>\n",
       "      <td>2008-04-23</td>\n",
       "      <td>2008</td>\n",
       "      <td>0.0</td>\n",
       "      <td>0.0</td>\n",
       "      <td>Anonymous</td>\n",
       "      <td>4</td>\n",
       "      <td>4</td>\n",
       "      <td>April</td>\n",
       "      <td>Northwestern Brooklyn</td>\n",
       "      <td>3</td>\n",
       "    </tr>\n",
       "    <tr>\n",
       "      <th>1</th>\n",
       "      <td>1.0</td>\n",
       "      <td>1</td>\n",
       "      <td>DUMBO</td>\n",
       "      <td>29  COMMERCIAL GARAGES</td>\n",
       "      <td>4</td>\n",
       "      <td>G7</td>\n",
       "      <td>85 JAY STREET</td>\n",
       "      <td>345000000.0</td>\n",
       "      <td>2016-12-20</td>\n",
       "      <td>2016</td>\n",
       "      <td>134988.0</td>\n",
       "      <td>0.0</td>\n",
       "      <td>85 JAY STREET BROOKLY</td>\n",
       "      <td>12</td>\n",
       "      <td>12</td>\n",
       "      <td>December</td>\n",
       "      <td>Northwestern Brooklyn</td>\n",
       "      <td>4</td>\n",
       "    </tr>\n",
       "    <tr>\n",
       "      <th>2</th>\n",
       "      <td>1.0</td>\n",
       "      <td>2</td>\n",
       "      <td>BROOKLYN HEIGHTS</td>\n",
       "      <td>21  OFFICE BUILDINGS</td>\n",
       "      <td>4</td>\n",
       "      <td>O6</td>\n",
       "      <td>29 COLUMBIA HEIGHTS</td>\n",
       "      <td>340000000.0</td>\n",
       "      <td>2016-08-03</td>\n",
       "      <td>2016</td>\n",
       "      <td>32000.0</td>\n",
       "      <td>304650.0</td>\n",
       "      <td>25-30 COLUMBIA HEIGHT</td>\n",
       "      <td>8</td>\n",
       "      <td>8</td>\n",
       "      <td>August</td>\n",
       "      <td>Northwestern Brooklyn</td>\n",
       "      <td>7</td>\n",
       "    </tr>\n",
       "    <tr>\n",
       "      <th>3</th>\n",
       "      <td>1.0</td>\n",
       "      <td>3</td>\n",
       "      <td>MILL BASIN</td>\n",
       "      <td>22  STORE BUILDINGS</td>\n",
       "      <td>4</td>\n",
       "      <td>K6</td>\n",
       "      <td>5120 AVENUE U</td>\n",
       "      <td>276947000.0</td>\n",
       "      <td>2012-11-28</td>\n",
       "      <td>2012</td>\n",
       "      <td>905000.0</td>\n",
       "      <td>2548000.0</td>\n",
       "      <td>BROOKLYN KINGS PLAZA</td>\n",
       "      <td>11</td>\n",
       "      <td>11</td>\n",
       "      <td>November</td>\n",
       "      <td>Southern Brooklyn</td>\n",
       "      <td>33</td>\n",
       "    </tr>\n",
       "    <tr>\n",
       "      <th>4</th>\n",
       "      <td>1.0</td>\n",
       "      <td>4</td>\n",
       "      <td>BROOKLYN HEIGHTS</td>\n",
       "      <td>26 OTHER HOTELS</td>\n",
       "      <td>4</td>\n",
       "      <td>H8</td>\n",
       "      <td>21 CLARK STREET</td>\n",
       "      <td>202500000.0</td>\n",
       "      <td>2017-10-31</td>\n",
       "      <td>2017</td>\n",
       "      <td>20267.0</td>\n",
       "      <td>356000.0</td>\n",
       "      <td>WATCHTOWER C/O REAL P</td>\n",
       "      <td>10</td>\n",
       "      <td>10</td>\n",
       "      <td>October</td>\n",
       "      <td>Northwestern Brooklyn</td>\n",
       "      <td>7</td>\n",
       "    </tr>\n",
       "  </tbody>\n",
       "</table>\n",
       "</div>"
      ],
      "text/plain": [
       "   const  Unnamed: 0        neighborhood building_class_category  \\\n",
       "0    1.0           0  DOWNTOWN-METROTECH   28  COMMERCIAL CONDOS   \n",
       "1    1.0           1               DUMBO  29  COMMERCIAL GARAGES   \n",
       "2    1.0           2    BROOKLYN HEIGHTS    21  OFFICE BUILDINGS   \n",
       "3    1.0           3          MILL BASIN     22  STORE BUILDINGS   \n",
       "4    1.0           4    BROOKLYN HEIGHTS         26 OTHER HOTELS   \n",
       "\n",
       "   tax_class_at_sale building_class_at_sale              address   sale_price  \\\n",
       "0                  4                     R5       330 JAY STREET  499401179.0   \n",
       "1                  4                     G7        85 JAY STREET  345000000.0   \n",
       "2                  4                     O6  29 COLUMBIA HEIGHTS  340000000.0   \n",
       "3                  4                     K6        5120 AVENUE U  276947000.0   \n",
       "4                  4                     H8      21 CLARK STREET  202500000.0   \n",
       "\n",
       "    sale_date  year_of_sale  land_sqft  gross_sqft              OwnerName  \\\n",
       "0  2008-04-23          2008        0.0         0.0              Anonymous   \n",
       "1  2016-12-20          2016   134988.0         0.0  85 JAY STREET BROOKLY   \n",
       "2  2016-08-03          2016    32000.0    304650.0  25-30 COLUMBIA HEIGHT   \n",
       "3  2012-11-28          2012   905000.0   2548000.0   BROOKLYN KINGS PLAZA   \n",
       "4  2017-10-31          2017    20267.0    356000.0  WATCHTOWER C/O REAL P   \n",
       "\n",
       "   month  month_number month_name    geographical_region  \\\n",
       "0      4             4      April  Northwestern Brooklyn   \n",
       "1     12            12   December  Northwestern Brooklyn   \n",
       "2      8             8     August  Northwestern Brooklyn   \n",
       "3     11            11   November      Southern Brooklyn   \n",
       "4     10            10    October  Northwestern Brooklyn   \n",
       "\n",
       "   mins_to_manhattan_bridge  \n",
       "0                         3  \n",
       "1                         4  \n",
       "2                         7  \n",
       "3                        33  \n",
       "4                         7  "
      ]
     },
     "execution_count": 11,
     "metadata": {},
     "output_type": "execute_result"
    }
   ],
   "source": [
    "properties.head()"
   ]
  },
  {
   "cell_type": "markdown",
   "metadata": {},
   "source": [
    "#### CREATING A REGRESSION TO SEE THE IMPACT OF YEARS ON MEDIAN SALE PRICE OF PRROPERTIES IN BROOKLYN\n",
    "We are going to deploy two libraries to build a regression model between the dependent variable(sale_price) and independent variable(year_of_sale).\n",
    "- Using the Scikit learn package to fit our model and to see the value of R-Squared score.\n",
    "- Using the statsmodel to fit our model and also get the statistical summary of our model which is important."
   ]
  },
  {
   "cell_type": "code",
   "execution_count": 12,
   "metadata": {},
   "outputs": [],
   "source": [
    "#grouping by the year and getting the median sale price for each year\n",
    "year_price = properties.groupby(\"year_of_sale\")[\"sale_price\"].median().reset_index().rename(columns=({\"sale_price\":\n",
    "                                                                                                      \"median_sale_price\"}))"
   ]
  },
  {
   "cell_type": "code",
   "execution_count": 13,
   "metadata": {},
   "outputs": [
    {
     "data": {
      "image/png": "[encoded data removed]",
      "text/plain": [
       "<Figure size 1224x576 with 1 Axes>"
      ]
     },
     "metadata": {
      "needs_background": "light"
     },
     "output_type": "display_data"
    }
   ],
   "source": [
    "plt.figure(figsize=(17, 8))\n",
    "plt.ticklabel_format(axis=\"y\", style=\"plain\")\n",
    "plt.scatter(year_price[\"year_of_sale\"], year_price[\"median_sale_price\"], color = \"red\")\n",
    "plt.xlabel(\"years\")\n",
    "plt.ylabel(\"median_sale_price\")\n",
    "plt.title(\"PROPERTIES MEDIAN SALES PRICE PER YEAR\")\n",
    "plt.show()"
   ]
  },
  {
   "cell_type": "markdown",
   "metadata": {},
   "source": [
    "#### USING THE SCIKIT LEARN PACKAGE"
   ]
  },
  {
   "cell_type": "code",
   "execution_count": 14,
   "metadata": {},
   "outputs": [],
   "source": [
    "x = year_price[[\"year_of_sale\"]]\n",
    "y = year_price[[\"median_sale_price\"]]"
   ]
  },
  {
   "cell_type": "code",
   "execution_count": 15,
   "metadata": {},
   "outputs": [
    {
     "data": {
      "text/plain": [
       "LinearRegression()"
      ]
     },
     "execution_count": 15,
     "metadata": {},
     "output_type": "execute_result"
    }
   ],
   "source": [
    "regressor = LinearRegression()\n",
    "regressor.fit(x, y)"
   ]
  },
  {
   "cell_type": "code",
   "execution_count": 16,
   "metadata": {},
   "outputs": [
    {
     "data": {
      "text/plain": [
       "0.7339522650611809"
      ]
     },
     "execution_count": 16,
     "metadata": {},
     "output_type": "execute_result"
    }
   ],
   "source": [
    "# R-Squared value\n",
    "regressor.score(x, y)"
   ]
  },
  {
   "cell_type": "code",
   "execution_count": 17,
   "metadata": {},
   "outputs": [
    {
     "data": {
      "text/plain": [
       "(array([[23197.95]]), array([-46073997.03333332]))"
      ]
     },
     "execution_count": 17,
     "metadata": {},
     "output_type": "execute_result"
    }
   ],
   "source": [
    "# value of y-intercept and the coefficient.\n",
    "regressor.coef_, regressor.intercept_"
   ]
  },
  {
   "cell_type": "code",
   "execution_count": 18,
   "metadata": {},
   "outputs": [
    {
     "data": {
      "text/plain": [
       "Text(0, 0.5, 'median_sale_price')"
      ]
     },
     "execution_count": 18,
     "metadata": {},
     "output_type": "execute_result"
    },
    {
     "data": {
      "image/png": "[encoded data removed]",
      "text/plain": [
       "<Figure size 864x576 with 1 Axes>"
      ]
     },
     "metadata": {
      "needs_background": "light"
     },
     "output_type": "display_data"
    }
   ],
   "source": [
    "# Fitting of best fit line(regression line)\n",
    "plt.figure(figsize=(12, 8))\n",
    "plt.ticklabel_format(axis=\"y\", style=\"plain\")\n",
    "plt.scatter(year_price[\"year_of_sale\"], year_price[\"median_sale_price\"], color =\"red\")\n",
    "plt.plot(year_price[\"year_of_sale\"], regressor.predict(x))\n",
    "plt.xlabel(\"years\")\n",
    "plt.ylabel(\"median_sale_price\")"
   ]
  },
  {
   "cell_type": "markdown",
   "metadata": {},
   "source": [
    "The regression plot above visualize a consistent upward trend except after 2007 which was as a result of a the Great recession and we can see the increase was again consistent after 2009.\n",
    "#### USING THE STATSMODEL"
   ]
  },
  {
   "cell_type": "code",
   "execution_count": 20,
   "metadata": {},
   "outputs": [],
   "source": [
    "# Creating the constant column\n",
    "year_price = sm.add_constant(year_price)"
   ]
  },
  {
   "cell_type": "code",
   "execution_count": 21,
   "metadata": {},
   "outputs": [
    {
     "data": {
      "text/html": [
       "<table class=\"simpletable\">\n",
       "<caption>OLS Regression Results</caption>\n",
       "<tr>\n",
       "  <th>Dep. Variable:</th>    <td>median_sale_price</td> <th>  R-squared:         </th> <td>   0.734</td>\n",
       "</tr>\n",
       "<tr>\n",
       "  <th>Model:</th>                   <td>OLS</td>        <th>  Adj. R-squared:    </th> <td>   0.713</td>\n",
       "</tr>\n",
       "<tr>\n",
       "  <th>Method:</th>             <td>Least Squares</td>   <th>  F-statistic:       </th> <td>   35.86</td>\n",
       "</tr>\n",
       "<tr>\n",
       "  <th>Date:</th>             <td>Fri, 09 Jul 2021</td>  <th>  Prob (F-statistic):</th> <td>4.53e-05</td>\n",
       "</tr>\n",
       "<tr>\n",
       "  <th>Time:</th>                 <td>12:27:31</td>      <th>  Log-Likelihood:    </th> <td> -186.40</td>\n",
       "</tr>\n",
       "<tr>\n",
       "  <th>No. Observations:</th>      <td>    15</td>       <th>  AIC:               </th> <td>   376.8</td>\n",
       "</tr>\n",
       "<tr>\n",
       "  <th>Df Residuals:</th>          <td>    13</td>       <th>  BIC:               </th> <td>   378.2</td>\n",
       "</tr>\n",
       "<tr>\n",
       "  <th>Df Model:</th>              <td>     1</td>       <th>                     </th>     <td> </td>   \n",
       "</tr>\n",
       "<tr>\n",
       "  <th>Covariance Type:</th>      <td>nonrobust</td>     <th>                     </th>     <td> </td>   \n",
       "</tr>\n",
       "</table>\n",
       "<table class=\"simpletable\">\n",
       "<tr>\n",
       "        <td></td>          <th>coef</th>     <th>std err</th>      <th>t</th>      <th>P>|t|</th>  <th>[0.025</th>    <th>0.975]</th>  \n",
       "</tr>\n",
       "<tr>\n",
       "  <th>const</th>        <td>-4.607e+07</td> <td> 7.79e+06</td> <td>   -5.917</td> <td> 0.000</td> <td>-6.29e+07</td> <td>-2.93e+07</td>\n",
       "</tr>\n",
       "<tr>\n",
       "  <th>year_of_sale</th> <td>  2.32e+04</td> <td> 3873.681</td> <td>    5.989</td> <td> 0.000</td> <td> 1.48e+04</td> <td> 3.16e+04</td>\n",
       "</tr>\n",
       "</table>\n",
       "<table class=\"simpletable\">\n",
       "<tr>\n",
       "  <th>Omnibus:</th>       <td> 5.047</td> <th>  Durbin-Watson:     </th> <td>   0.445</td>\n",
       "</tr>\n",
       "<tr>\n",
       "  <th>Prob(Omnibus):</th> <td> 0.080</td> <th>  Jarque-Bera (JB):  </th> <td>   1.456</td>\n",
       "</tr>\n",
       "<tr>\n",
       "  <th>Skew:</th>          <td> 0.173</td> <th>  Prob(JB):          </th> <td>   0.483</td>\n",
       "</tr>\n",
       "<tr>\n",
       "  <th>Kurtosis:</th>      <td> 1.514</td> <th>  Cond. No.          </th> <td>9.35e+05</td>\n",
       "</tr>\n",
       "</table><br/><br/>Notes:<br/>[1] Standard Errors assume that the covariance matrix of the errors is correctly specified.<br/>[2] The condition number is large, 9.35e+05. This might indicate that there are<br/>strong multicollinearity or other numerical problems."
      ],
      "text/plain": [
       "<class 'statsmodels.iolib.summary.Summary'>\n",
       "\"\"\"\n",
       "                            OLS Regression Results                            \n",
       "==============================================================================\n",
       "Dep. Variable:      median_sale_price   R-squared:                       0.734\n",
       "Model:                            OLS   Adj. R-squared:                  0.713\n",
       "Method:                 Least Squares   F-statistic:                     35.86\n",
       "Date:                Fri, 09 Jul 2021   Prob (F-statistic):           4.53e-05\n",
       "Time:                        12:27:31   Log-Likelihood:                -186.40\n",
       "No. Observations:                  15   AIC:                             376.8\n",
       "Df Residuals:                      13   BIC:                             378.2\n",
       "Df Model:                           1                                         \n",
       "Covariance Type:            nonrobust                                         \n",
       "================================================================================\n",
       "                   coef    std err          t      P>|t|      [0.025      0.975]\n",
       "--------------------------------------------------------------------------------\n",
       "const        -4.607e+07   7.79e+06     -5.917      0.000   -6.29e+07   -2.93e+07\n",
       "year_of_sale   2.32e+04   3873.681      5.989      0.000    1.48e+04    3.16e+04\n",
       "==============================================================================\n",
       "Omnibus:                        5.047   Durbin-Watson:                   0.445\n",
       "Prob(Omnibus):                  0.080   Jarque-Bera (JB):                1.456\n",
       "Skew:                           0.173   Prob(JB):                        0.483\n",
       "Kurtosis:                       1.514   Cond. No.                     9.35e+05\n",
       "==============================================================================\n",
       "\n",
       "Notes:\n",
       "[1] Standard Errors assume that the covariance matrix of the errors is correctly specified.\n",
       "[2] The condition number is large, 9.35e+05. This might indicate that there are\n",
       "strong multicollinearity or other numerical problems.\n",
       "\"\"\""
      ]
     },
     "execution_count": 21,
     "metadata": {},
     "output_type": "execute_result"
    }
   ],
   "source": [
    "# Fitting our OLS model\n",
    "year_price_y = year_price[\"median_sale_price\"]\n",
    "year_price_x = year_price[['const', 'year_of_sale']]\n",
    "year_price_ols = sm.OLS(year_price_y, year_price_x).fit()\n",
    "year_price_ols.summary()"
   ]
  },
  {
   "cell_type": "markdown",
   "metadata": {},
   "source": [
    "The statistical summary above shows the same R-Squared as using the scikit learn and with R-Squared of 0.734, it shows a strong model and this interprets that 73% of the median prices of properties in Brooklyn is impacted as the year increases, this model score would have been more than 0.734 if not for the recession that hit the real estate market.\n",
    "##### CHECKING CORRELATION BETWEEN THE DISTANCE TO MANHATTAN BRIDGE AND THE MEDIAN SALES PRICE\n",
    "It's surprising how none of the features we used in our multivariate regression earlier is not impacting the sale price. We have decided to groupby the minutes to mahattan bridge and the average sale price and check patterns in this and build a regression model on this to check."
   ]
  },
  {
   "cell_type": "code",
   "execution_count": 22,
   "metadata": {},
   "outputs": [],
   "source": [
    "mins_sale = properties.groupby(\"mins_to_manhattan_bridge\")[\"sale_price\"].mean().round(0).reset_index().rename(columns=({\"sale_price\":\n",
    "                                                                                                                        \"average_sale_price\"}))"
   ]
  },
  {
   "cell_type": "code",
   "execution_count": 23,
   "metadata": {},
   "outputs": [
    {
     "data": {
      "image/png": "[encoded data removed]",
      "text/plain": [
       "<Figure size 1080x576 with 1 Axes>"
      ]
     },
     "metadata": {
      "needs_background": "light"
     },
     "output_type": "display_data"
    }
   ],
   "source": [
    "# visualizing the trend between the mins_to_manhattan_bridge and the average_price\n",
    "plt.figure(figsize=(15, 8))\n",
    "plt.scatter(mins_sale.mins_to_manhattan_bridge, mins_sale.average_sale_price)\n",
    "plt.ticklabel_format(axis=\"y\", style=\"plain\")\n",
    "plt.xlabel(\"minutes to manhattan bridge\")\n",
    "plt.ylabel(\"average_sale_price\")\n",
    "plt.show()"
   ]
  },
  {
   "cell_type": "markdown",
   "metadata": {},
   "source": [
    "Looking at the scatter plot above, we can see that there is a downward trend in the pattern which highlights that the farther away from manhattan bridge the lesser the average sale price of properties in those neighborhood, however there is one of the data point above that is 33 minutes away and it seems expensive, this makes us curious if this represents the other data point, we needs to investigate this neigbborhood before removing this point."
   ]
  },
  {
   "cell_type": "code",
   "execution_count": 24,
   "metadata": {},
   "outputs": [
    {
     "data": {
      "text/plain": [
       "array(['MILL BASIN'], dtype=object)"
      ]
     },
     "execution_count": 24,
     "metadata": {},
     "output_type": "execute_result"
    }
   ],
   "source": [
    "properties.loc[properties.mins_to_manhattan_bridge == 33][\"neighborhood\"].unique()"
   ]
  },
  {
   "cell_type": "markdown",
   "metadata": {},
   "source": [
    "The neighborhood in question is MILL BASIN. This neighborhood is a boaters and sun lovers neighborhood which ceratinly makes it different from the other neighborhood that are far from manhattan bridge, this is an expensive neighborhood with lot of waterfront homes, homes surrounded by beach which can be seen on https://www.youtube.com/watch?v=5gu7hMZm_4Q. We can see this neighborhood is an exception and it certainly does not reflect other data point, so it's reasonable to remove this data point so as to strengthen our model."
   ]
  },
  {
   "cell_type": "code",
   "execution_count": 25,
   "metadata": {},
   "outputs": [],
   "source": [
    "mins_sale.drop(index=[24], inplace = True)"
   ]
  },
  {
   "cell_type": "code",
   "execution_count": 26,
   "metadata": {},
   "outputs": [
    {
     "data": {
      "image/png": "[encoded data removed]",
      "text/plain": [
       "<Figure size 1080x576 with 1 Axes>"
      ]
     },
     "metadata": {
      "needs_background": "light"
     },
     "output_type": "display_data"
    }
   ],
   "source": [
    "plt.figure(figsize=(15, 8))\n",
    "plt.scatter(mins_sale.mins_to_manhattan_bridge, mins_sale.average_sale_price)\n",
    "plt.ticklabel_format(axis=\"y\", style=\"plain\")\n",
    "plt.xlabel(\"minutes to manhattan bridge\")\n",
    "plt.ylabel(\"average_sale_price\")\n",
    "plt.show()"
   ]
  },
  {
   "cell_type": "code",
   "execution_count": 27,
   "metadata": {},
   "outputs": [],
   "source": [
    "X = mins_sale[[\"mins_to_manhattan_bridge\"]]\n",
    "Y = mins_sale[[\"average_sale_price\"]]"
   ]
  },
  {
   "cell_type": "code",
   "execution_count": 28,
   "metadata": {},
   "outputs": [
    {
     "data": {
      "text/plain": [
       "LinearRegression()"
      ]
     },
     "execution_count": 28,
     "metadata": {},
     "output_type": "execute_result"
    }
   ],
   "source": [
    "regressor = LinearRegression()\n",
    "regressor.fit(X, Y)"
   ]
  },
  {
   "cell_type": "code",
   "execution_count": 29,
   "metadata": {},
   "outputs": [
    {
     "data": {
      "image/png": "[encoded data removed]",
      "text/plain": [
       "<Figure size 1080x576 with 1 Axes>"
      ]
     },
     "metadata": {
      "needs_background": "light"
     },
     "output_type": "display_data"
    }
   ],
   "source": [
    "plt.figure(figsize=(15, 8))\n",
    "plt.scatter(mins_sale.mins_to_manhattan_bridge, mins_sale.average_sale_price)\n",
    "plt.plot(mins_sale.mins_to_manhattan_bridge, regressor.predict(mins_sale[[\"mins_to_manhattan_bridge\"]]))\n",
    "plt.ticklabel_format(axis=\"y\", style=\"plain\")\n",
    "plt.xlabel(\"minutes to manhattan bridge\")\n",
    "plt.ylabel(\"average_sale_price\")\n",
    "plt.show()"
   ]
  },
  {
   "cell_type": "code",
   "execution_count": 30,
   "metadata": {},
   "outputs": [
    {
     "data": {
      "text/plain": [
       "0.7620357229236601"
      ]
     },
     "execution_count": 30,
     "metadata": {},
     "output_type": "execute_result"
    }
   ],
   "source": [
    "regressor.score(X,Y)"
   ]
  },
  {
   "cell_type": "code",
   "execution_count": 31,
   "metadata": {},
   "outputs": [
    {
     "data": {
      "text/plain": [
       "(array([1647320.71236767]), array([[-37157.71085076]]))"
      ]
     },
     "execution_count": 31,
     "metadata": {},
     "output_type": "execute_result"
    }
   ],
   "source": [
    "regressor.intercept_, regressor.coef_"
   ]
  },
  {
   "cell_type": "markdown",
   "metadata": {},
   "source": [
    "With an R-Squared of our model being 0.76, we can say that 76% of the average sale price of the neighborhoods can be explained by the minutes to manhattan bridge."
   ]
  },
  {
   "cell_type": "code",
   "execution_count": null,
   "metadata": {},
   "outputs": [],
   "source": []
  }
 ],
 "metadata": {
  "kernelspec": {
   "display_name": "Python 3",
   "language": "python",
   "name": "python3"
  },
  "language_info": {
   "codemirror_mode": {
    "name": "ipython",
    "version": 3
   },
   "file_extension": ".py",
   "mimetype": "text/x-python",
   "name": "python",
   "nbconvert_exporter": "python",
   "pygments_lexer": "ipython3",
   "version": "3.8.5"
  }
 },
 "nbformat": 4,
 "nbformat_minor": 4
}
